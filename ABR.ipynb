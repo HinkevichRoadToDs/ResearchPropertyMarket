{
 "cells": [
  {
   "cell_type": "code",
   "execution_count": 53,
   "id": "958dd644",
   "metadata": {},
   "outputs": [],
   "source": [
    "import pandas as pd\n",
    "import numpy as np\n",
    "import seaborn as sns\n",
    "import scipy.stats as stats\n",
    "import matplotlib.pyplot as plt\n",
    "from sklearn.preprocessing import LabelEncoder,PolynomialFeatures,StandardScaler,RobustScaler\n",
    "from sklearn.linear_model import LinearRegression,Ridge,Lasso\n",
    "from sklearn.ensemble import AdaBoostRegressor\n",
    "from sklearn.tree import DecisionTreeRegressor\n",
    "from sklearn.metrics import accuracy_score,precision_recall_fscore_support,f1_score, \\\n",
    "    r2_score, mean_absolute_error, mean_squared_error, classification_report,median_absolute_error\n",
    "from sklearn.model_selection import train_test_split,cross_val_score\n",
    "import statsmodels.api as sm\n",
    "import copy\n",
    "import joblib"
   ]
  },
  {
   "cell_type": "code",
   "execution_count": 2,
   "id": "616249ec",
   "metadata": {},
   "outputs": [],
   "source": [
    "import warnings\n",
    "warnings.filterwarnings('ignore')\n",
    "warnings.warn('DelftStack')\n",
    "warnings.warn('Do not show this message')"
   ]
  },
  {
   "cell_type": "markdown",
   "id": "f20f06b2",
   "metadata": {},
   "source": [
    "# Первоначальная предобработка данных(квартиры на продажу в Москве и Санкт-Петербурге)"
   ]
  },
  {
   "cell_type": "code",
   "execution_count": 3,
   "id": "95f6d097",
   "metadata": {},
   "outputs": [
    {
     "data": {
      "text/plain": [
       "total_meters            object\n",
       "price_per_m2             int64\n",
       "year_of_construction    object\n",
       "living_meters           object\n",
       "kitchen_meters          object\n",
       "dtype: object"
      ]
     },
     "execution_count": 3,
     "metadata": {},
     "output_type": "execute_result"
    }
   ],
   "source": [
    "data = pd.read_csv('https://docs.google.com/spreadsheets/d/e/2PACX-1vQxxmZm6YG54VucQ9yRgWFQXtOI-RFJ5-sOLT93LpaYGYc-vabL9LOzzkRXX-LmSROTA7hOL1C327nZ/pub?gid=213261502&single=true&output=csv')\n",
    "data['flat_id'] = data['link'].str.extract('(\\d+)')\n",
    "\n",
    "data.drop('link', axis = 1,inplace = True)\n",
    "\n",
    "data.drop(['accommodation_type','deal_type'],axis = 1,inplace = True)\n",
    "\n",
    "data.drop('phone', axis =1, inplace=True)\n",
    "\n",
    "data_duplicated_indexes = data[data.duplicated() == True].index\n",
    "\n",
    "data = data.drop(data_duplicated_indexes, axis =0)\n",
    "\n",
    "data[['total_meters', \n",
    "      'price_per_m2',\n",
    "      'year_of_construction',\n",
    "      'living_meters',\n",
    "      'kitchen_meters']] = data[['total_meters', 'price_per_m2','year_of_construction','living_meters','kitchen_meters']].replace(-1.0, None)\n",
    "\n",
    "data[['total_meters', \n",
    "      'price_per_m2',\n",
    "      'year_of_construction',\n",
    "      'living_meters',\n",
    "      'kitchen_meters']].dtypes"
   ]
  },
  {
   "cell_type": "code",
   "execution_count": 4,
   "id": "73c915d2",
   "metadata": {},
   "outputs": [
    {
     "data": {
      "text/plain": [
       "author                    91\n",
       "author_type               80\n",
       "city                       0\n",
       "floor                      0\n",
       "floors_count               0\n",
       "rooms_count                0\n",
       "total_meters               9\n",
       "price_per_m2               0\n",
       "price                      0\n",
       "year_of_construction     719\n",
       "living_meters           3278\n",
       "kitchen_meters          3508\n",
       "district                 764\n",
       "street                  1527\n",
       "underground              643\n",
       "residential_complex     5898\n",
       "flat_id                    0\n",
       "dtype: int64"
      ]
     },
     "execution_count": 4,
     "metadata": {},
     "output_type": "execute_result"
    }
   ],
   "source": [
    "data.isna().sum()"
   ]
  },
  {
   "cell_type": "code",
   "execution_count": 5,
   "id": "7720d379",
   "metadata": {},
   "outputs": [],
   "source": [
    "data.drop(data[(data.isna().sum(axis=1) >= 4)].index, axis = 0, inplace =True)\n",
    "\n",
    "data.loc[(data.price_per_m2 <=0),'price_per_m2'] = None \n",
    "\n",
    "data.isna().sum()\n",
    "\n",
    "data['author'].fillna(data['author'].mode()[0], inplace =True)\n",
    "data['author_type'].fillna(data['author_type'].mode()[0], inplace =True)\n",
    "\n",
    "data[['total_meters',\n",
    "             'living_meters',\n",
    "             'kitchen_meters']] = data[['total_meters','living_meters','kitchen_meters']].astype('float64')\n",
    "\n",
    "data['total_meters'].fillna(data['total_meters'].median(), inplace =True)\n",
    "data['price_per_m2'].fillna(data['price_per_m2'].median(), inplace =True)\n",
    "\n",
    "data['year_of_construction'] = data['year_of_construction'].astype('int64',errors='ignore')\n",
    "\n",
    "data.isna().sum()\n",
    "\n",
    "data = data.drop(data[data['year_of_construction'].isna()].index, axis = 0)\n",
    "\n",
    "data = data.drop(data[data['living_meters'] < 0].index, axis = 0)"
   ]
  },
  {
   "cell_type": "code",
   "execution_count": 6,
   "id": "bc68d9b2",
   "metadata": {
    "scrolled": true
   },
   "outputs": [],
   "source": [
    "# проверял содержат ли переменные символы, отличные букв\n",
    "#data[data.underground.str.contains(r'[^\\D]',regex =True, na=False)] \n",
    "data = data.drop(data.loc[data['author'].str.contains('ID',na = False), 'author'].index)"
   ]
  },
  {
   "cell_type": "markdown",
   "id": "547c1764",
   "metadata": {},
   "source": [
    "## living_meters (исследование признака и заполнение пропусков)"
   ]
  },
  {
   "cell_type": "markdown",
   "id": "73fe48bb",
   "metadata": {},
   "source": [
    "## Условия для линейной регрессии\n",
    "1. Количественные переменные\n",
    "2. линейная связь между зависимой и независимыми переменными(есть)\n",
    "3. нормальное распределение ошибок\n",
    "4. Гомоскедастичность(остатки имеют плюс-минус равную дисперсию во всех значениях х)\n",
    "5. Отсутствует мультиколлинеарность(независимые переменные:,'total_meters','kitchen_meters','price'), почти отсутсвует"
   ]
  },
  {
   "cell_type": "markdown",
   "id": "e6bfa271",
   "metadata": {},
   "source": [
    "## Полиномиальная регрессия - оказалась лучше множественной линейной регрессии(лучший набор признаков : 1,3,4)"
   ]
  },
  {
   "cell_type": "code",
   "execution_count": 7,
   "id": "6b970351",
   "metadata": {},
   "outputs": [],
   "source": [
    "# создаю датасет для регрессии\n",
    "data_reg = data[['living_meters','total_meters','price','kitchen_meters','rooms_count']].copy()"
   ]
  },
  {
   "cell_type": "code",
   "execution_count": 8,
   "id": "ff17d2a1",
   "metadata": {
    "scrolled": true
   },
   "outputs": [
    {
     "name": "stdout",
     "output_type": "stream",
     "text": [
      "mae: 9.844 \n",
      "mse: 284.843 \n",
      "rmse: 16.877 \n",
      "r2:0.813\n",
      "1.9768226645875424\n",
      "CV R^2: 0.787 +- 0.057\n"
     ]
    },
    {
     "data": {
      "image/png": "[encoded data removed]",
      "text/plain": [
       "<Figure size 500x500 with 1 Axes>"
      ]
     },
     "metadata": {},
     "output_type": "display_data"
    },
    {
     "data": {
      "image/png": "[encoded data removed]",
      "text/plain": [
       "<Figure size 300x300 with 1 Axes>"
      ]
     },
     "metadata": {},
     "output_type": "display_data"
    },
    {
     "data": {
      "image/png": "[encoded data removed]",
      "text/plain": [
       "<Figure size 500x500 with 1 Axes>"
      ]
     },
     "metadata": {},
     "output_type": "display_data"
    }
   ],
   "source": [
    "y_living_meters = data_reg[(data_reg['living_meters'].notnull())]['living_meters']\n",
    "X_living_meters = data_reg[(data_reg['living_meters'].notnull())].iloc[:,[1,2,4]]\n",
    "\n",
    "X_train, X_test, y_train, y_test = train_test_split(X_living_meters, y_living_meters, test_size=0.2, random_state=42)\n",
    "\n",
    "poly = PolynomialFeatures(degree=1)\n",
    "X_train = poly.fit_transform(X_train)\n",
    "X_test = poly.fit_transform(X_test)\n",
    "lr = LinearRegression(fit_intercept=True)\n",
    "\n",
    "lr.fit(X_train,y_train)\n",
    "y_pred = lr.predict(X_test)\n",
    "resid = y_test - y_pred\n",
    "\n",
    "mae = mean_absolute_error(y_test, y_pred) \n",
    "# rmse насколько в среднем по модулю отличаются предсказанные от истинных в оригинальных единицах измерения\n",
    "mse = mean_squared_error(y_test, y_pred) # mse и rmse сильнее подвержены влиянию выбросов, чем mae\n",
    "rmse = np.sqrt(mse)\n",
    "r2 = r2_score(y_test, y_pred)\n",
    "print('mae: %.3f \\nmse: %.3f \\nrmse: %.3f \\nr2:%.3f'%(mae,mse,rmse,r2))\n",
    "\n",
    "plt.figure(figsize=(5, 5))\n",
    "sns.histplot(y_pred,bins = 75)\n",
    "sns.histplot(y_test,bins = 75);\n",
    "\n",
    "print(sm.stats.stattools.durbin_watson(resid))\n",
    "\n",
    "# распределение ошибок\n",
    "plt.figure(figsize= (3,3))\n",
    "plt.hist(resid,bins = 30);\n",
    "\n",
    "scores = cross_val_score(lr, X_test, y_test, cv=5)\n",
    "print('CV R^2: {:.3f} +- {:.3f}'.format(np.mean(scores), np.std(scores)))\n",
    "\n",
    "living_meters_nan = data[data.living_meters.isna()][['total_meters','price','rooms_count']]\n",
    "living_meters_nan = poly.fit_transform(living_meters_nan)\n",
    "living_meters_nan = lr.predict(living_meters_nan)\n",
    "\n",
    "plt.figure(figsize=(5, 5))\n",
    "sns.histplot(living_meters_nan,bins = 75);\n",
    "\n",
    "data.loc[data.living_meters.isna(),'living_meters'] = living_meters_nan"
   ]
  },
  {
   "cell_type": "markdown",
   "id": "53f661e0",
   "metadata": {},
   "source": [
    "# Удаляю все наблюдения, которые не удалось заполнить"
   ]
  },
  {
   "cell_type": "code",
   "execution_count": 9,
   "id": "a4e7df69",
   "metadata": {},
   "outputs": [
    {
     "data": {
      "text/plain": [
       "(13628, 17)"
      ]
     },
     "execution_count": 9,
     "metadata": {},
     "output_type": "execute_result"
    }
   ],
   "source": [
    "data.shape"
   ]
  },
  {
   "cell_type": "code",
   "execution_count": 10,
   "id": "225717fc",
   "metadata": {},
   "outputs": [
    {
     "data": {
      "text/plain": [
       "author                     0\n",
       "author_type                0\n",
       "city                       0\n",
       "floor                      0\n",
       "floors_count               0\n",
       "rooms_count                0\n",
       "total_meters               0\n",
       "price_per_m2               0\n",
       "price                      0\n",
       "year_of_construction       0\n",
       "living_meters              0\n",
       "kitchen_meters          2769\n",
       "district                 531\n",
       "street                  1265\n",
       "underground              476\n",
       "residential_complex     4660\n",
       "flat_id                    0\n",
       "dtype: int64"
      ]
     },
     "execution_count": 10,
     "metadata": {},
     "output_type": "execute_result"
    }
   ],
   "source": [
    "data.isna().sum()"
   ]
  },
  {
   "cell_type": "code",
   "execution_count": 11,
   "id": "87c54dfe",
   "metadata": {},
   "outputs": [],
   "source": [
    "data.drop(data[data.street.isna()].index, inplace = True)\n",
    "data.drop(data[data.kitchen_meters.isna()].index, inplace = True)\n",
    "data.drop(data[data.underground.isna()].index, inplace = True)\n",
    "data.drop(['residential_complex'] , axis = 1, inplace = True)"
   ]
  },
  {
   "cell_type": "code",
   "execution_count": 12,
   "id": "f0bd7b7c",
   "metadata": {},
   "outputs": [
    {
     "data": {
      "text/plain": [
       "(9387, 16)"
      ]
     },
     "execution_count": 12,
     "metadata": {},
     "output_type": "execute_result"
    }
   ],
   "source": [
    "data.shape"
   ]
  },
  {
   "cell_type": "code",
   "execution_count": 13,
   "id": "c232040f",
   "metadata": {},
   "outputs": [
    {
     "data": {
      "text/plain": [
       "author                  0\n",
       "author_type             0\n",
       "city                    0\n",
       "floor                   0\n",
       "floors_count            0\n",
       "rooms_count             0\n",
       "total_meters            0\n",
       "price_per_m2            0\n",
       "price                   0\n",
       "year_of_construction    0\n",
       "living_meters           0\n",
       "kitchen_meters          0\n",
       "district                0\n",
       "street                  0\n",
       "underground             0\n",
       "flat_id                 0\n",
       "dtype: int64"
      ]
     },
     "execution_count": 13,
     "metadata": {},
     "output_type": "execute_result"
    }
   ],
   "source": [
    "data.isna().sum()"
   ]
  },
  {
   "cell_type": "markdown",
   "id": "88d1c0fe",
   "metadata": {},
   "source": [
    "# Основной алгоритм"
   ]
  },
  {
   "cell_type": "code",
   "execution_count": 28,
   "id": "c88df96e",
   "metadata": {},
   "outputs": [],
   "source": [
    "data['year_of_construction'] = data.year_of_construction.astype('int32')"
   ]
  },
  {
   "cell_type": "code",
   "execution_count": 14,
   "id": "a0519c8d",
   "metadata": {},
   "outputs": [
    {
     "data": {
      "image/png": "[encoded data removed]",
      "text/plain": [
       "<Figure size 300x300 with 1 Axes>"
      ]
     },
     "metadata": {},
     "output_type": "display_data"
    }
   ],
   "source": [
    "plt.figure(figsize = (3,3))\n",
    "sns.histplot(data=data['price'],bins =50);"
   ]
  },
  {
   "cell_type": "code",
   "execution_count": 196,
   "id": "1327307b",
   "metadata": {},
   "outputs": [],
   "source": [
    "y = data['price'].copy()\n",
    "X = data.loc[:,['city','floors_count', 'rooms_count',\n",
    "                'total_meters', 'year_of_construction','living_meters', 'kitchen_meters', \n",
    "                'district', 'underground']].copy() # удалю author,floor,street\n",
    "\n",
    "dict_classes = {}\n",
    "for item in X.select_dtypes(['object']):\n",
    "    label_encoder = LabelEncoder()\n",
    "    label_encoder = copy.copy(label_encoder.fit(X[item]))\n",
    "    dict_classes[item] = label_encoder\n",
    "    X[item] = label_encoder.transform(X[item])\n",
    "\n",
    "# Удаление выбросов в y\n",
    "iqr = stats.iqr(y) # разница между 3 и 1 квартилями\n",
    "q3 = np.quantile(y, 0.75)\n",
    "upper = q3 #- np.quantile(y, 0.1)#+ iqr #* 1.5 \n",
    "outliers = y[(y > upper)]\n",
    "# потом на реальных данных можо выкидывать те значения Х, которые являются выбросами в тренировочном наборе и выводить алерт,\n",
    "# что мол вы ввели аномально большие значения. Пороговые значения для вывода алерта нужно будет потом определить как-нибудь\n",
    "outliers_stats = X.loc[outliers.index].describe()\n",
    "\n",
    "y.drop(outliers.index, inplace = True)\n",
    "X = X.loc[y.index]"
   ]
  },
  {
   "cell_type": "code",
   "execution_count": 197,
   "id": "ac8a145f",
   "metadata": {},
   "outputs": [
    {
     "data": {
      "image/png": "[encoded data removed]",
      "text/plain": [
       "<Figure size 300x300 with 1 Axes>"
      ]
     },
     "metadata": {},
     "output_type": "display_data"
    }
   ],
   "source": [
    "X_train, X_test, y_train, y_test = train_test_split(X, y, test_size=0.2, random_state=42)\n",
    "plt.figure(figsize = (3,3))\n",
    "sns.boxplot(y.values);"
   ]
  },
  {
   "cell_type": "code",
   "execution_count": 198,
   "id": "f1f12b6f",
   "metadata": {},
   "outputs": [
    {
     "data": {
      "text/plain": [
       "(7040,)"
      ]
     },
     "execution_count": 198,
     "metadata": {},
     "output_type": "execute_result"
    }
   ],
   "source": [
    "y.shape"
   ]
  },
  {
   "cell_type": "code",
   "execution_count": 206,
   "id": "43c0c83d",
   "metadata": {},
   "outputs": [
    {
     "name": "stdout",
     "output_type": "stream",
     "text": [
      "mae: 2888003.877 \n",
      "mse: 19160256195682.941 \n",
      "rmse: 4377242.990 \n",
      "r2:0.798 \n",
      "medae:1700000.000\n"
     ]
    }
   ],
   "source": [
    "#{'criterion': 'poisson', 'max_depth': 5, 'max_features': 1.0, 'min_samples_split': 8, 'min_weight_fraction_leaf': 0.004227138227420037, 'splitter': 'best'\n",
    "# criterion='absolute_error', \n",
    "#                             max_depth= 9, \n",
    "#                             max_features=1.0, \n",
    "#                             min_samples_split=7, \n",
    "#                             splitter='best', \n",
    "#                             min_weight_fraction_leaf=0.004227138227420037, \n",
    "#                             min_impurity_decrease =0.02\n",
    "DTR = DecisionTreeRegressor(random_state=42,\n",
    "                            criterion='absolute_error', \n",
    "                            max_depth= 10, \n",
    "                            max_features=1.0, \n",
    "                            min_samples_split=7, \n",
    "                            splitter='random', \n",
    "                            min_weight_fraction_leaf=0.00423, \n",
    "                            min_impurity_decrease =0.02)\n",
    "\n",
    "ABC = AdaBoostRegressor(random_state=42,\n",
    "                        estimator = DTR, \n",
    "                        n_estimators=125, \n",
    "                        learning_rate=0.01, \n",
    "                       loss='linear',\n",
    "                       )\n",
    "ABC.fit(X_train, y_train)\n",
    "y_pred = ABC.predict(X_test)\n",
    "mae = mean_absolute_error(y_test, y_pred) \n",
    "mse = mean_squared_error(y_test, y_pred)\n",
    "rmse = np.sqrt(mse) # показывает дисперсию ошибки\n",
    "r2 = r2_score(y_test, y_pred)\n",
    "medae = median_absolute_error(y_test, y_pred)\n",
    "print('mae: %.3f \\nmse: %.3f \\nrmse: %.3f \\nr2:%.3f \\nmedae:%.3f'%(mae,mse,rmse,r2,medae))"
   ]
  },
  {
   "cell_type": "code",
   "execution_count": 204,
   "id": "060225ee",
   "metadata": {},
   "outputs": [
    {
     "data": {
      "text/plain": [
       "11946040.0"
      ]
     },
     "execution_count": 204,
     "metadata": {},
     "output_type": "execute_result"
    }
   ],
   "source": [
    "input_data = np.array(['Sankt-Peterburg',19,2,60.1,2020,27.1,14.4,'Vasileostrovskij','Zenit'])\n",
    "input_data = pd.Series(input_data, index =X.columns)\n",
    "for key in dict_classes.keys():\n",
    "    input_data[key] = dict_classes[key].transform(np.array([input_data[key]])).item()\n",
    "input_data = input_data.values.reshape(1,-1)\n",
    "np.round(ABC.predict(input_data).item()) # 12578976.0"
   ]
  },
  {
   "cell_type": "code",
   "execution_count": 205,
   "id": "8281c7a5",
   "metadata": {},
   "outputs": [
    {
     "data": {
      "text/plain": [
       "array([0.10760095, 0.03798481, 0.19382423, 0.3362972 , 0.05169517,\n",
       "       0.13083982, 0.10636796, 0.02024183, 0.01514803])"
      ]
     },
     "execution_count": 205,
     "metadata": {},
     "output_type": "execute_result"
    }
   ],
   "source": [
    "np.set_printoptions(suppress=True)\n",
    "ABC.feature_importances_"
   ]
  },
  {
   "cell_type": "code",
   "execution_count": 34,
   "id": "2c6aa11f",
   "metadata": {
    "scrolled": true
   },
   "outputs": [
    {
     "data": {
      "text/html": [
       "<div>\n",
       "<style scoped>\n",
       "    .dataframe tbody tr th:only-of-type {\n",
       "        vertical-align: middle;\n",
       "    }\n",
       "\n",
       "    .dataframe tbody tr th {\n",
       "        vertical-align: top;\n",
       "    }\n",
       "\n",
       "    .dataframe thead th {\n",
       "        text-align: right;\n",
       "    }\n",
       "</style>\n",
       "<table border=\"1\" class=\"dataframe\">\n",
       "  <thead>\n",
       "    <tr style=\"text-align: right;\">\n",
       "      <th></th>\n",
       "      <th>author</th>\n",
       "      <th>city</th>\n",
       "      <th>floor</th>\n",
       "      <th>floors_count</th>\n",
       "      <th>rooms_count</th>\n",
       "      <th>total_meters</th>\n",
       "      <th>year_of_construction</th>\n",
       "      <th>living_meters</th>\n",
       "      <th>kitchen_meters</th>\n",
       "      <th>district</th>\n",
       "      <th>street</th>\n",
       "      <th>underground</th>\n",
       "    </tr>\n",
       "  </thead>\n",
       "  <tbody>\n",
       "    <tr>\n",
       "      <th>count</th>\n",
       "      <td>1051.000000</td>\n",
       "      <td>1051.000000</td>\n",
       "      <td>1051.000000</td>\n",
       "      <td>1051.000000</td>\n",
       "      <td>1051.000000</td>\n",
       "      <td>1051.000000</td>\n",
       "      <td>1051.000000</td>\n",
       "      <td>1051.000000</td>\n",
       "      <td>1051.000000</td>\n",
       "      <td>1051.000000</td>\n",
       "      <td>1051.000000</td>\n",
       "      <td>1051.000000</td>\n",
       "    </tr>\n",
       "    <tr>\n",
       "      <th>mean</th>\n",
       "      <td>242.335871</td>\n",
       "      <td>0.132255</td>\n",
       "      <td>9.143673</td>\n",
       "      <td>14.572788</td>\n",
       "      <td>4.225975</td>\n",
       "      <td>203.445014</td>\n",
       "      <td>1999.009515</td>\n",
       "      <td>116.890970</td>\n",
       "      <td>24.411513</td>\n",
       "      <td>65.338725</td>\n",
       "      <td>812.505233</td>\n",
       "      <td>154.392959</td>\n",
       "    </tr>\n",
       "    <tr>\n",
       "      <th>std</th>\n",
       "      <td>245.761352</td>\n",
       "      <td>0.338929</td>\n",
       "      <td>10.875630</td>\n",
       "      <td>15.060108</td>\n",
       "      <td>0.873734</td>\n",
       "      <td>74.382333</td>\n",
       "      <td>38.882582</td>\n",
       "      <td>47.035995</td>\n",
       "      <td>15.479984</td>\n",
       "      <td>41.122366</td>\n",
       "      <td>452.616744</td>\n",
       "      <td>92.879157</td>\n",
       "    </tr>\n",
       "    <tr>\n",
       "      <th>min</th>\n",
       "      <td>6.000000</td>\n",
       "      <td>0.000000</td>\n",
       "      <td>1.000000</td>\n",
       "      <td>2.000000</td>\n",
       "      <td>0.500000</td>\n",
       "      <td>68.200000</td>\n",
       "      <td>1798.000000</td>\n",
       "      <td>13.000000</td>\n",
       "      <td>3.000000</td>\n",
       "      <td>0.000000</td>\n",
       "      <td>1.000000</td>\n",
       "      <td>0.000000</td>\n",
       "    </tr>\n",
       "    <tr>\n",
       "      <th>25%</th>\n",
       "      <td>110.000000</td>\n",
       "      <td>0.000000</td>\n",
       "      <td>3.000000</td>\n",
       "      <td>6.000000</td>\n",
       "      <td>4.000000</td>\n",
       "      <td>158.000000</td>\n",
       "      <td>2004.000000</td>\n",
       "      <td>87.169919</td>\n",
       "      <td>15.000000</td>\n",
       "      <td>30.000000</td>\n",
       "      <td>399.000000</td>\n",
       "      <td>86.000000</td>\n",
       "    </tr>\n",
       "    <tr>\n",
       "      <th>50%</th>\n",
       "      <td>148.000000</td>\n",
       "      <td>0.000000</td>\n",
       "      <td>5.000000</td>\n",
       "      <td>9.000000</td>\n",
       "      <td>4.000000</td>\n",
       "      <td>195.070000</td>\n",
       "      <td>2012.000000</td>\n",
       "      <td>111.000000</td>\n",
       "      <td>20.000000</td>\n",
       "      <td>68.000000</td>\n",
       "      <td>809.000000</td>\n",
       "      <td>139.000000</td>\n",
       "    </tr>\n",
       "    <tr>\n",
       "      <th>75%</th>\n",
       "      <td>232.000000</td>\n",
       "      <td>0.000000</td>\n",
       "      <td>10.000000</td>\n",
       "      <td>15.000000</td>\n",
       "      <td>5.000000</td>\n",
       "      <td>235.000000</td>\n",
       "      <td>2020.500000</td>\n",
       "      <td>138.703855</td>\n",
       "      <td>28.900000</td>\n",
       "      <td>96.000000</td>\n",
       "      <td>1212.000000</td>\n",
       "      <td>246.500000</td>\n",
       "    </tr>\n",
       "    <tr>\n",
       "      <th>max</th>\n",
       "      <td>1043.000000</td>\n",
       "      <td>1.000000</td>\n",
       "      <td>79.000000</td>\n",
       "      <td>97.000000</td>\n",
       "      <td>5.000000</td>\n",
       "      <td>659.400000</td>\n",
       "      <td>2025.000000</td>\n",
       "      <td>450.000000</td>\n",
       "      <td>116.000000</td>\n",
       "      <td>135.000000</td>\n",
       "      <td>1571.000000</td>\n",
       "      <td>319.000000</td>\n",
       "    </tr>\n",
       "  </tbody>\n",
       "</table>\n",
       "</div>"
      ],
      "text/plain": [
       "            author         city        floor  floors_count  rooms_count   \n",
       "count  1051.000000  1051.000000  1051.000000   1051.000000  1051.000000  \\\n",
       "mean    242.335871     0.132255     9.143673     14.572788     4.225975   \n",
       "std     245.761352     0.338929    10.875630     15.060108     0.873734   \n",
       "min       6.000000     0.000000     1.000000      2.000000     0.500000   \n",
       "25%     110.000000     0.000000     3.000000      6.000000     4.000000   \n",
       "50%     148.000000     0.000000     5.000000      9.000000     4.000000   \n",
       "75%     232.000000     0.000000    10.000000     15.000000     5.000000   \n",
       "max    1043.000000     1.000000    79.000000     97.000000     5.000000   \n",
       "\n",
       "       total_meters  year_of_construction  living_meters  kitchen_meters   \n",
       "count   1051.000000           1051.000000    1051.000000     1051.000000  \\\n",
       "mean     203.445014           1999.009515     116.890970       24.411513   \n",
       "std       74.382333             38.882582      47.035995       15.479984   \n",
       "min       68.200000           1798.000000      13.000000        3.000000   \n",
       "25%      158.000000           2004.000000      87.169919       15.000000   \n",
       "50%      195.070000           2012.000000     111.000000       20.000000   \n",
       "75%      235.000000           2020.500000     138.703855       28.900000   \n",
       "max      659.400000           2025.000000     450.000000      116.000000   \n",
       "\n",
       "          district       street  underground  \n",
       "count  1051.000000  1051.000000  1051.000000  \n",
       "mean     65.338725   812.505233   154.392959  \n",
       "std      41.122366   452.616744    92.879157  \n",
       "min       0.000000     1.000000     0.000000  \n",
       "25%      30.000000   399.000000    86.000000  \n",
       "50%      68.000000   809.000000   139.000000  \n",
       "75%      96.000000  1212.000000   246.500000  \n",
       "max     135.000000  1571.000000   319.000000  "
      ]
     },
     "execution_count": 34,
     "metadata": {},
     "output_type": "execute_result"
    }
   ],
   "source": [
    "outliers_stats"
   ]
  },
  {
   "cell_type": "markdown",
   "id": "565a3a39",
   "metadata": {},
   "source": [
    "## Теперь тренирую на всех данных"
   ]
  },
  {
   "cell_type": "code",
   "execution_count": 172,
   "id": "37332eea",
   "metadata": {},
   "outputs": [],
   "source": [
    "y = data['price'].copy()\n",
    "X = data.loc[:,['author', 'city', 'floor', 'floors_count', 'rooms_count',\n",
    "                'total_meters', 'year_of_construction','living_meters', 'kitchen_meters', \n",
    "                'district', 'street', 'underground']].copy() \n",
    "\n",
    "dict_classes = {}\n",
    "for item in X.select_dtypes(['object']):\n",
    "    label_encoder = LabelEncoder()\n",
    "    label_encoder = copy.copy(label_encoder.fit(X[item]))\n",
    "    dict_classes[item] = label_encoder\n",
    "    X[item] = label_encoder.transform(X[item])\n",
    "    \n",
    "iqr = stats.iqr(y) # (межквартильный размах)\n",
    "q3 = np.quantile(y, 0.75)\n",
    "upper = q3 #+ iqr *1.5\n",
    "outliers = y[(y > upper)]\n",
    "# потом на реальных данных можо выкидывать те значения Х, которые являются выбросами в тренировочном наборе и выводить алерт,\n",
    "# что мол вы ввели аномально большие значения. Пороговые значения для вывода алерта нужно будет потом определить как-нибудь\n",
    "outliers_stats = X.loc[outliers.index].describe()\n",
    "\n",
    "y.drop(outliers.index, inplace = True)\n",
    "X = X.loc[y.index]"
   ]
  },
  {
   "cell_type": "code",
   "execution_count": 173,
   "id": "03118ffe",
   "metadata": {},
   "outputs": [
    {
     "data": {
      "image/png": "[encoded data removed]",
      "text/plain": [
       "<Figure size 300x300 with 1 Axes>"
      ]
     },
     "metadata": {},
     "output_type": "display_data"
    }
   ],
   "source": [
    "plt.figure(figsize = (3,3))\n",
    "sns.boxplot(y.values);"
   ]
  },
  {
   "cell_type": "code",
   "execution_count": 174,
   "id": "198ca037",
   "metadata": {},
   "outputs": [
    {
     "data": {
      "text/plain": [
       "(7040,)"
      ]
     },
     "execution_count": 174,
     "metadata": {},
     "output_type": "execute_result"
    }
   ],
   "source": [
    "y.shape"
   ]
  },
  {
   "cell_type": "code",
   "execution_count": 180,
   "id": "650ee66a",
   "metadata": {},
   "outputs": [
    {
     "data": {
      "text/html": [
       "<style>#sk-container-id-7 {color: black;background-color: white;}#sk-container-id-7 pre{padding: 0;}#sk-container-id-7 div.sk-toggleable {background-color: white;}#sk-container-id-7 label.sk-toggleable__label {cursor: pointer;display: block;width: 100%;margin-bottom: 0;padding: 0.3em;box-sizing: border-box;text-align: center;}#sk-container-id-7 label.sk-toggleable__label-arrow:before {content: \"▸\";float: left;margin-right: 0.25em;color: #696969;}#sk-container-id-7 label.sk-toggleable__label-arrow:hover:before {color: black;}#sk-container-id-7 div.sk-estimator:hover label.sk-toggleable__label-arrow:before {color: black;}#sk-container-id-7 div.sk-toggleable__content {max-height: 0;max-width: 0;overflow: hidden;text-align: left;background-color: #f0f8ff;}#sk-container-id-7 div.sk-toggleable__content pre {margin: 0.2em;color: black;border-radius: 0.25em;background-color: #f0f8ff;}#sk-container-id-7 input.sk-toggleable__control:checked~div.sk-toggleable__content {max-height: 200px;max-width: 100%;overflow: auto;}#sk-container-id-7 input.sk-toggleable__control:checked~label.sk-toggleable__label-arrow:before {content: \"▾\";}#sk-container-id-7 div.sk-estimator input.sk-toggleable__control:checked~label.sk-toggleable__label {background-color: #d4ebff;}#sk-container-id-7 div.sk-label input.sk-toggleable__control:checked~label.sk-toggleable__label {background-color: #d4ebff;}#sk-container-id-7 input.sk-hidden--visually {border: 0;clip: rect(1px 1px 1px 1px);clip: rect(1px, 1px, 1px, 1px);height: 1px;margin: -1px;overflow: hidden;padding: 0;position: absolute;width: 1px;}#sk-container-id-7 div.sk-estimator {font-family: monospace;background-color: #f0f8ff;border: 1px dotted black;border-radius: 0.25em;box-sizing: border-box;margin-bottom: 0.5em;}#sk-container-id-7 div.sk-estimator:hover {background-color: #d4ebff;}#sk-container-id-7 div.sk-parallel-item::after {content: \"\";width: 100%;border-bottom: 1px solid gray;flex-grow: 1;}#sk-container-id-7 div.sk-label:hover label.sk-toggleable__label {background-color: #d4ebff;}#sk-container-id-7 div.sk-serial::before {content: \"\";position: absolute;border-left: 1px solid gray;box-sizing: border-box;top: 0;bottom: 0;left: 50%;z-index: 0;}#sk-container-id-7 div.sk-serial {display: flex;flex-direction: column;align-items: center;background-color: white;padding-right: 0.2em;padding-left: 0.2em;position: relative;}#sk-container-id-7 div.sk-item {position: relative;z-index: 1;}#sk-container-id-7 div.sk-parallel {display: flex;align-items: stretch;justify-content: center;background-color: white;position: relative;}#sk-container-id-7 div.sk-item::before, #sk-container-id-7 div.sk-parallel-item::before {content: \"\";position: absolute;border-left: 1px solid gray;box-sizing: border-box;top: 0;bottom: 0;left: 50%;z-index: -1;}#sk-container-id-7 div.sk-parallel-item {display: flex;flex-direction: column;z-index: 1;position: relative;background-color: white;}#sk-container-id-7 div.sk-parallel-item:first-child::after {align-self: flex-end;width: 50%;}#sk-container-id-7 div.sk-parallel-item:last-child::after {align-self: flex-start;width: 50%;}#sk-container-id-7 div.sk-parallel-item:only-child::after {width: 0;}#sk-container-id-7 div.sk-dashed-wrapped {border: 1px dashed gray;margin: 0 0.4em 0.5em 0.4em;box-sizing: border-box;padding-bottom: 0.4em;background-color: white;}#sk-container-id-7 div.sk-label label {font-family: monospace;font-weight: bold;display: inline-block;line-height: 1.2em;}#sk-container-id-7 div.sk-label-container {text-align: center;}#sk-container-id-7 div.sk-container {/* jupyter's `normalize.less` sets `[hidden] { display: none; }` but bootstrap.min.css set `[hidden] { display: none !important; }` so we also need the `!important` here to be able to override the default hidden behavior on the sphinx rendered scikit-learn.org. See: https://github.com/scikit-learn/scikit-learn/issues/21755 */display: inline-block !important;position: relative;}#sk-container-id-7 div.sk-text-repr-fallback {display: none;}</style><div id=\"sk-container-id-7\" class=\"sk-top-container\"><div class=\"sk-text-repr-fallback\"><pre>AdaBoostRegressor(estimator=DecisionTreeRegressor(criterion=&#x27;absolute_error&#x27;,\n",
       "                                                  max_depth=9, max_features=1.0,\n",
       "                                                  min_impurity_decrease=0.02,\n",
       "                                                  min_samples_split=7,\n",
       "                                                  min_weight_fraction_leaf=0.004227138227420037,\n",
       "                                                  random_state=42,\n",
       "                                                  splitter=&#x27;random&#x27;),\n",
       "                  learning_rate=0.01, n_estimators=125, random_state=42)</pre><b>In a Jupyter environment, please rerun this cell to show the HTML representation or trust the notebook. <br />On GitHub, the HTML representation is unable to render, please try loading this page with nbviewer.org.</b></div><div class=\"sk-container\" hidden><div class=\"sk-item sk-dashed-wrapped\"><div class=\"sk-label-container\"><div class=\"sk-label sk-toggleable\"><input class=\"sk-toggleable__control sk-hidden--visually\" id=\"sk-estimator-id-15\" type=\"checkbox\" ><label for=\"sk-estimator-id-15\" class=\"sk-toggleable__label sk-toggleable__label-arrow\">AdaBoostRegressor</label><div class=\"sk-toggleable__content\"><pre>AdaBoostRegressor(estimator=DecisionTreeRegressor(criterion=&#x27;absolute_error&#x27;,\n",
       "                                                  max_depth=9, max_features=1.0,\n",
       "                                                  min_impurity_decrease=0.02,\n",
       "                                                  min_samples_split=7,\n",
       "                                                  min_weight_fraction_leaf=0.004227138227420037,\n",
       "                                                  random_state=42,\n",
       "                                                  splitter=&#x27;random&#x27;),\n",
       "                  learning_rate=0.01, n_estimators=125, random_state=42)</pre></div></div></div><div class=\"sk-parallel\"><div class=\"sk-parallel-item\"><div class=\"sk-item\"><div class=\"sk-label-container\"><div class=\"sk-label sk-toggleable\"><input class=\"sk-toggleable__control sk-hidden--visually\" id=\"sk-estimator-id-16\" type=\"checkbox\" ><label for=\"sk-estimator-id-16\" class=\"sk-toggleable__label sk-toggleable__label-arrow\">estimator: DecisionTreeRegressor</label><div class=\"sk-toggleable__content\"><pre>DecisionTreeRegressor(criterion=&#x27;absolute_error&#x27;, max_depth=9, max_features=1.0,\n",
       "                      min_impurity_decrease=0.02, min_samples_split=7,\n",
       "                      min_weight_fraction_leaf=0.004227138227420037,\n",
       "                      random_state=42, splitter=&#x27;random&#x27;)</pre></div></div></div><div class=\"sk-serial\"><div class=\"sk-item\"><div class=\"sk-estimator sk-toggleable\"><input class=\"sk-toggleable__control sk-hidden--visually\" id=\"sk-estimator-id-17\" type=\"checkbox\" ><label for=\"sk-estimator-id-17\" class=\"sk-toggleable__label sk-toggleable__label-arrow\">DecisionTreeRegressor</label><div class=\"sk-toggleable__content\"><pre>DecisionTreeRegressor(criterion=&#x27;absolute_error&#x27;, max_depth=9, max_features=1.0,\n",
       "                      min_impurity_decrease=0.02, min_samples_split=7,\n",
       "                      min_weight_fraction_leaf=0.004227138227420037,\n",
       "                      random_state=42, splitter=&#x27;random&#x27;)</pre></div></div></div></div></div></div></div></div></div></div>"
      ],
      "text/plain": [
       "AdaBoostRegressor(estimator=DecisionTreeRegressor(criterion='absolute_error',\n",
       "                                                  max_depth=9, max_features=1.0,\n",
       "                                                  min_impurity_decrease=0.02,\n",
       "                                                  min_samples_split=7,\n",
       "                                                  min_weight_fraction_leaf=0.004227138227420037,\n",
       "                                                  random_state=42,\n",
       "                                                  splitter='random'),\n",
       "                  learning_rate=0.01, n_estimators=125, random_state=42)"
      ]
     },
     "execution_count": 180,
     "metadata": {},
     "output_type": "execute_result"
    }
   ],
   "source": [
    "DTR = DecisionTreeRegressor(random_state=42,\n",
    "                            criterion='absolute_error', \n",
    "                            max_depth= 9, \n",
    "                            max_features=1.0, \n",
    "                            min_samples_split=7, \n",
    "                            splitter='random', \n",
    "                            min_weight_fraction_leaf=0.004227138227420037, \n",
    "                            min_impurity_decrease =0.02)\n",
    "\n",
    "ABR = AdaBoostRegressor(random_state=42,\n",
    "                        estimator = DTR, \n",
    "                        n_estimators=125, \n",
    "                        learning_rate=0.01, \n",
    "                       loss='linear',\n",
    "                       )\n",
    "ABR.fit(X, y)"
   ]
  },
  {
   "cell_type": "code",
   "execution_count": 181,
   "id": "8d92837e",
   "metadata": {},
   "outputs": [
    {
     "data": {
      "text/plain": [
       "array([0.03738397, 0.10727566, 0.00461717, 0.02649873, 0.20057224,\n",
       "       0.34181533, 0.04064873, 0.10883402, 0.09949419, 0.01420053,\n",
       "       0.01006864, 0.00859078])"
      ]
     },
     "execution_count": 181,
     "metadata": {},
     "output_type": "execute_result"
    }
   ],
   "source": [
    "np.set_printoptions(suppress=True)\n",
    "ABR.feature_importances_"
   ]
  },
  {
   "cell_type": "code",
   "execution_count": 182,
   "id": "c64eec55",
   "metadata": {},
   "outputs": [
    {
     "name": "stdout",
     "output_type": "stream",
     "text": [
      "CV R^2: 0.558 +- 0.076\n"
     ]
    }
   ],
   "source": [
    "scores = cross_val_score(ABR, X, y, cv=5)\n",
    "print('CV R^2: {:.3f} +- {:.3f}'.format(np.mean(scores), np.std(scores)))"
   ]
  },
  {
   "cell_type": "code",
   "execution_count": 184,
   "id": "e46f208c",
   "metadata": {},
   "outputs": [
    {
     "data": {
      "text/plain": [
       "12502220.0"
      ]
     },
     "execution_count": 184,
     "metadata": {},
     "output_type": "execute_result"
    }
   ],
   "source": [
    "input_data = np.array(['GloraX','Sankt-Peterburg',6,19,2,60.1,2020,27.1,14.4,'Vasileostrovskij','Morskoj','Zenit'])\n",
    "input_data = pd.Series(input_data, index =X.columns)\n",
    "for key in dict_classes.keys():\n",
    "    input_data[key] = dict_classes[key].transform(np.array([input_data[key]])).item()\n",
    "input_data = input_data.values.reshape(1,-1)\n",
    "np.round(ABR.predict(input_data).item())"
   ]
  },
  {
   "cell_type": "code",
   "execution_count": null,
   "id": "abc31e91",
   "metadata": {},
   "outputs": [],
   "source": [
    "joblib.dump(ABC,'AdaBoostRegressor.joblib')"
   ]
  },
  {
   "cell_type": "code",
   "execution_count": 187,
   "id": "3a94c35f",
   "metadata": {},
   "outputs": [
    {
     "data": {
      "text/plain": [
       "['label_encoders.joblib']"
      ]
     },
     "execution_count": 187,
     "metadata": {},
     "output_type": "execute_result"
    }
   ],
   "source": [
    "joblib.dump(dict_classes,'label_encoders.joblib')"
   ]
  },
  {
   "cell_type": "code",
   "execution_count": 193,
   "id": "448b0b9a",
   "metadata": {},
   "outputs": [],
   "source": [
    "data.loc[y.index, ['author', 'city','district', 'street', 'underground']].to_csv('data_for_dash.csv', sep = ';',index= False)"
   ]
  }
 ],
 "metadata": {
  "kernelspec": {
   "display_name": "Python 3 (ipykernel)",
   "language": "python",
   "name": "python3"
  },
  "language_info": {
   "codemirror_mode": {
    "name": "ipython",
    "version": 3
   },
   "file_extension": ".py",
   "mimetype": "text/x-python",
   "name": "python",
   "nbconvert_exporter": "python",
   "pygments_lexer": "ipython3",
   "version": "3.8.16"
  }
 },
 "nbformat": 4,
 "nbformat_minor": 5
}
