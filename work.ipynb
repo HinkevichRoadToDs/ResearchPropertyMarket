{
 "cells": [
  {
   "cell_type": "code",
   "execution_count": 1,
   "id": "c6bf0d24-5ec4-488a-b793-7de6e71ec28a",
   "metadata": {},
   "outputs": [],
   "source": [
    "import pandas as pd\n",
    "import numpy as np\n",
    "import scipy.stats as stats\n",
    "#import cianparser # https://github.com/lenarsaitov/cianparser\n",
    "import distance\n",
    "import copy\n",
    "from jellyfish import jaro_winkler\n",
    "import seaborn as sns\n",
    "import matplotlib.pyplot as plt\n",
    "from sklearn.tree import DecisionTreeRegressor,DecisionTreeClassifier\n",
    "from sklearn.neighbors import KNeighborsRegressor\n",
    "from sklearn.multiclass import OneVsRestClassifier,OneVsOneClassifier\n",
    "from sklearn.svm import SVC,LinearSVC\n",
    "from sklearn.naive_bayes import MultinomialNB\n",
    "from sklearn.ensemble import RandomForestClassifier,GradientBoostingRegressor, \\\n",
    "    AdaBoostClassifier,AdaBoostRegressor,GradientBoostingClassifier\n",
    "from sklearn.experimental import enable_halving_search_cv\n",
    "from sklearn.model_selection import GridSearchCV,StratifiedKFold,train_test_split,HalvingGridSearchCV,cross_val_score\n",
    "from sklearn.preprocessing import LabelEncoder,PolynomialFeatures,StandardScaler,RobustScaler\n",
    "from sklearn.linear_model import SGDRegressor,LinearRegression,Lasso\n",
    "from imblearn.ensemble import EasyEnsembleClassifier,BalancedRandomForestClassifier\n",
    "from imblearn.over_sampling import RandomOverSampler,SMOTE\n",
    "from sklearn.metrics import accuracy_score,precision_recall_fscore_support,f1_score, \\\n",
    "    r2_score, mean_absolute_error, mean_squared_error, classification_report,median_absolute_error\n",
    "from scipy.stats import pearsonr\n",
    "import statsmodels.api as sm\n",
    "# from keras.models import Sequential\n",
    "# from keras.layers import Dense\n",
    "import joblib"
   ]
  },
  {
   "cell_type": "code",
   "execution_count": 2,
   "id": "7160933b",
   "metadata": {},
   "outputs": [],
   "source": [
    "import warnings\n",
    "warnings.filterwarnings('ignore')\n",
    "warnings.warn('DelftStack')\n",
    "warnings.warn('Do not show this message')"
   ]
  },
  {
   "cell_type": "code",
   "execution_count": 15,
   "id": "59dea0f8",
   "metadata": {},
   "outputs": [],
   "source": [
    "data = pd.read_csv('https://docs.google.com/spreadsheets/d/e/2PACX-1vQxxmZm6YG54VucQ9yRgWFQXtOI-RFJ5-sOLT93LpaYGYc-vabL9LOzzkRXX-LmSROTA7hOL1C327nZ/pub?gid=213261502&single=true&output=csv')"
   ]
  },
  {
   "cell_type": "markdown",
   "id": "07816286",
   "metadata": {},
   "source": [
    "# Первоначальная предобработка данных(квартиры на продажу в Москве и Санкт-Петербурге)"
   ]
  },
  {
   "cell_type": "code",
   "execution_count": 16,
   "id": "108da64b",
   "metadata": {
    "scrolled": true
   },
   "outputs": [
    {
     "data": {
      "text/html": [
       "<div>\n",
       "<style scoped>\n",
       "    .dataframe tbody tr th:only-of-type {\n",
       "        vertical-align: middle;\n",
       "    }\n",
       "\n",
       "    .dataframe tbody tr th {\n",
       "        vertical-align: top;\n",
       "    }\n",
       "\n",
       "    .dataframe thead th {\n",
       "        text-align: right;\n",
       "    }\n",
       "</style>\n",
       "<table border=\"1\" class=\"dataframe\">\n",
       "  <thead>\n",
       "    <tr style=\"text-align: right;\">\n",
       "      <th></th>\n",
       "      <th>author</th>\n",
       "      <th>author_type</th>\n",
       "      <th>link</th>\n",
       "      <th>city</th>\n",
       "      <th>deal_type</th>\n",
       "      <th>accommodation_type</th>\n",
       "      <th>floor</th>\n",
       "      <th>floors_count</th>\n",
       "      <th>rooms_count</th>\n",
       "      <th>total_meters</th>\n",
       "      <th>price_per_m2</th>\n",
       "      <th>price</th>\n",
       "      <th>year_of_construction</th>\n",
       "      <th>living_meters</th>\n",
       "      <th>kitchen_meters</th>\n",
       "      <th>phone</th>\n",
       "      <th>district</th>\n",
       "      <th>street</th>\n",
       "      <th>underground</th>\n",
       "      <th>residential_complex</th>\n",
       "    </tr>\n",
       "  </thead>\n",
       "  <tbody>\n",
       "    <tr>\n",
       "      <th>0</th>\n",
       "      <td>Петербургская Строительная Компания</td>\n",
       "      <td>developer</td>\n",
       "      <td>https://spb.cian.ru/sale/flat/284740225/</td>\n",
       "      <td>Sankt-Peterburg</td>\n",
       "      <td>sale</td>\n",
       "      <td>flat</td>\n",
       "      <td>1</td>\n",
       "      <td>7</td>\n",
       "      <td>1.0</td>\n",
       "      <td>38.20</td>\n",
       "      <td>419999</td>\n",
       "      <td>16044000</td>\n",
       "      <td>2023</td>\n",
       "      <td>12.0</td>\n",
       "      <td>12.0</td>\n",
       "      <td>7.812218e+10</td>\n",
       "      <td>Petrogradskij</td>\n",
       "      <td>Chkalovskoe</td>\n",
       "      <td>Petrogradskaja</td>\n",
       "      <td>Severnaja Korona</td>\n",
       "    </tr>\n",
       "    <tr>\n",
       "      <th>1</th>\n",
       "      <td>Петербургская Строительная Компания</td>\n",
       "      <td>developer</td>\n",
       "      <td>https://spb.cian.ru/sale/flat/280819981/</td>\n",
       "      <td>Sankt-Peterburg</td>\n",
       "      <td>sale</td>\n",
       "      <td>flat</td>\n",
       "      <td>13</td>\n",
       "      <td>25</td>\n",
       "      <td>1.0</td>\n",
       "      <td>36.81</td>\n",
       "      <td>33201</td>\n",
       "      <td>6706674</td>\n",
       "      <td>2024</td>\n",
       "      <td>10.0</td>\n",
       "      <td>13.0</td>\n",
       "      <td>7.812218e+10</td>\n",
       "      <td>Primorskij</td>\n",
       "      <td>Kolomjagi</td>\n",
       "      <td>Prospekt Prosveschenija</td>\n",
       "      <td>Frends ZhK</td>\n",
       "    </tr>\n",
       "    <tr>\n",
       "      <th>2</th>\n",
       "      <td>GloraX</td>\n",
       "      <td>developer</td>\n",
       "      <td>https://spb.cian.ru/sale/flat/279507591/</td>\n",
       "      <td>Sankt-Peterburg</td>\n",
       "      <td>sale</td>\n",
       "      <td>flat</td>\n",
       "      <td>5</td>\n",
       "      <td>19</td>\n",
       "      <td>1.0</td>\n",
       "      <td>36.76</td>\n",
       "      <td>265777</td>\n",
       "      <td>9769999</td>\n",
       "      <td>2025</td>\n",
       "      <td>11.0</td>\n",
       "      <td>11.0</td>\n",
       "      <td>7.812213e+10</td>\n",
       "      <td>Vasileostrovskij</td>\n",
       "      <td>Morskoj</td>\n",
       "      <td>Zenit</td>\n",
       "      <td>Gloraks Premium Vasileostrovskij ZhK</td>\n",
       "    </tr>\n",
       "    <tr>\n",
       "      <th>3</th>\n",
       "      <td>Группа Эталон</td>\n",
       "      <td>developer</td>\n",
       "      <td>https://spb.cian.ru/sale/flat/285017335/</td>\n",
       "      <td>Sankt-Peterburg</td>\n",
       "      <td>sale</td>\n",
       "      <td>flat</td>\n",
       "      <td>13</td>\n",
       "      <td>18</td>\n",
       "      <td>1.0</td>\n",
       "      <td>32.60</td>\n",
       "      <td>303116</td>\n",
       "      <td>9881582</td>\n",
       "      <td>2022</td>\n",
       "      <td>21.0</td>\n",
       "      <td>-1.0</td>\n",
       "      <td>7.812213e+10</td>\n",
       "      <td>Admiraltejskij</td>\n",
       "      <td>Izmajlovskoe</td>\n",
       "      <td>Moskovskie vorota</td>\n",
       "      <td>Kvartal Galaktika</td>\n",
       "    </tr>\n",
       "    <tr>\n",
       "      <th>4</th>\n",
       "      <td>GloraX</td>\n",
       "      <td>developer</td>\n",
       "      <td>https://spb.cian.ru/sale/flat/279351916/</td>\n",
       "      <td>Sankt-Peterburg</td>\n",
       "      <td>sale</td>\n",
       "      <td>flat</td>\n",
       "      <td>11</td>\n",
       "      <td>14</td>\n",
       "      <td>1.0</td>\n",
       "      <td>34.44</td>\n",
       "      <td>322009</td>\n",
       "      <td>11089999</td>\n",
       "      <td>2024</td>\n",
       "      <td>12.0</td>\n",
       "      <td>13.0</td>\n",
       "      <td>7.812213e+10</td>\n",
       "      <td>Krasnogvardejskij</td>\n",
       "      <td>Malaja Ohta</td>\n",
       "      <td>Ladozhskaja</td>\n",
       "      <td>Glorax Zanevskij</td>\n",
       "    </tr>\n",
       "  </tbody>\n",
       "</table>\n",
       "</div>"
      ],
      "text/plain": [
       "                                author author_type   \n",
       "0  Петербургская Строительная Компания   developer  \\\n",
       "1  Петербургская Строительная Компания   developer   \n",
       "2                               GloraX   developer   \n",
       "3                        Группа Эталон   developer   \n",
       "4                               GloraX   developer   \n",
       "\n",
       "                                       link             city deal_type   \n",
       "0  https://spb.cian.ru/sale/flat/284740225/  Sankt-Peterburg      sale  \\\n",
       "1  https://spb.cian.ru/sale/flat/280819981/  Sankt-Peterburg      sale   \n",
       "2  https://spb.cian.ru/sale/flat/279507591/  Sankt-Peterburg      sale   \n",
       "3  https://spb.cian.ru/sale/flat/285017335/  Sankt-Peterburg      sale   \n",
       "4  https://spb.cian.ru/sale/flat/279351916/  Sankt-Peterburg      sale   \n",
       "\n",
       "  accommodation_type  floor  floors_count  rooms_count  total_meters   \n",
       "0               flat      1             7          1.0         38.20  \\\n",
       "1               flat     13            25          1.0         36.81   \n",
       "2               flat      5            19          1.0         36.76   \n",
       "3               flat     13            18          1.0         32.60   \n",
       "4               flat     11            14          1.0         34.44   \n",
       "\n",
       "   price_per_m2     price  year_of_construction  living_meters   \n",
       "0        419999  16044000                  2023           12.0  \\\n",
       "1         33201   6706674                  2024           10.0   \n",
       "2        265777   9769999                  2025           11.0   \n",
       "3        303116   9881582                  2022           21.0   \n",
       "4        322009  11089999                  2024           12.0   \n",
       "\n",
       "   kitchen_meters         phone           district        street   \n",
       "0            12.0  7.812218e+10      Petrogradskij   Chkalovskoe  \\\n",
       "1            13.0  7.812218e+10         Primorskij     Kolomjagi   \n",
       "2            11.0  7.812213e+10   Vasileostrovskij       Morskoj   \n",
       "3            -1.0  7.812213e+10     Admiraltejskij  Izmajlovskoe   \n",
       "4            13.0  7.812213e+10  Krasnogvardejskij   Malaja Ohta   \n",
       "\n",
       "               underground                   residential_complex  \n",
       "0           Petrogradskaja                      Severnaja Korona  \n",
       "1  Prospekt Prosveschenija                            Frends ZhK  \n",
       "2                    Zenit  Gloraks Premium Vasileostrovskij ZhK  \n",
       "3        Moskovskie vorota                     Kvartal Galaktika  \n",
       "4              Ladozhskaja                      Glorax Zanevskij  "
      ]
     },
     "execution_count": 16,
     "metadata": {},
     "output_type": "execute_result"
    }
   ],
   "source": [
    "data.head()"
   ]
  },
  {
   "cell_type": "code",
   "execution_count": 5,
   "id": "f9d33094",
   "metadata": {},
   "outputs": [
    {
     "data": {
      "text/plain": [
       "(15495, 20)"
      ]
     },
     "execution_count": 5,
     "metadata": {},
     "output_type": "execute_result"
    }
   ],
   "source": [
    "data.shape"
   ]
  },
  {
   "cell_type": "code",
   "execution_count": 18,
   "id": "fabae9d1",
   "metadata": {},
   "outputs": [],
   "source": [
    "data['flat_id'] = data['link'].str.extract('(\\d+)')"
   ]
  },
  {
   "cell_type": "code",
   "execution_count": 19,
   "id": "bfce123b",
   "metadata": {},
   "outputs": [],
   "source": [
    "data.drop('link', axis = 1,inplace = True)"
   ]
  },
  {
   "cell_type": "code",
   "execution_count": 20,
   "id": "50c861fc",
   "metadata": {},
   "outputs": [],
   "source": [
    "data.drop(['accommodation_type','deal_type'],axis = 1,inplace = True)"
   ]
  },
  {
   "cell_type": "code",
   "execution_count": 9,
   "id": "67c7b522",
   "metadata": {},
   "outputs": [],
   "source": [
    "data.drop('phone', axis =1, inplace=True)"
   ]
  },
  {
   "cell_type": "code",
   "execution_count": 21,
   "id": "ce5d65b1",
   "metadata": {},
   "outputs": [],
   "source": [
    "data_duplicated_indexes = data[data.duplicated() == True].index"
   ]
  },
  {
   "cell_type": "code",
   "execution_count": 22,
   "id": "3123b941",
   "metadata": {},
   "outputs": [
    {
     "data": {
      "text/plain": [
       "author                    91\n",
       "author_type               80\n",
       "city                       0\n",
       "floor                      0\n",
       "floors_count               0\n",
       "rooms_count                0\n",
       "total_meters               0\n",
       "price_per_m2               0\n",
       "price                      0\n",
       "year_of_construction       0\n",
       "living_meters              0\n",
       "kitchen_meters             0\n",
       "phone                      1\n",
       "district                 764\n",
       "street                  1528\n",
       "underground              643\n",
       "residential_complex     5902\n",
       "flat_id                    0\n",
       "dtype: int64"
      ]
     },
     "execution_count": 22,
     "metadata": {},
     "output_type": "execute_result"
    }
   ],
   "source": [
    "data.isna().sum()"
   ]
  },
  {
   "cell_type": "code",
   "execution_count": 23,
   "id": "3cc7c7a0",
   "metadata": {},
   "outputs": [],
   "source": [
    "data = data.drop(data_duplicated_indexes, axis =0)"
   ]
  },
  {
   "cell_type": "code",
   "execution_count": 25,
   "id": "371f5e14",
   "metadata": {},
   "outputs": [],
   "source": [
    "data[['total_meters', \n",
    "      'price_per_m2',\n",
    "      'year_of_construction',\n",
    "      'living_meters',\n",
    "      'kitchen_meters']] = data[['total_meters', 'price_per_m2','year_of_construction','living_meters','kitchen_meters']].replace(-1.0, None)"
   ]
  },
  {
   "cell_type": "code",
   "execution_count": 26,
   "id": "a7542e13",
   "metadata": {},
   "outputs": [
    {
     "data": {
      "text/plain": [
       "total_meters            object\n",
       "price_per_m2             int64\n",
       "year_of_construction    object\n",
       "living_meters           object\n",
       "kitchen_meters          object\n",
       "dtype: object"
      ]
     },
     "execution_count": 26,
     "metadata": {},
     "output_type": "execute_result"
    }
   ],
   "source": [
    "data[['total_meters', \n",
    "      'price_per_m2',\n",
    "      'year_of_construction',\n",
    "      'living_meters',\n",
    "      'kitchen_meters']].dtypes"
   ]
  },
  {
   "cell_type": "code",
   "execution_count": 27,
   "id": "a4574ab7",
   "metadata": {},
   "outputs": [
    {
     "data": {
      "text/plain": [
       "author                    91\n",
       "author_type               80\n",
       "city                       0\n",
       "floor                      0\n",
       "floors_count               0\n",
       "rooms_count                0\n",
       "total_meters               9\n",
       "price_per_m2               0\n",
       "price                      0\n",
       "year_of_construction     719\n",
       "living_meters           3278\n",
       "kitchen_meters          3508\n",
       "phone                      1\n",
       "district                 764\n",
       "street                  1527\n",
       "underground              643\n",
       "residential_complex     5898\n",
       "flat_id                    0\n",
       "dtype: int64"
      ]
     },
     "execution_count": 27,
     "metadata": {},
     "output_type": "execute_result"
    }
   ],
   "source": [
    "data.isna().sum()"
   ]
  },
  {
   "cell_type": "code",
   "execution_count": null,
   "id": "bb32c7f1",
   "metadata": {},
   "outputs": [],
   "source": [
    "data.drop(data[(data.isna().sum(axis=1) >= 4)].index, axis = 0, inplace =True)"
   ]
  },
  {
   "cell_type": "code",
   "execution_count": null,
   "id": "d399659f",
   "metadata": {},
   "outputs": [],
   "source": [
    "data.loc[(data.price_per_m2 <=0),'price_per_m2'] = None "
   ]
  },
  {
   "cell_type": "code",
   "execution_count": 28,
   "id": "37fa0b0a",
   "metadata": {},
   "outputs": [
    {
     "data": {
      "text/plain": [
       "author                    91\n",
       "author_type               80\n",
       "city                       0\n",
       "floor                      0\n",
       "floors_count               0\n",
       "rooms_count                0\n",
       "total_meters               9\n",
       "price_per_m2               0\n",
       "price                      0\n",
       "year_of_construction     719\n",
       "living_meters           3278\n",
       "kitchen_meters          3508\n",
       "phone                      1\n",
       "district                 764\n",
       "street                  1527\n",
       "underground              643\n",
       "residential_complex     5898\n",
       "flat_id                    0\n",
       "dtype: int64"
      ]
     },
     "execution_count": 28,
     "metadata": {},
     "output_type": "execute_result"
    }
   ],
   "source": [
    "data.isna().sum()"
   ]
  },
  {
   "cell_type": "code",
   "execution_count": null,
   "id": "629f2faf",
   "metadata": {},
   "outputs": [],
   "source": [
    "data['author'].fillna(data['author'].mode()[0], inplace =True)\n",
    "data['author_type'].fillna(data['author_type'].mode()[0], inplace =True)"
   ]
  },
  {
   "cell_type": "code",
   "execution_count": null,
   "id": "899e70a0",
   "metadata": {},
   "outputs": [],
   "source": [
    "data[['total_meters',\n",
    "             'living_meters',\n",
    "             'kitchen_meters']] = data[['total_meters','living_meters','kitchen_meters']].astype('float64')"
   ]
  },
  {
   "cell_type": "code",
   "execution_count": null,
   "id": "3d9b99c3",
   "metadata": {},
   "outputs": [],
   "source": [
    "data['total_meters'].fillna(data['total_meters'].median(), inplace =True)\n",
    "data['price_per_m2'].fillna(data['price_per_m2'].median(), inplace =True)"
   ]
  },
  {
   "cell_type": "code",
   "execution_count": null,
   "id": "f764261f",
   "metadata": {},
   "outputs": [],
   "source": [
    "data['year_of_construction'] = data['year_of_construction'].astype('int64',errors='ignore')"
   ]
  },
  {
   "cell_type": "code",
   "execution_count": null,
   "id": "dcd4fddf",
   "metadata": {},
   "outputs": [],
   "source": [
    "data.isna().sum()"
   ]
  },
  {
   "cell_type": "code",
   "execution_count": null,
   "id": "34f396ed",
   "metadata": {},
   "outputs": [],
   "source": [
    "data = data.drop(data[data['year_of_construction'].isna()].index, axis = 0)"
   ]
  },
  {
   "cell_type": "code",
   "execution_count": null,
   "id": "8cb2f687",
   "metadata": {},
   "outputs": [],
   "source": [
    "data = data.drop(data[data['living_meters'] < 0].index, axis = 0)"
   ]
  },
  {
   "cell_type": "markdown",
   "id": "b56c3851",
   "metadata": {},
   "source": [
    "# EDA"
   ]
  },
  {
   "cell_type": "code",
   "execution_count": null,
   "id": "03054930",
   "metadata": {
    "scrolled": true
   },
   "outputs": [],
   "source": [
    "data.isna().sum()"
   ]
  },
  {
   "cell_type": "code",
   "execution_count": null,
   "id": "68a00854",
   "metadata": {},
   "outputs": [],
   "source": [
    "data.describe(include=['int64','float64'])"
   ]
  },
  {
   "cell_type": "code",
   "execution_count": null,
   "id": "ad598dab",
   "metadata": {},
   "outputs": [],
   "source": [
    "data.describe(include=['O'])"
   ]
  },
  {
   "cell_type": "code",
   "execution_count": null,
   "id": "ebe6a003",
   "metadata": {},
   "outputs": [],
   "source": [
    "plt.figure(figsize=(7,5))\n",
    "plt.boxplot([data['total_meters'],\n",
    "             data[data['living_meters'].notnull()]['living_meters'],\n",
    "             data[data['kitchen_meters'].notnull()]['kitchen_meters']])\n",
    "plt.xticks([1,2,3],['total_meters','living_meters','kitchen_meters']);"
   ]
  },
  {
   "cell_type": "code",
   "execution_count": null,
   "id": "a547005b",
   "metadata": {},
   "outputs": [],
   "source": [
    "district_top30 = data.district.value_counts()\n",
    "plt.figure(figsize=(7,5))\n",
    "sns.barplot(x = district_top30.index[:30], y =district_top30[:30])\n",
    "plt.ylabel('Количество квартир на продажу в этом районе')\n",
    "plt.xlabel('Район')\n",
    "plt.xticks(rotation = 45,ha='right');"
   ]
  },
  {
   "cell_type": "code",
   "execution_count": null,
   "id": "647b8789",
   "metadata": {},
   "outputs": [],
   "source": [
    "developers_top10 = data['author'].value_counts()[:10]\n",
    "plt.figure(figsize=(5,4))\n",
    "sns.barplot(x = developers_top10.index, y =developers_top10)\n",
    "plt.ylabel('Количество предложений на рынке')\n",
    "plt.xlabel('Застройщик')\n",
    "plt.xticks(rotation = 30,ha='right');"
   ]
  },
  {
   "cell_type": "code",
   "execution_count": null,
   "id": "5ccf78c5",
   "metadata": {},
   "outputs": [],
   "source": [
    "sns.jointplot(x = data.living_meters,y = data['total_meters'], kind = 'reg');"
   ]
  },
  {
   "cell_type": "code",
   "execution_count": null,
   "id": "6a8bf674",
   "metadata": {},
   "outputs": [],
   "source": [
    "corr_matrix = data.corr(numeric_only =True)\n",
    "corr_matrix = np.round(corr_matrix, 2)\n",
    "corr_matrix[np.abs(corr_matrix) < 0.35] = 0\n",
    "plt.figure(figsize=(7,7))\n",
    "sns.heatmap(corr_matrix,annot=True,linewidths = 0.5, cmap = 'coolwarm');"
   ]
  },
  {
   "cell_type": "markdown",
   "id": "c2a36860",
   "metadata": {},
   "source": [
    "## living_meters (исследование признака и заполнение пропусков)"
   ]
  },
  {
   "cell_type": "code",
   "execution_count": null,
   "id": "ce41486c",
   "metadata": {},
   "outputs": [],
   "source": [
    "plt.figure(figsize = (7,7))\n",
    "sns.pairplot(data[['living_meters','total_meters','price','kitchen_meters']],\n",
    "             height=2.5, aspect=1.5, \n",
    "             diag_kind='hist');"
   ]
  },
  {
   "cell_type": "code",
   "execution_count": null,
   "id": "ae7617db",
   "metadata": {},
   "outputs": [],
   "source": [
    "plt.figure(figsize = (5,5))\n",
    "sns.histplot(data=data['living_meters'],bins =30);"
   ]
  },
  {
   "cell_type": "code",
   "execution_count": null,
   "id": "8c8b4752",
   "metadata": {},
   "outputs": [],
   "source": [
    "# создаю датасет для регрессии\n",
    "data_reg = data[['living_meters','total_meters','price','kitchen_meters','rooms_count']].copy()"
   ]
  },
  {
   "cell_type": "code",
   "execution_count": null,
   "id": "2e57b221",
   "metadata": {},
   "outputs": [],
   "source": [
    "corr_matrix = data_reg.corr()\n",
    "sns.heatmap(corr_matrix, annot =True);"
   ]
  },
  {
   "cell_type": "code",
   "execution_count": null,
   "id": "8794583b",
   "metadata": {},
   "outputs": [],
   "source": [
    "# проверяю линейную связь между целевой и независимыми переменными\n",
    "living_meters_nonan = data_reg[(data_reg['living_meters'].notnull()) & (data_reg['kitchen_meters'].notnull())]['living_meters']\n",
    "\n",
    "pvalue1 = pearsonr(living_meters_nonan.values,data_reg.loc[living_meters_nonan.index,'total_meters'].values)[1]\n",
    "\n",
    "pvalue2 = pearsonr(living_meters_nonan.values,data_reg.loc[living_meters_nonan.index,'kitchen_meters'].values)[1]\n",
    "\n",
    "pvalue3 = pearsonr(living_meters_nonan.values,data_reg.loc[living_meters_nonan.index,'price'].values)[1]\n",
    "\n",
    "pvalue4 = pearsonr(living_meters_nonan.values,data_reg.loc[living_meters_nonan.index,'rooms_count'].values)[1]\n",
    "print(pvalue1,pvalue2,pvalue3)"
   ]
  },
  {
   "cell_type": "code",
   "execution_count": null,
   "id": "a1332cbf",
   "metadata": {},
   "outputs": [],
   "source": [
    "# проверка мультиколлинеарности\n",
    "pear1 = pearsonr(data_reg.loc[living_meters_nonan.index,'total_meters'].values,\n",
    "                   data_reg.loc[living_meters_nonan.index,'kitchen_meters'].values)\n",
    "\n",
    "pear2 = pearsonr(data_reg.loc[living_meters_nonan.index,'total_meters'].values,\n",
    "                   data_reg.loc[living_meters_nonan.index,'price'].values)\n",
    "\n",
    "pear3 = pearsonr(data_reg.loc[living_meters_nonan.index,'kitchen_meters'].values,\n",
    "                   data_reg.loc[living_meters_nonan.index,'price'].values)\n",
    "pear4 = pearsonr(data_reg.loc[living_meters_nonan.index,'rooms_count'].values,\n",
    "                   data_reg.loc[living_meters_nonan.index,'total_meters'].values)\n",
    "print(pear1,pear2,pear3,pear4)"
   ]
  },
  {
   "cell_type": "markdown",
   "id": "37eb7d24",
   "metadata": {},
   "source": [
    "## Условия для линейной регрессии\n",
    "1. Количественные переменные\n",
    "2. линейная связь между зависимой и независимыми переменными(есть)\n",
    "3. нормальное распределение ошибок\n",
    "4. Гомоскедастичность(остатки имеют плюс-минус равную дисперсию во всех значениях х)\n",
    "5. Отсутствует мультиколлинеарность(независимые переменные:,'total_meters','kitchen_meters','price'), почти отсутсвует"
   ]
  },
  {
   "cell_type": "markdown",
   "id": "8170bc69",
   "metadata": {},
   "source": [
    "## LinearRegression"
   ]
  },
  {
   "cell_type": "code",
   "execution_count": null,
   "id": "dcf31e91",
   "metadata": {},
   "outputs": [],
   "source": [
    "lr = LinearRegression(fit_intercept=True)\n",
    "y_living_meters = data_reg[(data_reg['living_meters'].notnull()) & (data_reg['kitchen_meters'].notnull())]['living_meters']\n",
    "X_living_meters = data_reg[(data_reg['living_meters'].notnull()) & (data_reg['kitchen_meters'].notnull())].iloc[:,[1,2,3,4]]\n",
    "lr.fit(X_living_meters,y_living_meters)\n",
    "y_pred = lr.predict(X_living_meters)\n",
    "resid = y_living_meters - y_pred"
   ]
  },
  {
   "cell_type": "code",
   "execution_count": null,
   "id": "5e0ad822",
   "metadata": {},
   "outputs": [],
   "source": [
    "lr.intercept_"
   ]
  },
  {
   "cell_type": "code",
   "execution_count": null,
   "id": "764b1cf4",
   "metadata": {},
   "outputs": [],
   "source": [
    "# тест на автокорреляцию остатков\n",
    "sm.stats.stattools.durbin_watson(resid)"
   ]
  },
  {
   "cell_type": "markdown",
   "id": "c0465774",
   "metadata": {},
   "source": [
    "Автокорреляция остатков почти отсутствует, так как тест показал 1.69(2 это полное отсутствие)"
   ]
  },
  {
   "cell_type": "code",
   "execution_count": null,
   "id": "bbeacdea",
   "metadata": {
    "scrolled": true
   },
   "outputs": [],
   "source": [
    "# распределение ошибок\n",
    "plt.figure(figsize= (3,3))\n",
    "plt.hist(resid,bins = 30);"
   ]
  },
  {
   "cell_type": "code",
   "execution_count": null,
   "id": "81b402e6",
   "metadata": {
    "scrolled": true
   },
   "outputs": [],
   "source": [
    "# гомоскедастичность остатков\n",
    "for i in range(0,4):\n",
    "    plt.figure(figsize= (3,3))\n",
    "    plt.scatter(X_living_meters.iloc[:,i].values, resid.values, alpha=0.5)\n",
    "    plt.axhline(y=0, color='g', linestyle='-')\n",
    "    plt.xlabel(f'{X_living_meters.columns[i]}')\n",
    "    plt.ylabel('Остатки')\n",
    "    plt.title(f'График остатков для {X_living_meters.columns[i]}')\n",
    "plt.show()"
   ]
  },
  {
   "cell_type": "code",
   "execution_count": null,
   "id": "e1e06cf5",
   "metadata": {},
   "outputs": [],
   "source": [
    "mae = mean_absolute_error(y_living_meters.values, y_pred) \n",
    "# mae насколько в среднем по модулю отличаются предсказанные от истинных в оригинальных единицах измерения\n",
    "mse = mean_squared_error(y_living_meters.values, y_pred) # mse и rmse сильнее подвержены влиянию выбросов, чем mae\n",
    "rmse = np.sqrt(mse)\n",
    "r2 = r2_score(y_living_meters.values, y_pred)\n",
    "print('mae: %.3f \\nmse: %.3f \\nrmse: %.3f \\nr2:%.3f'%(mae,mse,rmse,r2))"
   ]
  },
  {
   "cell_type": "code",
   "execution_count": null,
   "id": "76e647d0",
   "metadata": {},
   "outputs": [],
   "source": [
    "lr.score(X_living_meters, y_living_meters)"
   ]
  },
  {
   "cell_type": "code",
   "execution_count": null,
   "id": "65b9cff0",
   "metadata": {},
   "outputs": [],
   "source": [
    "SSR = np.sum(resid**2)\n",
    "# Стандартная ошибка оценки (Standard Error of the Estimate, SEE)\n",
    "SSE = np.sqrt(SSR / (len(y_living_meters) - X_living_meters.shape[1]+1))\n",
    "# SSR - сумма квадратов остатков, n - количество наблюдений и p - количество параметров (коэффициентов), включая константу.\n",
    "print(f'SSE:{SSE}')"
   ]
  },
  {
   "cell_type": "code",
   "execution_count": null,
   "id": "f00731d4",
   "metadata": {},
   "outputs": [],
   "source": [
    "scores = cross_val_score(lr, X_living_meters, y_living_meters, cv=5)\n",
    "print('CV R^2: {:.3f} +- {:.3f}'.format(np.mean(scores), np.std(scores)))"
   ]
  },
  {
   "cell_type": "code",
   "execution_count": null,
   "id": "4fa13ca3",
   "metadata": {},
   "outputs": [],
   "source": [
    "plt.figure(figsize=(5, 5))\n",
    "sns.histplot(y_pred)\n",
    "sns.histplot(y_living_meters);"
   ]
  },
  {
   "cell_type": "markdown",
   "id": "e359fc1e",
   "metadata": {},
   "source": [
    "## Полиномиальная регрессия - оказалась лучше множественной линейной регрессии(лучший набор признаков : 1,3,4)"
   ]
  },
  {
   "cell_type": "code",
   "execution_count": null,
   "id": "bbf51ddc",
   "metadata": {},
   "outputs": [],
   "source": [
    "y_living_meters = data_reg[(data_reg['living_meters'].notnull())]['living_meters']\n",
    "X_living_meters = data_reg[(data_reg['living_meters'].notnull())].iloc[:,[1,2,4]]"
   ]
  },
  {
   "cell_type": "code",
   "execution_count": null,
   "id": "0d13b281",
   "metadata": {},
   "outputs": [],
   "source": [
    "X_train, X_test, y_train, y_test = train_test_split(X_living_meters, y_living_meters, test_size=0.2, random_state=42)\n",
    "\n",
    "poly = PolynomialFeatures(degree=1)\n",
    "X_train = poly.fit_transform(X_train)\n",
    "X_test = poly.fit_transform(X_test)\n",
    "lr = LinearRegression(fit_intercept=True)\n",
    "\n",
    "lr.fit(X_train,y_train)\n",
    "y_pred = lr.predict(X_test)\n",
    "resid = y_test - y_pred\n",
    "\n",
    "mae = mean_absolute_error(y_test, y_pred) \n",
    "# rmse насколько в среднем по модулю отличаются предсказанные от истинных в оригинальных единицах измерения\n",
    "mse = mean_squared_error(y_test, y_pred) # mse и rmse сильнее подвержены влиянию выбросов, чем mae\n",
    "rmse = np.sqrt(mse)\n",
    "r2 = r2_score(y_test, y_pred)\n",
    "print('mae: %.3f \\nmse: %.3f \\nrmse: %.3f \\nr2:%.3f'%(mae,mse,rmse,r2))"
   ]
  },
  {
   "cell_type": "code",
   "execution_count": null,
   "id": "562d237c",
   "metadata": {},
   "outputs": [],
   "source": [
    "plt.figure(figsize=(5, 5))\n",
    "sns.histplot(y_pred,bins = 75)\n",
    "sns.histplot(y_test,bins = 75);"
   ]
  },
  {
   "cell_type": "code",
   "execution_count": null,
   "id": "8bd9c637",
   "metadata": {},
   "outputs": [],
   "source": [
    "sm.stats.stattools.durbin_watson(resid)"
   ]
  },
  {
   "cell_type": "code",
   "execution_count": null,
   "id": "09a3048f",
   "metadata": {},
   "outputs": [],
   "source": [
    "# распределение ошибок\n",
    "plt.figure(figsize= (3,3))\n",
    "plt.hist(resid,bins = 30);"
   ]
  },
  {
   "cell_type": "code",
   "execution_count": null,
   "id": "b2688e93",
   "metadata": {},
   "outputs": [],
   "source": [
    "scores = cross_val_score(lr, X_test, y_test, cv=5)\n",
    "print('CV R^2: {:.3f} +- {:.3f}'.format(np.mean(scores), np.std(scores)))"
   ]
  },
  {
   "cell_type": "code",
   "execution_count": null,
   "id": "f5401840",
   "metadata": {
    "scrolled": true
   },
   "outputs": [],
   "source": [
    "living_meters_nan = data[data.living_meters.isna()][['total_meters','price','rooms_count']]\n",
    "living_meters_nan = poly.fit_transform(living_meters_nan)\n",
    "living_meters_nan = lr.predict(living_meters_nan)"
   ]
  },
  {
   "cell_type": "code",
   "execution_count": null,
   "id": "26aa37ae",
   "metadata": {},
   "outputs": [],
   "source": [
    "plt.figure(figsize=(5, 5))\n",
    "sns.histplot(living_meters_nan,bins = 75);"
   ]
  },
  {
   "cell_type": "code",
   "execution_count": null,
   "id": "5cb9d8bd",
   "metadata": {},
   "outputs": [],
   "source": [
    "data.loc[data.living_meters.isna(),'living_meters'] = living_meters_nan"
   ]
  },
  {
   "cell_type": "markdown",
   "id": "a31a0e48",
   "metadata": {},
   "source": [
    "## Заполнение пропусков в kitchen_meters\n",
    "(заметка:с категориальными признаками нет корреляции вообще)"
   ]
  },
  {
   "cell_type": "markdown",
   "id": "fea21f7e",
   "metadata": {},
   "source": [
    "## LinearRegression"
   ]
  },
  {
   "cell_type": "code",
   "execution_count": null,
   "id": "459f2a36",
   "metadata": {},
   "outputs": [],
   "source": [
    "data['year_of_construction'] = data.year_of_construction.astype('int32')"
   ]
  },
  {
   "cell_type": "code",
   "execution_count": null,
   "id": "32e19910",
   "metadata": {},
   "outputs": [],
   "source": [
    "lr = LinearRegression(fit_intercept=True)\n",
    "y = data[(data['kitchen_meters'].notnull())]['kitchen_meters'].copy()\n",
    "X = data.select_dtypes(['float','int'])[(data['kitchen_meters'].notnull())].iloc[:,[2,3,5,7]].copy()"
   ]
  },
  {
   "cell_type": "code",
   "execution_count": null,
   "id": "6f34e357",
   "metadata": {},
   "outputs": [],
   "source": [
    "lr.fit(X,y)\n",
    "y_pred = lr.predict(X)\n",
    "resid = y - y_pred"
   ]
  },
  {
   "cell_type": "code",
   "execution_count": null,
   "id": "cc9547d4",
   "metadata": {},
   "outputs": [],
   "source": [
    "mae = mean_absolute_error(y.values, y_pred) \n",
    "mse = mean_squared_error(y.values, y_pred)\n",
    "rmse = np.sqrt(mse)\n",
    "r2 = r2_score(y.values, y_pred)\n",
    "print('mae: %.3f \\nmse: %.3f \\nrmse: %.3f \\nr2:%.3f'%(mae,mse,rmse,r2))"
   ]
  },
  {
   "cell_type": "markdown",
   "id": "b0aa5cfd",
   "metadata": {},
   "source": [
    "## Полином"
   ]
  },
  {
   "cell_type": "code",
   "execution_count": null,
   "id": "80837fb6",
   "metadata": {},
   "outputs": [],
   "source": [
    "y = data[(data['kitchen_meters'].notnull())]['kitchen_meters'].copy()\n",
    "X = data.select_dtypes(['float','int'])[(data['kitchen_meters'].notnull())].iloc[:,[2,3,5,7]].copy()\n",
    "\n",
    "poly = PolynomialFeatures(degree=2)\n",
    "X = poly.fit_transform(X)\n",
    "lr = LinearRegression(fit_intercept=True)\n",
    "\n",
    "lr.fit(X,y)\n",
    "y_pred = lr.predict(X)\n",
    "resid = y - y_pred"
   ]
  },
  {
   "cell_type": "code",
   "execution_count": null,
   "id": "97ab0164",
   "metadata": {},
   "outputs": [],
   "source": [
    "mae = mean_absolute_error(y.values, y_pred) \n",
    "mse = mean_squared_error(y.values, y_pred)\n",
    "rmse = np.sqrt(mse)\n",
    "r2 = r2_score(y.values, y_pred)\n",
    "print('mae: %.3f \\nmse: %.3f \\nrmse: %.3f \\nr2:%.3f'%(mae,mse,rmse,r2))"
   ]
  },
  {
   "cell_type": "markdown",
   "id": "a04cda4f",
   "metadata": {},
   "source": [
    "## Градиентный бустинг"
   ]
  },
  {
   "attachments": {
    "image.png": {
     "image/png": "[encoded data removed]"
    }
   },
   "cell_type": "markdown",
   "id": "bd90959c",
   "metadata": {},
   "source": [
    "Подобрал оптимальные параметры с помощью сетки параметров\n",
    "![image.png](attachment:image.png)\n",
    "Выбрал эти признаки['total_meters','price','year_of_construction','living_meters','city'], потому что они имели наибольшую важность среди всех остальных"
   ]
  },
  {
   "cell_type": "code",
   "execution_count": null,
   "id": "22a42798",
   "metadata": {},
   "outputs": [],
   "source": [
    "y = data[(data['kitchen_meters'].notnull())]['kitchen_meters'].copy()\n",
    "X = data[(data['kitchen_meters'].notnull())].loc[:,['total_meters','price','year_of_construction','living_meters','city']].copy()\n",
    "label_encoder = LabelEncoder()\n",
    "for item in ['city']:\n",
    "    X[item] = label_encoder.fit_transform(X[item])\n",
    "    \n",
    "X_train, X_test, y_train, y_test = train_test_split(X, y, test_size=0.2, random_state=42)\n",
    "scaler = RobustScaler()\n",
    "X_train = scaler.fit_transform(X_train)\n",
    "X_test = scaler.transform(X_test)"
   ]
  },
  {
   "cell_type": "code",
   "execution_count": null,
   "id": "10859eca",
   "metadata": {},
   "outputs": [],
   "source": [
    "model = GradientBoostingRegressor(learning_rate = 0.02,\n",
    "                                  n_estimators = 170,\n",
    "                                  min_samples_split = 35,\n",
    "                                  min_samples_leaf = 5,\n",
    "                                  min_weight_fraction_leaf = 0.0,\n",
    "                                  min_impurity_decrease = 10.5,\n",
    "                                  max_leaf_nodes = 170,\n",
    "                                  criterion = 'friedman_mse',\n",
    "                                  max_depth =8,\n",
    "                                  verbose = 1,\n",
    "                                  loss = 'squared_error',\n",
    "                                  max_features = 1.0,\n",
    "                                  random_state=42)\n",
    "model.fit(X_train,y_train)\n",
    "y_pred = model.predict(X_test)\n",
    "mae = mean_absolute_error(y_test, y_pred) \n",
    "mse = mean_squared_error(y_test, y_pred)\n",
    "rmse = np.sqrt(mse)\n",
    "r2 = r2_score(y_test, y_pred)\n",
    "print('mae: %.3f \\nmse: %.3f \\nrmse: %.3f \\nr2:%.3f'%(mae,mse,rmse,r2))"
   ]
  },
  {
   "cell_type": "code",
   "execution_count": null,
   "id": "df25c259",
   "metadata": {},
   "outputs": [],
   "source": [
    "sns.histplot(y_test)\n",
    "sns.histplot(y_pred);"
   ]
  },
  {
   "cell_type": "markdown",
   "id": "ce786b2d",
   "metadata": {},
   "source": [
    "## AdaBoost"
   ]
  },
  {
   "attachments": {
    "image.png": {
     "image/png": "[encoded data removed]"
    }
   },
   "cell_type": "markdown",
   "id": "bcb7ba56",
   "metadata": {},
   "source": [
    "![image.png](attachment:image.png)"
   ]
  },
  {
   "attachments": {
    "image.png": {
     "image/png": "[encoded data removed]"
    }
   },
   "cell_type": "markdown",
   "id": "5b4ad876",
   "metadata": {},
   "source": [
    "![image.png](attachment:image.png)"
   ]
  },
  {
   "cell_type": "markdown",
   "id": "4c914b93",
   "metadata": {},
   "source": [
    "Строю модель по уже подобранным параметрам"
   ]
  },
  {
   "cell_type": "code",
   "execution_count": null,
   "id": "7d04a084",
   "metadata": {},
   "outputs": [],
   "source": [
    "y = data[(data['kitchen_meters'].notnull())]['kitchen_meters'].copy()\n",
    "X = data[(data['kitchen_meters'].notnull())].loc[:,['total_meters',\n",
    "                                                    'price',\n",
    "                                                    'year_of_construction',\n",
    "                                                    'living_meters',\n",
    "                                                    'author'\n",
    "                                                    ]].copy() # 'author','price_per_m2'\n",
    "label_encoder = LabelEncoder()\n",
    "for item in ['author']:\n",
    "    X[item] = label_encoder.fit_transform(X[item])\n",
    "                                                 \n",
    "X_train, X_test, y_train, y_test = train_test_split(X, y, test_size=0.2, random_state=42)"
   ]
  },
  {
   "cell_type": "code",
   "execution_count": null,
   "id": "2c8bd102",
   "metadata": {},
   "outputs": [],
   "source": [
    "plt.figure(figsize = (3,3))\n",
    "sns.boxplot(y_train.values);"
   ]
  },
  {
   "cell_type": "code",
   "execution_count": null,
   "id": "096c99ff",
   "metadata": {},
   "outputs": [],
   "source": [
    "iqr = stats.iqr(y_train) # разница между 3 и 1 квартилями\n",
    "q1 = np.quantile(y_train, 0.25)\n",
    "q3 = np.quantile(y_train, 0.75)\n",
    "lower = q1 - iqr * 1.5\n",
    "upper = q3 + iqr * 1.5\n",
    "outliers = y_train[(y_train < lower) | (y_train > upper)]\n",
    "y_train.drop(outliers.index, inplace = True)"
   ]
  },
  {
   "cell_type": "code",
   "execution_count": null,
   "id": "b7e1b5ce",
   "metadata": {
    "scrolled": true
   },
   "outputs": [],
   "source": [
    "plt.figure(figsize = (3,3))\n",
    "sns.boxplot(y_train.values);"
   ]
  },
  {
   "cell_type": "code",
   "execution_count": null,
   "id": "77b6dd6a",
   "metadata": {},
   "outputs": [],
   "source": [
    "iqr = stats.iqr(y_test) # разница между 3 и 1 квартилями\n",
    "q1 = np.quantile(y_test, 0.25)\n",
    "q3 = np.quantile(y_test, 0.75)\n",
    "lower = q1 - iqr * 1.5\n",
    "upper = q3 + iqr * 1.5\n",
    "outliers = y_test[(y_test < lower) | (y_test > upper)]\n",
    "y_test.drop(outliers.index, inplace = True)"
   ]
  },
  {
   "cell_type": "code",
   "execution_count": null,
   "id": "de330ef7",
   "metadata": {},
   "outputs": [],
   "source": [
    "X_train = X_train.loc[y_train.index]\n",
    "X_test = X_test.loc[y_test.index]\n",
    "DTR = DecisionTreeRegressor(max_depth=12,\n",
    "                            min_samples_split = 14,\n",
    "                            min_samples_leaf = 5,\n",
    "                            min_weight_fraction_leaf = 0.0,\n",
    "                            min_impurity_decrease=0.0)\n",
    "\n",
    "ABC = AdaBoostRegressor(random_state=42,\n",
    "                        estimator = DTR, \n",
    "                        n_estimators=159, \n",
    "                        learning_rate=0.01, \n",
    "                       loss='exponential')\n",
    "ABC.fit(X_train, y_train)\n",
    "y_pred = ABC.predict(X_test)\n",
    "mae = mean_absolute_error(y_test, y_pred) \n",
    "mse = mean_squared_error(y_test, y_pred)\n",
    "rmse = np.sqrt(mse) # показывает дисперсию ошибки\n",
    "r2 = r2_score(y_test, y_pred)\n",
    "medae = median_absolute_error(y_test, y_pred)\n",
    "print('mae: %.3f \\nmse: %.3f \\nrmse: %.3f \\nr2:%.3f \\nmedae:%.3f'%(mae,mse,rmse,r2,medae))"
   ]
  },
  {
   "cell_type": "code",
   "execution_count": null,
   "id": "300e3883",
   "metadata": {},
   "outputs": [],
   "source": [
    "resid = y_test - y_pred\n",
    "sm.stats.stattools.durbin_watson(resid)"
   ]
  },
  {
   "cell_type": "code",
   "execution_count": null,
   "id": "34cd350f",
   "metadata": {},
   "outputs": [],
   "source": [
    "# распределение ошибок\n",
    "plt.figure(figsize= (3,3))\n",
    "plt.hist(resid,bins = 30);"
   ]
  },
  {
   "cell_type": "code",
   "execution_count": null,
   "id": "2eedbdc6",
   "metadata": {
    "scrolled": true
   },
   "outputs": [],
   "source": [
    "# гомоскедастичность остатков\n",
    "for i in range(0,5):\n",
    "    plt.figure(figsize= (3,3))\n",
    "    plt.scatter(X_test.iloc[:,i].values, resid.values, alpha=0.5)\n",
    "    plt.axhline(y=0, color='g', linestyle='-')\n",
    "    plt.xlabel(f'{X_test.columns[i]}')\n",
    "    plt.ylabel('Остатки')\n",
    "    plt.title(f'График остатков для {X_test.columns[i]}')\n",
    "plt.show()"
   ]
  },
  {
   "cell_type": "code",
   "execution_count": null,
   "id": "f59d15f4",
   "metadata": {},
   "outputs": [],
   "source": [
    "sns.histplot(y_test)\n",
    "sns.histplot(y_pred);"
   ]
  },
  {
   "cell_type": "code",
   "execution_count": null,
   "id": "10d39baa",
   "metadata": {},
   "outputs": [],
   "source": [
    "scores = cross_val_score(ABC, X_test, y_test, cv=5)\n",
    "print('CV R^2: {:.3f} +- {:.3f}'.format(np.mean(scores), np.std(scores)))"
   ]
  },
  {
   "cell_type": "code",
   "execution_count": null,
   "id": "6133216e",
   "metadata": {},
   "outputs": [],
   "source": [
    "ABC.feature_importances_"
   ]
  },
  {
   "cell_type": "code",
   "execution_count": null,
   "id": "e4a2c39a",
   "metadata": {},
   "outputs": [],
   "source": [
    "# Эти наблюдения содержат аномальные значения в столбце kitchen_meters, возможно, при заполнении пропусков стоит убрать значения\n",
    "# Здесь я ищу средние значения независимых переменных, в которых kitchen_meters имеет аномальные значения\n",
    "iqr = stats.iqr(data[(data['kitchen_meters'].notnull())]['kitchen_meters'])\n",
    "q3 = np.quantile(data[(data['kitchen_meters'].notnull())]['kitchen_meters'], 0.75)\n",
    "upper = q3 + iqr * 1.5\n",
    "anomal_data = data[(data['kitchen_meters'].notnull()) & (data['kitchen_meters'] > upper)].sort_values(['price','living_meters']).describe()"
   ]
  },
  {
   "cell_type": "code",
   "execution_count": null,
   "id": "78b15eef",
   "metadata": {},
   "outputs": [],
   "source": [
    "# эти данные нужно выкинуть перед заполнением, так как скорее всего, kitchen_meters будет аномальным у них\n",
    "data_nan_anomal = data[(data.price > anomal_data.price['25%']) & \n",
    "     (data.total_meters > anomal_data.total_meters['25%']) &\n",
    "     (data.price_per_m2 > anomal_data.price_per_m2['25%']) &\n",
    "     (data.year_of_construction > anomal_data.year_of_construction['25%']) &\n",
    "     (data.living_meters > anomal_data.living_meters['25%']) & (data['kitchen_meters'].isna())]"
   ]
  },
  {
   "cell_type": "code",
   "execution_count": null,
   "id": "871efcae",
   "metadata": {},
   "outputs": [],
   "source": [
    "data_nan_anomal.shape"
   ]
  },
  {
   "cell_type": "markdown",
   "id": "6254b64d",
   "metadata": {},
   "source": [
    "# Удаляю все наблюдения, которые не удалось заполнить"
   ]
  },
  {
   "cell_type": "code",
   "execution_count": null,
   "id": "18f8f5d2",
   "metadata": {},
   "outputs": [],
   "source": [
    "data.shape"
   ]
  },
  {
   "cell_type": "code",
   "execution_count": null,
   "id": "29c23415",
   "metadata": {},
   "outputs": [],
   "source": [
    "data.isna().sum()"
   ]
  },
  {
   "cell_type": "code",
   "execution_count": null,
   "id": "8fcf37b8",
   "metadata": {},
   "outputs": [],
   "source": [
    "data.drop(data[data.street.isna()].index, inplace = True)\n",
    "data.drop(data[data.kitchen_meters.isna()].index, inplace = True)"
   ]
  },
  {
   "cell_type": "code",
   "execution_count": null,
   "id": "9aaa732e",
   "metadata": {},
   "outputs": [],
   "source": [
    "data.drop(data[data.underground.isna()].index, inplace = True)\n",
    "data.drop(['residential_complex'] , axis = 1, inplace = True)"
   ]
  },
  {
   "cell_type": "code",
   "execution_count": null,
   "id": "50ffe514",
   "metadata": {},
   "outputs": [],
   "source": [
    "data.shape"
   ]
  },
  {
   "cell_type": "code",
   "execution_count": null,
   "id": "7ac36cff",
   "metadata": {},
   "outputs": [],
   "source": [
    "data.isna().sum()"
   ]
  },
  {
   "cell_type": "code",
   "execution_count": null,
   "id": "92c04171",
   "metadata": {},
   "outputs": [],
   "source": [
    "# import pygsheets\n",
    "# data_for_dashboard = data[['author', 'city', 'district', 'street', 'underground']].copy()\n",
    "# # https://pygsheets.readthedocs.io/en/stable/authorization.html(json скачаю, палить его нельзя)\n",
    "# gc = pygsheets.authorize(service_file='path/to/credentials.json')\n",
    "\n",
    "# # Открытие таблицы по URL\n",
    "# sh = gc.open_by_url('spreadsheet_url')\n",
    "\n",
    "# # Выбор рабочего листа\n",
    "# wks = sh[0]\n",
    "\n",
    "# # Создание датафрейма\n",
    "# df = pd.DataFrame({'A': [1, 2], 'B': [3, 4]})\n",
    "\n",
    "# # Загрузка данных из датафрейма в Google Таблицы\n",
    "# wks.set_dataframe(df, 'A1')"
   ]
  },
  {
   "cell_type": "code",
   "execution_count": null,
   "id": "290e9aca-6344-45c5-8ad5-a086d6a44f94",
   "metadata": {},
   "outputs": [],
   "source": [
    "# data_for_dashboard = data[['author', 'city', 'district', 'street', 'underground']].copy()\n",
    "# data_for_dashboard.to_csv('data_for_dashboard.csv', sep = ';',index= False)"
   ]
  },
  {
   "cell_type": "markdown",
   "id": "332b74fc",
   "metadata": {},
   "source": [
    "# Создание главного алгоритма по предсказанию цены"
   ]
  },
  {
   "cell_type": "code",
   "execution_count": null,
   "id": "b2537d67",
   "metadata": {},
   "outputs": [],
   "source": [
    "X = data.copy()\n",
    "\n",
    "label_encoder = LabelEncoder()\n",
    "for item in X.select_dtypes(['object']): \n",
    "    X[item] = label_encoder.fit_transform(X[item])\n",
    "    \n",
    "corr_matrix = X.corr(numeric_only =True)\n",
    "corr_matrix = np.round(corr_matrix, 2)\n",
    "corr_matrix[np.abs(corr_matrix) < 0.35] = 0\n",
    "plt.figure(figsize=(5,5))\n",
    "sns.heatmap(corr_matrix,annot=True,linewidths = 0.5, cmap = 'coolwarm');"
   ]
  },
  {
   "cell_type": "code",
   "execution_count": null,
   "id": "f09e81af",
   "metadata": {},
   "outputs": [],
   "source": [
    "plt.figure(figsize = (3,3))\n",
    "sns.histplot(data=data['price'],bins =50);"
   ]
  },
  {
   "cell_type": "markdown",
   "id": "64149fb8",
   "metadata": {},
   "source": [
    "### AdaBoostRegressor оказался наилучшим\n",
    "У DecisionTreeRegressor нет требования к масштабу данных, так как он не использует расстояния между наблюдениями, нет требований по линейности данных, на качество могут повлиять выбросы"
   ]
  },
  {
   "cell_type": "code",
   "execution_count": null,
   "id": "5fba6fdd",
   "metadata": {},
   "outputs": [],
   "source": [
    "y = data['price'].copy()\n",
    "X = data.loc[:,['author', 'city', 'floor', 'floors_count', 'rooms_count',\n",
    "                'total_meters', 'year_of_construction','living_meters', 'kitchen_meters', \n",
    "                'district', 'street', 'underground']].copy() \n",
    "\n",
    "dict_classes = {}\n",
    "for item in X.select_dtypes(['object']):\n",
    "    label_encoder = LabelEncoder()\n",
    "    label_encoder = copy.copy(label_encoder.fit(X[item]))\n",
    "    dict_classes[item] = label_encoder\n",
    "    X[item] = label_encoder.transform(X[item])\n",
    "\n",
    "# Удаление выбросов в y\n",
    "iqr = stats.iqr(y) # разница между 3 и 1 квартилями\n",
    "q3 = np.quantile(y, 0.75)\n",
    "upper = q3 + iqr * 1.5\n",
    "outliers = y[(y > upper)]\n",
    "# потом на реальных данных можо выкидывать те значения Х, которые являются выбросами в тренировочном наборе и выводить алерт,\n",
    "# что мол вы ввели аномально большие значения. Пороговые значения для вывода алерта нужно будет потом определить как-нибудь\n",
    "outliers_stats = X.loc[outliers.index].describe()\n",
    "\n",
    "y.drop(outliers.index, inplace = True)\n",
    "X = X.loc[y.index]"
   ]
  },
  {
   "cell_type": "code",
   "execution_count": null,
   "id": "347271df",
   "metadata": {
    "scrolled": true
   },
   "outputs": [],
   "source": [
    "outliers_stats"
   ]
  },
  {
   "cell_type": "code",
   "execution_count": null,
   "id": "0d25519c",
   "metadata": {},
   "outputs": [],
   "source": [
    "X_train, X_test, y_train, y_test = train_test_split(X, y, test_size=0.2, random_state=42)\n",
    "plt.figure(figsize = (3,3))\n",
    "sns.boxplot(y.values);"
   ]
  },
  {
   "cell_type": "markdown",
   "id": "8e075201",
   "metadata": {},
   "source": [
    "criterion='absolute_error',\n",
    "                            max_depth= 9,\n",
    "                            max_features=1.0,\n",
    "                            min_samples_split=7,\n",
    "                            splitter='best',\n",
    "                            min_weight_fraction_leaf=0.004227138227420037,\n",
    "                            min_impurity_decrease =0.02\n",
    "{'criterion': 'poisson',\n",
    " 'max_depth': 5,\n",
    " 'max_features': 1.0,\n",
    " 'min_samples_split': 8,\n",
    " 'min_weight_fraction_leaf': 0.004227138227420037,\n",
    " 'splitter': 'best'}"
   ]
  },
  {
   "cell_type": "code",
   "execution_count": null,
   "id": "49a4cea7",
   "metadata": {},
   "outputs": [],
   "source": [
    "DTR = DecisionTreeRegressor(random_state=42,\n",
    "                            splitter='best',\n",
    "                            max_depth= None)\n",
    "\n",
    "ABC = AdaBoostRegressor(random_state=42,\n",
    "                        estimator = DTR, \n",
    "                        n_estimators=155, \n",
    "                        learning_rate=0.01, \n",
    "                       loss='linear')\n",
    "ABC.fit(X_train, y_train)\n",
    "y_pred = ABC.predict(X_test)\n",
    "mae = mean_absolute_error(y_test, y_pred) \n",
    "mse = mean_squared_error(y_test, y_pred)\n",
    "rmse = np.sqrt(mse) # показывает дисперсию ошибки\n",
    "r2 = r2_score(y_test, y_pred)\n",
    "medae = median_absolute_error(y_test, y_pred)\n",
    "print('mae: %.3f \\nmse: %.3f \\nrmse: %.3f \\nr2:%.3f \\nmedae:%.3f'%(mae,mse,rmse,r2,medae))"
   ]
  },
  {
   "cell_type": "code",
   "execution_count": null,
   "id": "d2378038",
   "metadata": {},
   "outputs": [],
   "source": [
    "#joblib.dump(ABC,'AdaBoostRegressor.joblib')"
   ]
  },
  {
   "cell_type": "markdown",
   "id": "ce22ff03",
   "metadata": {},
   "source": [
    "### Примерный алгоритм как должен работать в дэшборде "
   ]
  },
  {
   "cell_type": "code",
   "execution_count": null,
   "id": "826b7032",
   "metadata": {},
   "outputs": [],
   "source": [
    "input_data = np.array(['GloraX','Sankt-Peterburg',6,19,2,60.1,2025,27.1,14.4,'Vasileostrovskij','Morskoj','Zenit'])\n",
    "input_data = pd.Series(input_data, index =X.columns)\n",
    "for key in dict_classes.keys():\n",
    "    input_data[key] = dict_classes[key].transform(np.array([input_data[key]])).item()\n",
    "input_data = input_data.values.reshape(1,-1)\n",
    "np.round(ABC.predict(input_data).item())"
   ]
  },
  {
   "attachments": {
    "image.png": {
     "image/png": "[encoded data removed]"
    }
   },
   "cell_type": "markdown",
   "id": "c8317d78",
   "metadata": {},
   "source": [
    "![image.png](attachment:image.png)"
   ]
  },
  {
   "cell_type": "code",
   "execution_count": null,
   "id": "3d5f2b90",
   "metadata": {},
   "outputs": [],
   "source": [
    "np.set_printoptions(suppress=True)\n",
    "ABC.feature_importances_"
   ]
  },
  {
   "cell_type": "markdown",
   "id": "c9b84264",
   "metadata": {},
   "source": [
    "Попробовал подобрать наилучшие параметры DecisionTreeRegressor"
   ]
  },
  {
   "cell_type": "code",
   "execution_count": null,
   "id": "14bfe032",
   "metadata": {},
   "outputs": [],
   "source": [
    "i = 1\n",
    "n = X_train.shape[0]\n",
    "print(n)\n",
    "while i < 3:\n",
    "    n //=3\n",
    "    print(n)\n",
    "    i+=1\n",
    "print(f'нужно использовать {n} с factor = 3')"
   ]
  },
  {
   "cell_type": "code",
   "execution_count": null,
   "id": "eb5481fc",
   "metadata": {},
   "outputs": [],
   "source": [
    "%time\n",
    "# default_weight = 1/y_train.shape[0]\n",
    "# DTR = DecisionTreeRegressor()\n",
    "# params = {'criterion':['squared_error', 'absolute_error','friedman_mse','poisson'],\n",
    "#           'splitter': ['best', 'random'],\n",
    "#           'max_depth':np.logspace(1.1, 1.9, num=5, endpoint=True, base=5, dtype=int).tolist(),\n",
    "#           'min_samples_split':np.logspace(0.65, 1.5, num=7, endpoint=True, base=5, dtype=int).tolist(),\n",
    "#           'min_weight_fraction_leaf':[0.0,default_weight*30,default_weight*50],\n",
    "#           'max_features':[1.0,'sqrt','log2']}\n",
    "\n",
    "# halving_search = HalvingGridSearchCV(estimator=DTR,\n",
    "#                            param_grid=params,\n",
    "#                            cv=5,\n",
    "#                            aggressive_elimination=True,\n",
    "#                            min_resources= 'exhaust',#n\n",
    "#                            factor= 3,\n",
    "#                            n_jobs = 2)\n",
    "# halving_search.fit(X_train,y_train)\n",
    "\n",
    "# y_pred = halving_search.predict(X_test)\n",
    "mae = mean_absolute_error(y_test, y_pred) \n",
    "mse = mean_squared_error(y_test, y_pred)\n",
    "rmse = np.sqrt(mse)\n",
    "r2 = r2_score(y_test, y_pred)\n",
    "medae = median_absolute_error(y_test, y_pred)\n",
    "# rmsle\n",
    "print('mae: %.3f \\nmse: %.3f \\nrmse: %.3f \\nr2:%.3f \\nmedae:%.3f'%(mae,mse,rmse,r2,medae))"
   ]
  },
  {
   "cell_type": "markdown",
   "id": "1fbe0714",
   "metadata": {},
   "source": [
    "## Нейронная сеть"
   ]
  },
  {
   "cell_type": "code",
   "execution_count": null,
   "id": "7281499c",
   "metadata": {},
   "outputs": [],
   "source": [
    "y = data['price'].copy()\n",
    "X = data.loc[:,['author', 'city', 'floor', 'floors_count', 'rooms_count',\n",
    "                'total_meters', 'year_of_construction','living_meters', 'kitchen_meters', \n",
    "                'district', 'street', 'underground']].copy() \n",
    "# Кодирование в числа\n",
    "dict_classes = {}\n",
    "for item in X.select_dtypes(['object']):\n",
    "    label_encoder = LabelEncoder()\n",
    "    label_encoder = copy.copy(label_encoder.fit(X[item]))\n",
    "    dict_classes[item] = label_encoder\n",
    "    X[item] = label_encoder.transform(X[item])\n",
    "# нормализация\n",
    "# сначала нужно заскейлить тренировочные данные, а затем применить те же параметры скейла к тестовым\n",
    "scaler = StandardScaler()\n",
    "X_train = scaler.fit_transform(X_train)\n",
    "X_test = scaler.transform(X_test)\n",
    "X_train, X_test, y_train, y_test = train_test_split(X, y, test_size=0.2, random_state=42)"
   ]
  },
  {
   "cell_type": "code",
   "execution_count": null,
   "id": "36163c5d",
   "metadata": {
    "scrolled": true
   },
   "outputs": [],
   "source": [
    "# Создаем модель\n",
    "model = Sequential()\n",
    "\n",
    "# Добавляем скрытый слой с 10 нейронами и активационной функцией ReLU\n",
    "model.add(Dense(10, input_dim=12, activation='relu'))\n",
    "\n",
    "# Добавляем выходной слой с одним нейроном (так как у нас один выход) и без активационной функции\n",
    "model.add(Dense(1))\n",
    "\n",
    "# Компилируем модель с функцией потерь MSE и оптимизатором Adam\n",
    "model.compile(loss='mean_squared_error', optimizer='adam')\n",
    "\n",
    "# Обучаем модель на наших данных\n",
    "model.fit(X, y, epochs=100, batch_size=10)\n",
    "\n",
    "y_pred = model.predict(X_test)\n",
    "mae = mean_absolute_error(y_test, y_pred) \n",
    "mse = mean_squared_error(y_test, y_pred)\n",
    "rmse = np.sqrt(mse)\n",
    "r2 = r2_score(y_test, y_pred)\n",
    "medae = median_absolute_error(y_test, y_pred)\n",
    "# rmsle\n",
    "print('mae: %.3f \\nmse: %.3f \\nrmse: %.3f \\nr2:%.3f \\nmedae:%.3f'%(mae,mse,rmse,r2,medae))"
   ]
  },
  {
   "cell_type": "markdown",
   "id": "92fe6042",
   "metadata": {},
   "source": [
    "### Gradient Boosting"
   ]
  },
  {
   "cell_type": "code",
   "execution_count": null,
   "id": "134f9fe4",
   "metadata": {},
   "outputs": [],
   "source": [
    "y = data['price'].copy()\n",
    "X = data.loc[:,['author', 'city','floors_count',\n",
    "                'total_meters', 'year_of_construction','living_meters', \n",
    "                'district', 'street', 'underground']].copy()\n",
    "dict_classes = {}\n",
    "for item in X.select_dtypes(['object']):\n",
    "    label_encoder = LabelEncoder()\n",
    "    label_encoder = copy.copy(label_encoder.fit(X[item]))\n",
    "    dict_classes[item] = label_encoder\n",
    "    X[item] = label_encoder.transform(X[item])\n",
    "\n",
    "X_train, X_test, y_train, y_test = train_test_split(X, y, test_size=0.2, random_state=42)\n",
    "\n",
    "# Веса по умолачанию у каждого примера обучающего 1/n\n",
    "default_weight = 1/y_train.shape[0]\n",
    "sample_weight = np.full_like(y_train, default_weight, dtype = float)\n",
    "\n",
    "scaler = RobustScaler()\n",
    "X_train = scaler.fit_transform(X_train)\n",
    "X_test = scaler.transform(X_test)"
   ]
  },
  {
   "cell_type": "markdown",
   "id": "4be0822c",
   "metadata": {},
   "source": [
    "{'learning_rate': 0.1,\n",
    " 'loss': 'absolute_error',\n",
    " 'max_depth': 9,\n",
    " 'min_samples_split': 2,\n",
    " 'n_estimators': 146,\n",
    " 'subsample': 0.9}"
   ]
  },
  {
   "cell_type": "code",
   "execution_count": null,
   "id": "58b872f1",
   "metadata": {
    "scrolled": true
   },
   "outputs": [],
   "source": [
    "\n",
    "model = GradientBoostingRegressor(learning_rate = 0.09,\n",
    "                                  loss='squared_error',\n",
    "                                  n_estimators = 135,\n",
    "                                  subsample = 1.0,\n",
    "                                  verbose = 1,\n",
    "                                  max_features = 1.0,\n",
    "                                  max_depth = 8,\n",
    "                                  random_state=42)\n",
    "\n",
    "model.fit(X_train,y_train)\n",
    "y_pred = model.predict(X_test)\n",
    "mae = mean_absolute_error(y_test, y_pred) \n",
    "mse = mean_squared_error(y_test, y_pred)\n",
    "rmse = np.sqrt(mse)\n",
    "r2 = r2_score(y_test, y_pred)\n",
    "medae = median_absolute_error(y_test, y_pred)\n",
    "print('mae: %.3f \\nmse: %.3f \\nrmse: %.3f \\nr2:%.3f \\nmedae:%.3f'%(mae,mse,rmse,r2,medae))"
   ]
  },
  {
   "cell_type": "code",
   "execution_count": null,
   "id": "164d36d7",
   "metadata": {},
   "outputs": [],
   "source": [
    "input_data = np.array(['GloraX','Sankt-Peterburg',19,60.1,2025,27.1,'Vasileostrovskij','Morskoj','Zenit'])\n",
    "input_data = pd.Series(input_data, index =X.columns)\n",
    "for key in dict_classes.keys():\n",
    "    input_data[key] = dict_classes[key].transform(np.array([input_data[key]])).item()\n",
    "input_data = input_data.values.reshape(1,-1)\n",
    "np.round(model.predict(input_data).item())"
   ]
  },
  {
   "attachments": {
    "image.png": {
     "image/png": "[encoded data removed]"
    }
   },
   "cell_type": "markdown",
   "id": "7714ad18",
   "metadata": {},
   "source": [
    "![image.png](attachment:image.png)"
   ]
  },
  {
   "cell_type": "code",
   "execution_count": null,
   "id": "07e27d62",
   "metadata": {},
   "outputs": [],
   "source": [
    "model.feature_importances_"
   ]
  },
  {
   "cell_type": "code",
   "execution_count": null,
   "id": "498042f0",
   "metadata": {},
   "outputs": [],
   "source": [
    "resid = y_test - y_pred\n",
    "plt.figure(figsize= (3,3))\n",
    "plt.scatter(y_test,resid)\n",
    "plt.xlabel('y_test')\n",
    "plt.ylabel('resid');"
   ]
  },
  {
   "cell_type": "code",
   "execution_count": null,
   "id": "bd2e149b",
   "metadata": {
    "scrolled": true
   },
   "outputs": [],
   "source": [
    "big_residuls_range_y_test = y_test[resid > rmse].sort_values()\n",
    "fig, ax = plt.subplots(figsize =(3,3) )\n",
    "ax.ticklabel_format(style='plain', axis='x')\n",
    "ax.ticklabel_format(style='plain', axis='y')\n",
    "plt.hist(big_residuls_range_y_test,bins = 30)\n",
    "plt.xticks(rotation = 45);"
   ]
  },
  {
   "cell_type": "code",
   "execution_count": null,
   "id": "65154a0b",
   "metadata": {},
   "outputs": [],
   "source": [
    "i = 1\n",
    "n = X_train.shape[0]\n",
    "print(n)\n",
    "while i < 3:\n",
    "    n //=3\n",
    "    print(n)\n",
    "    i+=1\n",
    "print(f'нужно использовать {n} с factor = 3')"
   ]
  },
  {
   "cell_type": "markdown",
   "id": "63eff3da",
   "metadata": {},
   "source": [
    "Напоминание: CatBoost"
   ]
  },
  {
   "cell_type": "code",
   "execution_count": null,
   "id": "e83dd089",
   "metadata": {},
   "outputs": [],
   "source": [
    "%%time\n",
    "sample_weight[np.where((y_train >big_residuls_range_y_test.min()) \n",
    "                       & (y_train <big_residuls_range_y_test.max()), True, False)] = default_weight * 1.15\n",
    "model = GradientBoostingRegressor(random_state=42)\n",
    "# model = GradientBoostingRegressor(learning_rate = 0.09,\n",
    "#                                   n_estimators = 135,\n",
    "#                                   verbose = 1,\n",
    "#                                   max_features = 1.0,\n",
    "#                                   random_state=42)\n",
    "\n",
    "#model.fit(X_train,y_train,sample_weight = sample_weight)\n",
    "\n",
    "params = {'loss':['squared_error', 'absolute_error'],\n",
    "          'max_depth':np.logspace(1.4, 1.9, num=3, endpoint=True, base=5, dtype=int).tolist(),\n",
    "          'subsample' : [0.7,0.8,0.9],\n",
    "         'learning_rate': [0.05,0.075,0.1],\n",
    "         'n_estimators':np.logspace(3, 3.2, num=3, endpoint=True, base=5, dtype=int).tolist(),\n",
    "         'min_samples_split':np.logspace(0.65, 1.5, num=3, endpoint=True, base=5, dtype=int).tolist()}\n",
    "\n",
    "halving_search = HalvingGridSearchCV(estimator=model,\n",
    "                           param_grid=params,\n",
    "                           cv=5,\n",
    "                           aggressive_elimination=True,\n",
    "                           max_resources=5000,\n",
    "                           min_resources= n,\n",
    "                           factor= 3,\n",
    "                           n_jobs = 2)\n",
    "halving_search.fit(X_train,y_train)\n",
    "\n",
    "y_pred = halving_search.predict(X_test)\n",
    "mae = mean_absolute_error(y_test, y_pred) \n",
    "mse = mean_squared_error(y_test, y_pred)\n",
    "rmse = np.sqrt(mse)\n",
    "r2 = r2_score(y_test, y_pred)\n",
    "medae = median_absolute_error(y_test, y_pred)\n",
    "# rmsle\n",
    "print('mae: %.3f \\nmse: %.3f \\nrmse: %.3f \\nr2:%.3f \\nmedae:%.3f'%(mae,mse,rmse,r2,medae))"
   ]
  },
  {
   "cell_type": "code",
   "execution_count": null,
   "id": "27e79112",
   "metadata": {},
   "outputs": [],
   "source": [
    "halving_search.best_params_"
   ]
  },
  {
   "cell_type": "code",
   "execution_count": null,
   "id": "bd6178fb",
   "metadata": {},
   "outputs": [],
   "source": [
    "best_estimator = halving_search.best_estimator_.fit(X_train,y_train,sample_weight = sample_weight)\n",
    "y_pred = best_estimator.predict(X_test)\n",
    "mae = mean_absolute_error(y_test, y_pred) \n",
    "mse = mean_squared_error(y_test, y_pred)\n",
    "rmse = np.sqrt(mse)\n",
    "r2 = r2_score(y_test, y_pred)\n",
    "medae = median_absolute_error(y_test, y_pred)\n",
    "# rmsle\n",
    "print('mae: %.3f \\nmse: %.3f \\nrmse: %.3f \\nr2:%.3f \\nmedae:%.3f'%(mae,mse,rmse,r2,medae))"
   ]
  },
  {
   "cell_type": "markdown",
   "id": "730775f8",
   "metadata": {},
   "source": [
    "# Заполнение пропусков в street"
   ]
  },
  {
   "cell_type": "markdown",
   "id": "90e7d8e0",
   "metadata": {},
   "source": [
    "#### Удаление выбросов в price и price_per_m2"
   ]
  },
  {
   "cell_type": "code",
   "execution_count": null,
   "id": "b6028589",
   "metadata": {},
   "outputs": [],
   "source": [
    "X = data.loc[~data.street.isna() & (data.underground.notnull()), ['floors_count',\n",
    "                                                                  'price_per_m2', \n",
    "                                                                  'price', \n",
    "                                                                  'year_of_construction',\n",
    "                                                                  'district','underground']]\n",
    "y = data.loc[~data.street.isna(),'street']"
   ]
  },
  {
   "cell_type": "code",
   "execution_count": null,
   "id": "97f20c4e",
   "metadata": {},
   "outputs": [],
   "source": [
    "figure, axes = plt.subplots(nrows = 2, ncols = 1)\n",
    "sns.boxplot(X.price,ax = axes[0])\n",
    "axes[0].set_title('price')\n",
    "sns.boxplot(X.price_per_m2, ax = axes[1])\n",
    "axes[1].set_title('price_per_m2');"
   ]
  },
  {
   "cell_type": "code",
   "execution_count": null,
   "id": "e5d39740",
   "metadata": {},
   "outputs": [],
   "source": [
    "iqr = stats.iqr(X.price) # разница между 3 и 1 квартилями\n",
    "#q1 = np.quantile(X.price, 0.25)\n",
    "q3 = np.quantile(X.price, 0.75)\n",
    "#lower = q1 - iqr * 1.5\n",
    "upper = q3 + iqr * 1.2\n",
    "outliers = X.price[X.price > upper]\n",
    "X.drop(outliers.index, inplace = True)"
   ]
  },
  {
   "cell_type": "code",
   "execution_count": null,
   "id": "b4cb449c",
   "metadata": {},
   "outputs": [],
   "source": [
    "iqr = stats.iqr(X.price_per_m2) # разница между квантилем 3 и 1 квартилями\n",
    "#q1 = np.percentile(X.price_per_m2, 25)\n",
    "q3 = np.percentile(X.price_per_m2, 75)\n",
    "#lower = q1 - iqr * 1.5\n",
    "upper = q3 + iqr * 1.4\n",
    "outliers = X.price_per_m2[(X.price_per_m2 > upper)]\n",
    "X.drop(outliers.index, inplace = True)"
   ]
  },
  {
   "cell_type": "code",
   "execution_count": null,
   "id": "7738bdc6",
   "metadata": {},
   "outputs": [],
   "source": [
    "figure, axes = plt.subplots(nrows = 2, ncols = 1)\n",
    "sns.boxplot(X.price,ax = axes[0])\n",
    "axes[0].set_title('price')\n",
    "sns.boxplot(X.price_per_m2, ax = axes[1])\n",
    "axes[1].set_title('price_per_m2');"
   ]
  },
  {
   "cell_type": "code",
   "execution_count": null,
   "id": "f98a8614",
   "metadata": {},
   "outputs": [],
   "source": [
    "X.shape"
   ]
  },
  {
   "cell_type": "code",
   "execution_count": null,
   "id": "192152a0",
   "metadata": {},
   "outputs": [],
   "source": [
    "X.isna().sum()"
   ]
  },
  {
   "cell_type": "markdown",
   "id": "669ad79d",
   "metadata": {},
   "source": [
    "#### Закончив удалять выбросы, приступлю к заполнению"
   ]
  },
  {
   "cell_type": "markdown",
   "id": "859e61b4",
   "metadata": {},
   "source": [
    "смогу заполнить столько пропусков в street, если оставлю в независимых переменных district и underground, решу оставлять их или нет после того как посмотрю на их важность для классификации"
   ]
  },
  {
   "cell_type": "code",
   "execution_count": null,
   "id": "8737f5ed",
   "metadata": {},
   "outputs": [],
   "source": [
    "data.loc[(data.street.isna()) & ((data.district.notnull())) & (data.underground.notnull())].isna().sum()"
   ]
  },
  {
   "cell_type": "code",
   "execution_count": null,
   "id": "92d21348",
   "metadata": {},
   "outputs": [],
   "source": [
    "y = y[X.index]"
   ]
  },
  {
   "cell_type": "markdown",
   "id": "20c9a1d7",
   "metadata": {},
   "source": [
    "Увеличение количества наблюдений малочисленных классов"
   ]
  },
  {
   "cell_type": "code",
   "execution_count": null,
   "id": "ba403fd5",
   "metadata": {},
   "outputs": [],
   "source": [
    "classes_less_than_5 = y.value_counts()[y.value_counts() <5].index\n",
    "sample_strategy = {item: 5 for item in classes_less_than_5}\n",
    "\n",
    "ROS = RandomOverSampler(sampling_strategy = sample_strategy)\n",
    "X, y  = ROS.fit_resample(X,y)"
   ]
  },
  {
   "cell_type": "markdown",
   "id": "c04aba58",
   "metadata": {},
   "source": [
    "Перекодирование категориальных переменных в числовые"
   ]
  },
  {
   "cell_type": "code",
   "execution_count": null,
   "id": "b2aac53b",
   "metadata": {},
   "outputs": [],
   "source": [
    "label_encoder = LabelEncoder()\n",
    "for item in ['district','underground']: \n",
    "    X[item] = label_encoder.fit_transform(X[item])"
   ]
  },
  {
   "cell_type": "code",
   "execution_count": null,
   "id": "09045feb",
   "metadata": {},
   "outputs": [],
   "source": [
    "X_train, X_test, y_train, y_test = train_test_split(X, y, test_size=0.2, random_state=42)"
   ]
  },
  {
   "cell_type": "markdown",
   "id": "28b3eb0d",
   "metadata": {},
   "source": [
    "Приведение данных к одному масштабу"
   ]
  },
  {
   "cell_type": "code",
   "execution_count": null,
   "id": "a8ae4ca6",
   "metadata": {},
   "outputs": [],
   "source": [
    "# сначала нужно заскейлить тренировочные данные, а затем применить те же параметры скейла к тестовым\n",
    "scaler = StandardScaler()\n",
    "X_train = scaler.fit_transform(X_train)\n",
    "X_test = scaler.transform(X_test)"
   ]
  },
  {
   "cell_type": "markdown",
   "id": "905714c6",
   "metadata": {},
   "source": [
    "## AdaBoostClassifier"
   ]
  },
  {
   "attachments": {
    "image-2.png": {
     "image/png": "[encoded data removed]"
    }
   },
   "cell_type": "markdown",
   "id": "bb1288e8",
   "metadata": {},
   "source": [
    "![image-2.png](attachment:image-2.png)"
   ]
  },
  {
   "attachments": {
    "image.png": {
     "image/png": "[encoded data removed]"
    }
   },
   "cell_type": "markdown",
   "id": "7d8b273b",
   "metadata": {},
   "source": [
    "![image.png](attachment:image.png)"
   ]
  },
  {
   "cell_type": "code",
   "execution_count": null,
   "id": "53ee0aa6",
   "metadata": {},
   "outputs": [],
   "source": [
    "DTC = DecisionTreeClassifier(criterion='entropy',\n",
    "                            max_depth= 15,\n",
    "                            max_features='sqrt',\n",
    "                            min_samples_leaf=15,\n",
    "                            min_samples_split=15,\n",
    "                            random_state=42)\n",
    "ABC = AdaBoostClassifier(random_state=42,\n",
    "                            estimator=DTC, \n",
    "                            n_estimators=150,\n",
    "                            learning_rate=0.1, \n",
    "                            algorithm='SAMME.R')\n",
    "ABC.fit(X_train, y_train)\n",
    "y_pred = ABC.predict(X_test)\n",
    "\n",
    "precision, recall, fscore, support = precision_recall_fscore_support(y_test, y_pred,zero_division = 'warn')\n",
    "print(precision.mean())\n",
    "print(recall.mean())\n",
    "print(fscore.mean())"
   ]
  },
  {
   "cell_type": "code",
   "execution_count": null,
   "id": "48b9ad3c",
   "metadata": {},
   "outputs": [],
   "source": [
    "(pd.Series(y_pred) == \"Il'menskij proezd\").sum()"
   ]
  },
  {
   "cell_type": "code",
   "execution_count": null,
   "id": "b7cc07bd",
   "metadata": {},
   "outputs": [],
   "source": [
    "x_nan_street = data.loc[data.street.isna() & ((data.district.notnull())) & (data.underground.notnull()), ['floors_count',\n",
    "                                            'price_per_m2', \n",
    "                                            'price', \n",
    "                                            'year_of_construction',\n",
    "                                            'district',\n",
    "                                            'underground']]"
   ]
  },
  {
   "cell_type": "code",
   "execution_count": null,
   "id": "9adf8e91",
   "metadata": {},
   "outputs": [],
   "source": [
    "iqr = stats.iqr(x_nan_street.price) # разница между 3 и 1 квартилями\n",
    "q3 = np.quantile(x_nan_street.price, 0.75)\n",
    "upper = q3 + iqr * 0.1\n",
    "outliers = x_nan_street.price[x_nan_street.price > upper]\n",
    "x_nan_street.drop(outliers.index, inplace = True)\n",
    "\n",
    "iqr = stats.iqr(x_nan_street.price_per_m2) # разница между квантилем 3 и 1 квартилями\n",
    "q3 = np.percentile(x_nan_street.price_per_m2, 75)\n",
    "upper = q3 + iqr * 1.5\n",
    "outliers = x_nan_street.price_per_m2[(x_nan_street.price_per_m2 > upper)]\n",
    "x_nan_street.drop(outliers.index, inplace = True)"
   ]
  },
  {
   "cell_type": "code",
   "execution_count": null,
   "id": "5c2383ea",
   "metadata": {},
   "outputs": [],
   "source": [
    "figure, axes = plt.subplots(nrows = 2, ncols = 1)\n",
    "sns.boxplot(x_nan_street.price.values,ax = axes[0])\n",
    "axes[0].set_title('price')\n",
    "sns.boxplot(x_nan_street.price_per_m2.values, ax = axes[1])\n",
    "axes[1].set_title('price_per_m2');"
   ]
  },
  {
   "cell_type": "code",
   "execution_count": null,
   "id": "a99178ee",
   "metadata": {},
   "outputs": [],
   "source": [
    "x_nan_street.shape"
   ]
  },
  {
   "cell_type": "code",
   "execution_count": null,
   "id": "21bccb72",
   "metadata": {},
   "outputs": [],
   "source": [
    "label_encoder = LabelEncoder()\n",
    "for item in ['district','underground']: \n",
    "    x_nan_street[item] = label_encoder.fit_transform(x_nan_street[item])\n",
    "    \n",
    "# сначала нужно заскейлить тренировочные данные, а затем применить те же параметры скейла к тестовым\n",
    "scaler = StandardScaler()\n",
    "X_train = scaler.fit_transform(X_train)\n",
    "x_nan_street = scaler.transform(x_nan_street)\n",
    "\n",
    "street_nan = data.loc[(data.street.isna()) & ((data.district.notnull())) & (data.underground.notnull()),'street']\n",
    "street_nan = ABC.predict(x_nan_street)"
   ]
  },
  {
   "cell_type": "markdown",
   "id": "ed628630",
   "metadata": {},
   "source": [
    "Хуйня получилась в общем и целом"
   ]
  },
  {
   "cell_type": "code",
   "execution_count": null,
   "id": "328403d7",
   "metadata": {},
   "outputs": [],
   "source": [
    "pd.Series(street_nan).value_counts()"
   ]
  },
  {
   "cell_type": "code",
   "execution_count": null,
   "id": "481aeb14",
   "metadata": {},
   "outputs": [],
   "source": [
    "DTC = DecisionTreeClassifier(criterion='entropy',\n",
    "                            max_depth= 15,\n",
    "                            max_features='sqrt',\n",
    "                            min_samples_leaf=15,\n",
    "                            min_samples_split=15,\n",
    "                            random_state=42)\n",
    "EEC = EasyEnsembleClassifier(random_state=42,\n",
    "                            estimator=DTC, \n",
    "                            n_estimators=95,\n",
    "                            verbose = 1)\n",
    "EEC.fit(X_train, y_train)\n",
    "y_pred = EEC.predict(X_test)\n",
    "type(classification_report(y_test, y_pred))\n",
    "precision, recall, fscore, support = precision_recall_fscore_support(y_test, y_pred,zero_division = 'warn')\n",
    "print(precision.mean())\n",
    "print(recall.mean())\n",
    "print(fscore.mean())"
   ]
  },
  {
   "cell_type": "markdown",
   "id": "a8853792",
   "metadata": {},
   "source": [
    "## Заполнение пропусков в underground"
   ]
  },
  {
   "cell_type": "code",
   "execution_count": null,
   "id": "a2ac1b31",
   "metadata": {},
   "outputs": [],
   "source": [
    "X = data.loc[(~data.underground.isna()) & (~data.district.isna()), ['author','floors_count',\n",
    "       'price_per_m2', 'price', 'year_of_construction','district','street']]\n",
    "\n",
    "y = data.loc[~data.underground.isna(),'underground']"
   ]
  },
  {
   "cell_type": "code",
   "execution_count": null,
   "id": "ad1c860c",
   "metadata": {},
   "outputs": [],
   "source": [
    "classes_less_than_5 = y.value_counts()[y.value_counts() <5].index\n",
    "sample_strategy = {item: 5 for item in classes_less_than_5}\n",
    "\n",
    "ROS = RandomOverSampler(sampling_strategy = sample_strategy)\n",
    "X, y  = ROS.fit_resample(X,y)\n",
    "\n",
    "label_encoder = LabelEncoder()\n",
    "for item in ['author','district','street']: \n",
    "    X[item] = label_encoder.fit_transform(X[item])\n",
    "    \n",
    "X_train, X_test, y_train, y_test = train_test_split(X, y, test_size=0.2, random_state=42)\n",
    "# Возможно, стоит использовать RobustScaler, так он более устойчив к выбросам\n",
    "# scaler = StandardScaler()\n",
    "# X_train = scaler.fit_transform(X_train)\n",
    "# X_test = scaler.transform(X_test)\n",
    "scaler = RobustScaler()\n",
    "X_train = scaler.fit_transform(X_train)\n",
    "X_test = scaler.transform(X_test)"
   ]
  },
  {
   "cell_type": "markdown",
   "id": "ad1bb74b",
   "metadata": {},
   "source": [
    "Возможно, стоит еще от выбросов почистить"
   ]
  },
  {
   "cell_type": "markdown",
   "id": "313be393",
   "metadata": {},
   "source": [
    "## RandomForestClassifier"
   ]
  },
  {
   "cell_type": "code",
   "execution_count": null,
   "id": "f58f2357",
   "metadata": {},
   "outputs": [],
   "source": [
    "clf_rf = RandomForestClassifier(criterion='entropy',\n",
    "                                max_depth= 15,\n",
    "                                max_features='sqrt',\n",
    "                                min_samples_leaf=5,\n",
    "                                min_samples_split=5,\n",
    "                                n_estimators=175,\n",
    "                                random_state=42,\n",
    "                                class_weight = 'balanced')\n",
    "\n",
    "clf_rf.fit(X_train,y_train)\n",
    "y_pred = clf_rf.predict(X_test)\n",
    "precision, recall, fscore, support = precision_recall_fscore_support(y_test, y_pred,zero_division = 1)\n",
    "print(precision.mean())\n",
    "print(recall.mean())\n",
    "print(fscore.mean())"
   ]
  },
  {
   "cell_type": "markdown",
   "id": "6fc5a709",
   "metadata": {},
   "source": [
    "## AdaBoostClassifier( DecisionTreeClassifier )"
   ]
  },
  {
   "cell_type": "code",
   "execution_count": null,
   "id": "a649c9a0",
   "metadata": {},
   "outputs": [],
   "source": [
    "DTC = DecisionTreeClassifier(criterion='entropy',\n",
    "                            max_depth= 25,\n",
    "                            max_features='sqrt',\n",
    "                            min_samples_leaf=10,\n",
    "                            min_samples_split=10,\n",
    "                            random_state=42,\n",
    "                            class_weight = 'balanced')\n",
    "ABC = AdaBoostClassifier(random_state=42,\n",
    "                            estimator=DTC, \n",
    "                            n_estimators=150,\n",
    "                            learning_rate=0.1, \n",
    "                            algorithm='SAMME.R')\n",
    "ABC.fit(X_train, y_train)\n",
    "y_pred = ABC.predict(X_test)\n",
    "\n",
    "precision, recall, fscore, support = precision_recall_fscore_support(y_test, y_pred,zero_division = 'warn')\n",
    "print(precision.mean())\n",
    "print(recall.mean())\n",
    "print(fscore.mean())"
   ]
  },
  {
   "cell_type": "code",
   "execution_count": null,
   "id": "e8799a9d",
   "metadata": {},
   "outputs": [],
   "source": [
    "ABC.feature_importances_"
   ]
  },
  {
   "cell_type": "markdown",
   "id": "1f1d04d4",
   "metadata": {},
   "source": [
    "## OnevsRestClassifier(SVC)\n",
    "OnevsOneClassifier очень не подходит для ситуаций, когда классов очень много"
   ]
  },
  {
   "cell_type": "code",
   "execution_count": null,
   "id": "30537e02",
   "metadata": {},
   "outputs": [],
   "source": [
    "X = data.loc[(~data.underground.isna()) & (~data.district.isna()), ['author','floors_count',\n",
    "       'price_per_m2', 'price', 'year_of_construction','district','street']]\n",
    "\n",
    "y = data.loc[~data.underground.isna(),'underground']\n",
    "X_train, X_test, y_train, y_test = train_test_split(X, y, test_size=0.2, random_state=42)"
   ]
  },
  {
   "cell_type": "code",
   "execution_count": null,
   "id": "f0e5b257",
   "metadata": {},
   "outputs": [],
   "source": [
    "iqr = stats.iqr(X_train.price) # разница между 3 и 1 квартилями\n",
    "q3 = np.quantile(X_train.price, 0.75)\n",
    "upper = q3 + iqr * 1.4\n",
    "outliers = X_train.price[X_train.price > upper]\n",
    "X_train.drop(outliers.index, inplace = True)\n",
    "\n",
    "iqr = stats.iqr(X_train.price_per_m2) # разница между квантилем 3 и 1 квартилями\n",
    "q3 = np.percentile(X_train.price_per_m2, 75)\n",
    "upper = q3 + iqr * 1.5\n",
    "outliers = X_train.price_per_m2[(X_train.price_per_m2 > upper)]\n",
    "X_train.drop(outliers.index, inplace = True)\n",
    "y_train = y_train[X_train.index]"
   ]
  },
  {
   "cell_type": "code",
   "execution_count": null,
   "id": "6ec27f2a",
   "metadata": {},
   "outputs": [],
   "source": [
    "classes_less_than_5 = y_train.value_counts()[y_train.value_counts() <5].index\n",
    "sample_strategy = {item: 5 for item in classes_less_than_5}\n",
    "ROS = RandomOverSampler(sampling_strategy = sample_strategy)\n",
    "X_train, y_train  = ROS.fit_resample(X_train,y_train)\n",
    "\n",
    "label_encoder = LabelEncoder()\n",
    "for item in ['author','district','street']: \n",
    "    X_train[item] = label_encoder.fit_transform(X_train[item])\n",
    "    X_test[item] = label_encoder.fit_transform(X_test[item])\n",
    "    \n",
    "classes_less_than_15 = y_train.value_counts()[y_train.value_counts() <15].index\n",
    "sample_strategy = {item: 15 for item in classes_less_than_15}\n",
    "\n",
    "# y_train = y_train.drop(y_train[y_train.isin(classes_less_than_5.values)].index, axis = 0)\n",
    "# X_train = X_train.loc[y_train.index]\n",
    "\n",
    "sm = SMOTE(random_state=42,k_neighbors =4, sampling_strategy = sample_strategy)\n",
    "X_train, y_train = sm.fit_resample(X_train, y_train) \n",
    "\n",
    "scaler = StandardScaler()\n",
    "X_train = scaler.fit_transform(X_train)\n",
    "X_test = scaler.transform(X_test)"
   ]
  },
  {
   "cell_type": "code",
   "execution_count": null,
   "id": "6da65ea6",
   "metadata": {},
   "outputs": [],
   "source": [
    "X_train.shape"
   ]
  },
  {
   "cell_type": "code",
   "execution_count": null,
   "id": "b38371a9",
   "metadata": {},
   "outputs": [],
   "source": [
    "from sklearn.svm import SVC\n",
    "SVC = SVC(random_state=42, \n",
    "          probability = True, \n",
    "          kernel = 'rbf',\n",
    "          cache_size=300,\n",
    "          class_weight = 'balanced')\n",
    "OVR = OneVsOneClassifier(SVC)\n",
    "OVR.fit(X_train, y_train)\n",
    "y_pred = OVR.predict(X_test)\n",
    "\n",
    "precision, recall, fscore, support = precision_recall_fscore_support(y_test, y_pred,zero_division = 'warn')\n",
    "print(precision.mean())\n",
    "print(recall.mean())\n",
    "print(fscore.mean())"
   ]
  },
  {
   "attachments": {
    "image.png": {
     "image/png": "[encoded data removed]"
    }
   },
   "cell_type": "markdown",
   "id": "e2f3d057",
   "metadata": {},
   "source": [
    "без сэплирования (RandomOverSampler)\n",
    "![image.png](attachment:image.png)"
   ]
  },
  {
   "attachments": {
    "image.png": {
     "image/png": "[encoded data removed]"
    }
   },
   "cell_type": "markdown",
   "id": "48775ad7",
   "metadata": {},
   "source": [
    "с сэплированием(RandomOverSampler) и class_weight = 'balanced'\n",
    "![image.png](attachment:image.png)"
   ]
  },
  {
   "cell_type": "code",
   "execution_count": null,
   "id": "49d69298",
   "metadata": {},
   "outputs": [],
   "source": [
    "DTC = DecisionTreeClassifier(criterion='entropy',\n",
    "                            max_depth= 25,\n",
    "                            max_features='sqrt',\n",
    "                            min_samples_leaf=10,\n",
    "                            min_samples_split=10,\n",
    "                            random_state=42,\n",
    "                            class_weight = 'balanced')\n",
    "ABC = AdaBoostClassifier(random_state=42,\n",
    "                            estimator=DTC, \n",
    "                            n_estimators=150,\n",
    "                            learning_rate=0.1, \n",
    "                            algorithm='SAMME.R')\n",
    "ABC.fit(X_train, y_train)\n",
    "y_pred = ABC.predict(X_test)\n",
    "\n",
    "precision, recall, fscore, support = precision_recall_fscore_support(y_test, y_pred,zero_division = 'warn')\n",
    "print(precision.mean())\n",
    "print(recall.mean())\n",
    "print(fscore.mean())"
   ]
  },
  {
   "cell_type": "code",
   "execution_count": null,
   "id": "b4f58fbb",
   "metadata": {},
   "outputs": [],
   "source": [
    "clf_rf.feature_importances_"
   ]
  },
  {
   "cell_type": "code",
   "execution_count": null,
   "id": "e4c962a4",
   "metadata": {},
   "outputs": [],
   "source": []
  },
  {
   "cell_type": "code",
   "execution_count": null,
   "id": "5d70bd62",
   "metadata": {},
   "outputs": [],
   "source": [
    "# x_nan_district = data.loc[data.district.isna(), ['author','author_type','floor', 'floors_count', 'rooms_count',\n",
    "#        'total_meters', 'price_per_m2', 'price', 'year_of_construction','living_meters', 'residential_complex','street']]"
   ]
  }
 ],
 "metadata": {
  "kernelspec": {
   "display_name": "Python 3 (ipykernel)",
   "language": "python",
   "name": "python3"
  },
  "language_info": {
   "codemirror_mode": {
    "name": "ipython",
    "version": 3
   },
   "file_extension": ".py",
   "mimetype": "text/x-python",
   "name": "python",
   "nbconvert_exporter": "python",
   "pygments_lexer": "ipython3",
   "version": "3.8.8"
  }
 },
 "nbformat": 4,
 "nbformat_minor": 5
}
