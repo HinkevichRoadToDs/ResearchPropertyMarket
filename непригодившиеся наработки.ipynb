{
 "cells": [
  {
   "cell_type": "markdown",
   "id": "78639629",
   "metadata": {},
   "source": [
    "## SGDRegressor"
   ]
  },
  {
   "cell_type": "code",
   "execution_count": null,
   "id": "019b1036",
   "metadata": {},
   "outputs": [],
   "source": [
    "sdgr = SGDRegressor(max_iter=200, tol=0.00001)\n",
    "\n",
    "y_living_meters = data_reg[(data_reg['living_meters'].notnull()) & (data_reg['kitchen_meters'].notnull())]['living_meters']\n",
    "X_living_meters = data_reg[(data_reg['living_meters'].notnull()) & (data_reg['kitchen_meters'].notnull())].iloc[:,[1,3]]\n",
    "\n",
    "sdgr.fit(X_living_meters.values,y_living_meters.values)\n",
    "\n",
    "y_pred = sdgr.predict(X_living_meters.values)\n",
    "resid = y_living_meters - y_pred\n",
    "# тест на автокорреляцию остатков\n",
    "sm.stats.stattools.durbin_watson(resid)"
   ]
  },
  {
   "cell_type": "code",
   "execution_count": null,
   "id": "1c18afb1",
   "metadata": {},
   "outputs": [],
   "source": [
    "# гомоскедастичность остатков\n",
    "for i in range(0,2):\n",
    "    plt.figure(figsize= (3,3))\n",
    "    plt.scatter(X_living_meters.iloc[:,i].values, resid.values, alpha=0.5)\n",
    "    plt.xlabel(f'X_living_meters{i+1}')\n",
    "    plt.ylabel('Остатки')\n",
    "    plt.title(f'График остатков для X_living_meters{i+1}')\n",
    "plt.show()"
   ]
  },
  {
   "cell_type": "code",
   "execution_count": null,
   "id": "c64e0789",
   "metadata": {},
   "outputs": [],
   "source": [
    "mae = mean_absolute_error(y_living_meters.values, y_pred)\n",
    "mse = mean_squared_error(y_living_meters.values, y_pred)\n",
    "rmse = np.sqrt(mse)\n",
    "r2 = r2_score(y_living_meters.values, y_pred)\n",
    "print('mae: %.3f \\nmse: %.3f \\nrmse: %.3f \\nr2:%.3f'%(mae,mse,rmse,r2))"
   ]
  },
  {
   "cell_type": "code",
   "execution_count": null,
   "id": "9f39c8bd",
   "metadata": {},
   "outputs": [],
   "source": [
    "# распределение ошибок\n",
    "plt.figure(figsize= (3,3))\n",
    "plt.hist(resid,bins = 20);"
   ]
  },
  {
   "cell_type": "markdown",
   "id": "d5272e23",
   "metadata": {},
   "source": [
    "## Градиентный бустинг"
   ]
  },
  {
   "cell_type": "code",
   "execution_count": null,
   "id": "bd024c5a",
   "metadata": {},
   "outputs": [],
   "source": [
    "y = data[(data['kitchen_meters'].notnull())]['kitchen_meters'].copy()\n",
    "X = data[(data['kitchen_meters'].notnull())].loc[:,['total_meters','price','year_of_construction','living_meters','city']].copy()\n",
    "label_encoder = LabelEncoder()\n",
    "for item in ['city']:\n",
    "    X[item] = label_encoder.fit_transform(X[item])"
   ]
  },
  {
   "cell_type": "code",
   "execution_count": null,
   "id": "b3c92149",
   "metadata": {},
   "outputs": [],
   "source": [
    "X_train, X_test, y_train, y_test = train_test_split(X, y, test_size=0.2, random_state=42)"
   ]
  },
  {
   "cell_type": "code",
   "execution_count": null,
   "id": "f2418eba",
   "metadata": {},
   "outputs": [],
   "source": [
    "i = 1\n",
    "n = X_train.shape[0]\n",
    "print(n)\n",
    "while i < 3:\n",
    "    n //=3\n",
    "    print(n)\n",
    "    i+=1\n",
    "print(f'нужно использовать {n} с factor = 3')\n",
    "\n",
    "model = GradientBoostingRegressor()\n",
    "params = {'loss':['squared_error', 'absolute_error'],\n",
    "          'max_features':[1.0],\n",
    "          'max_depth':np.logspace(1.3, 2.2, num=4, endpoint=True, base=5, dtype=int).tolist(),\n",
    "         'learning_rate': [0.005,0.01,0.02],\n",
    "         'n_estimators':np.logspace(2, 3, num=4, endpoint=True, base=5, dtype=int).tolist(),\n",
    "         'min_samples_split':np.logspace(0.65, 3, num=4, endpoint=True, base=5, dtype=int).tolist()}\n",
    "halving_search = HalvingGridSearchCV(estimator=model,\n",
    "                           param_grid=params,\n",
    "                           cv=5,\n",
    "                           aggressive_elimination=True,\n",
    "                           min_resources= n,\n",
    "                           factor= 3) # n_jobs = -1\n",
    "halving_search.fit(X_train, y_train)\n",
    "\n",
    "print(halving_search.best_params_)\n",
    "y_pred = halving_search.predict(X_test)\n",
    "mae = mean_absolute_error(y_test, y_pred) \n",
    "mse = mean_squared_error(y_test, y_pred)\n",
    "rmse = np.sqrt(mse)\n",
    "r2 = r2_score(y_test, y_pred)\n",
    "print('mae: %.3f \\nmse: %.3f \\nrmse: %.3f \\nr2:%.3f'%(mae,mse,rmse,r2))"
   ]
  },
  {
   "cell_type": "markdown",
   "id": "cb7822a5",
   "metadata": {},
   "source": [
    "## AdaBoost"
   ]
  },
  {
   "cell_type": "code",
   "execution_count": null,
   "id": "2243fd26",
   "metadata": {},
   "outputs": [],
   "source": [
    "y = data[(data['kitchen_meters'].notnull())]['kitchen_meters'].copy()\n",
    "X = data[(data['kitchen_meters'].notnull())].loc[:,['total_meters','price','year_of_construction','living_meters','city']].copy()\n",
    "label_encoder = LabelEncoder()\n",
    "for item in ['city']:\n",
    "    X[item] = label_encoder.fit_transform(X[item])\n",
    "    \n",
    "X_train, X_test, y_train, y_test = train_test_split(X, y, test_size=0.2, random_state=42)\n",
    "\n",
    "i = 1\n",
    "n = X_train.shape[0]\n",
    "print(n)\n",
    "while i < 3:\n",
    "    n //=3\n",
    "    print(n)\n",
    "    i+=1\n",
    "print(f'нужно использовать {n} с factor = 3')\n",
    "\n",
    "DTR = DecisionTreeRegressor(max_depth=5)\n",
    "KNN = KNeighborsRegressor(n_neighbors=3)\n",
    "LR = LinearRegression()\n",
    "LASSO = Lasso(alpha=0.1)\n",
    "params = {'estimator':[DTR,KNN,LR,LASSO], \n",
    "          'n_estimators':np.logspace(3.1, 3.5, num=3, endpoint=True, base=5, dtype=int).tolist(), \n",
    "          'learning_rate':[0.01, 0.1, 0.5], \n",
    "          'loss':['linear','square','exponential']}\n",
    "\n",
    "ABC = AdaBoostRegressor(random_state=42)\n",
    "\n",
    "halving_search = HalvingGridSearchCV(estimator=ABC,\n",
    "                           param_grid=params,\n",
    "                           cv=5,\n",
    "                           aggressive_elimination=True,\n",
    "                           min_resources= n,\n",
    "                           factor= 3)\n",
    "halving_search.fit(X_train, y_train)\n",
    "\n",
    "print(halving_search.best_params_)\n",
    "\n",
    "y_pred = halving_search.predict(X_test)\n",
    "mae = mean_absolute_error(y_test, y_pred) \n",
    "mse = mean_squared_error(y_test, y_pred)\n",
    "rmse = np.sqrt(mse)\n",
    "r2 = r2_score(y_test, y_pred)\n",
    "print('mae: %.3f \\nmse: %.3f \\nrmse: %.3f \\nr2:%.3f'%(mae,mse,rmse,r2))"
   ]
  },
  {
   "cell_type": "markdown",
   "id": "dacc7174",
   "metadata": {},
   "source": [
    "## Пробовал заполнить с помощью полинома living_meters(не учел, что нужно проверять на тестовой выборке, которую модель никогда не видела)"
   ]
  },
  {
   "cell_type": "code",
   "execution_count": null,
   "id": "0e6511b6",
   "metadata": {},
   "outputs": [],
   "source": [
    "y_living_meters = data_reg[(data_reg['living_meters'].notnull())]['living_meters']\n",
    "X_living_meters = data_reg[(data_reg['living_meters'].notnull())].iloc[:,[1,2,4]]\n",
    "\n",
    "poly = PolynomialFeatures(degree=2)\n",
    "X_living_meters = poly.fit_transform(X_living_meters)\n",
    "lr = LinearRegression(fit_intercept=True)\n",
    "\n",
    "lr.fit(X_living_meters,y_living_meters)\n",
    "y_pred = lr.predict(X_living_meters)\n",
    "resid = y_living_meters - y_pred"
   ]
  },
  {
   "cell_type": "code",
   "execution_count": null,
   "id": "8ff9b2a7",
   "metadata": {},
   "outputs": [],
   "source": [
    "sm.stats.stattools.durbin_watson(resid)"
   ]
  },
  {
   "cell_type": "code",
   "execution_count": null,
   "id": "4fc409ff",
   "metadata": {},
   "outputs": [],
   "source": [
    "# распределение ошибок\n",
    "plt.figure(figsize= (3,3))\n",
    "plt.hist(resid,bins = 30);"
   ]
  },
  {
   "cell_type": "code",
   "execution_count": null,
   "id": "108972ed",
   "metadata": {},
   "outputs": [],
   "source": [
    "mae = mean_absolute_error(y_living_meters.values, y_pred) \n",
    "# mae насколько в среднем по модулю отличаются предсказанные от истинных в оригинальных единицах измерения\n",
    "mse = mean_squared_error(y_living_meters.values, y_pred) # mse и rmse сильнее подвержены влиянию выбросов, чем mae\n",
    "rmse = np.sqrt(mse)\n",
    "r2 = r2_score(y_living_meters.values, y_pred)\n",
    "print('mae: %.3f \\nmse: %.3f \\nrmse: %.3f \\nr2:%.3f'%(mae,mse,rmse,r2))"
   ]
  },
  {
   "cell_type": "code",
   "execution_count": null,
   "id": "680b4362",
   "metadata": {},
   "outputs": [],
   "source": [
    "plt.figure(figsize=(5, 5))\n",
    "sns.histplot(y_pred,bins = 75)\n",
    "sns.histplot(y_living_meters,bins = 75);"
   ]
  },
  {
   "cell_type": "markdown",
   "id": "1a85e08f",
   "metadata": {},
   "source": [
    "## Заполнение пропусков методом случайного леса\n",
    "## residential_complex"
   ]
  },
  {
   "cell_type": "code",
   "execution_count": null,
   "id": "9b3edfce",
   "metadata": {},
   "outputs": [],
   "source": [
    "X = data.loc[~data.residential_complex.isna(), ['author','author_type','city','floor', 'floors_count', 'rooms_count',\n",
    "       'total_meters', 'price_per_m2', 'price', 'year_of_construction','living_meters']]\n",
    "\n",
    "y = data.loc[~data.residential_complex.isna(),'residential_complex']\n",
    "# это нужно предсказать\n",
    "x_nan_residential_complex = data.loc[data.residential_complex.isna(), ['author','author_type','city','floor', 'floors_count', 'rooms_count',\n",
    "       'total_meters', 'price_per_m2', 'price', 'year_of_construction','living_meters']]"
   ]
  },
  {
   "cell_type": "code",
   "execution_count": null,
   "id": "6cc200ea",
   "metadata": {},
   "outputs": [],
   "source": [
    "X_train, X_test, y_train, y_test = train_test_split(X, y, test_size=0.2, random_state=42)\n",
    "# X_test,y_test нужны для проверки качества"
   ]
  },
  {
   "cell_type": "code",
   "execution_count": null,
   "id": "969f4f5f",
   "metadata": {},
   "outputs": [],
   "source": [
    "classes_less_than_5 = y_train.value_counts()[y_train.value_counts() <5].index\n",
    "sample_strategy = {item: 5 for item in classes_less_than_5}\n",
    "\n",
    "ROS = RandomOverSampler(sampling_strategy = sample_strategy)\n",
    "x_train_resampled, y_train_resampled  = ROS.fit_resample(X_train,y_train)"
   ]
  },
  {
   "cell_type": "code",
   "execution_count": null,
   "id": "ab7c6092",
   "metadata": {},
   "outputs": [],
   "source": [
    "label_encoder = LabelEncoder()\n",
    "for item in ['author','author_type','city','year_of_construction']:\n",
    "    X_test[item] = label_encoder.fit_transform(X_test[item])\n",
    "    x_nan_residential_complex[item] = label_encoder.fit_transform(x_nan_residential_complex[item])\n",
    "    x_train_resampled[item] = label_encoder.fit_transform(x_train_resampled[item])"
   ]
  },
  {
   "cell_type": "markdown",
   "id": "90aa71e3",
   "metadata": {},
   "source": [
    "## Подбор оптимального min_resources"
   ]
  },
  {
   "cell_type": "code",
   "execution_count": null,
   "id": "df1c02f3",
   "metadata": {},
   "outputs": [],
   "source": [
    "i = 1\n",
    "n_residential_complex = x_train_resampled.shape[0]\n",
    "print(n_residential_complex)\n",
    "while i < 3:\n",
    "    n_residential_complex //=3\n",
    "    print(n_residential_complex)\n",
    "    i+=1\n",
    "print(f'нужно использовать {n_residential_complex} с factor = 3')"
   ]
  },
  {
   "cell_type": "markdown",
   "id": "80cf4f2f",
   "metadata": {},
   "source": [
    "## Продолжение заполнения пропусков residential_complex"
   ]
  },
  {
   "cell_type": "code",
   "execution_count": null,
   "id": "028b72d4",
   "metadata": {},
   "outputs": [],
   "source": [
    "clf_rf = RandomForestClassifier(random_state=42)\n",
    "\n",
    "params = {'criterion':['entropy','gini'],\n",
    "          'n_estimators':np.logspace(1.5, 2.7, num=5, endpoint=True, base=5, dtype=int).tolist(), \n",
    "          'max_depth':range(5,15),\n",
    "          'min_samples_split':np.logspace(1, 2, num=5, endpoint=True, base=5, dtype=int).tolist(),\n",
    "          'min_samples_leaf':np.logspace(1, 2, num=4, endpoint=True, base=5, dtype=int).tolist(),\n",
    "          'max_features': ['sqrt','log2']}\n",
    "\n",
    "halving_search = HalvingGridSearchCV(estimator=clf_rf,\n",
    "                           param_grid=params,\n",
    "                           cv=StratifiedKFold(n_splits=5, shuffle=True,random_state=42),\n",
    "                           aggressive_elimination=True,\n",
    "                           min_resources= n_residential_complex,\n",
    "                           factor= 3,          \n",
    "                           n_jobs = -1)\n",
    "halving_search.fit(x_train_resampled,y_train_resampled)"
   ]
  },
  {
   "cell_type": "code",
   "execution_count": null,
   "id": "9efecc13",
   "metadata": {},
   "outputs": [],
   "source": [
    "print(halving_search.best_params_)\n",
    "print(halving_search.best_score_)\n",
    "importances = pd.Series((halving_search.best_estimator_.feature_importances_),index = x_train_resampled.columns)\n",
    "importances"
   ]
  },
  {
   "cell_type": "code",
   "execution_count": null,
   "id": "58462d09",
   "metadata": {},
   "outputs": [],
   "source": [
    "residential_complex_pred = halving_search.predict(x_test_residential_complex)\n",
    "precision, recall, fscore, support = precision_recall_fscore_support(y_test, halving_search.predict(X_test),zero_division = 1)\n",
    "print(precision.mean())\n",
    "print(recall.mean())\n",
    "print(f1_score(y_test, halving_search.predict(X_test), average='macro'))"
   ]
  },
  {
   "cell_type": "code",
   "execution_count": null,
   "id": "eeb5b457",
   "metadata": {},
   "outputs": [],
   "source": [
    "data.loc[data.residential_complex.isna(),'residential_complex'] = residential_complex_pred"
   ]
  },
  {
   "cell_type": "markdown",
   "id": "a5246304",
   "metadata": {},
   "source": [
    "## Заготовка для построения модели по уже найденным оптимальным параметрам residential_complex"
   ]
  },
  {
   "cell_type": "code",
   "execution_count": null,
   "id": "12e531c2",
   "metadata": {},
   "outputs": [],
   "source": [
    "# clf_rf = RandomForestClassifier(criterion='entropy',\n",
    "#                                 max_depth= 10,\n",
    "#                                 max_features='sqrt',\n",
    "#                                 min_samples_leaf=2,\n",
    "#                                 min_samples_split=5,\n",
    "#                                 n_estimators=50,\n",
    "#                                 random_state=42)\n",
    "# clf_rf.fit(x_train_resampled,y_train_resampled)\n",
    "# residential_complex_nonan = clf_rf.predict(x_test)"
   ]
  },
  {
   "cell_type": "code",
   "execution_count": null,
   "id": "40be3f71",
   "metadata": {},
   "outputs": [],
   "source": [
    "# residential_complex_nonan.shape"
   ]
  },
  {
   "cell_type": "code",
   "execution_count": null,
   "id": "37cc8aaa",
   "metadata": {},
   "outputs": [],
   "source": [
    "# residential_complex_nonan = pd.Series(residential_complex_pred, \n",
    "#                                       index = data.loc[data.residential_complex.isna(),'residential_complex'].index)\n",
    "# residential_complex_nonan.head()"
   ]
  },
  {
   "cell_type": "code",
   "execution_count": null,
   "id": "4d89c90c",
   "metadata": {},
   "outputs": [],
   "source": [
    "# data.loc[data.residential_complex.isna(),'residential_complex'] = residential_complex_nonan"
   ]
  }
 ],
 "metadata": {
  "kernelspec": {
   "display_name": "Python 3 (ipykernel)",
   "language": "python",
   "name": "python3"
  },
  "language_info": {
   "codemirror_mode": {
    "name": "ipython",
    "version": 3
   },
   "file_extension": ".py",
   "mimetype": "text/x-python",
   "name": "python",
   "nbconvert_exporter": "python",
   "pygments_lexer": "ipython3",
   "version": "3.9.16"
  }
 },
 "nbformat": 4,
 "nbformat_minor": 5
}
