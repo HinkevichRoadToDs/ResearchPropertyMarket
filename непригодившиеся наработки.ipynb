{
 "cells": [
  {
   "cell_type": "markdown",
   "id": "78639629",
   "metadata": {},
   "source": [
    "## SGDRegressor"
   ]
  },
  {
   "cell_type": "code",
   "execution_count": null,
   "id": "019b1036",
   "metadata": {},
   "outputs": [],
   "source": [
    "sdgr = SGDRegressor(max_iter=200, tol=0.00001)\n",
    "\n",
    "y_living_meters = data_reg[(data_reg['living_meters'].notnull()) & (data_reg['kitchen_meters'].notnull())]['living_meters']\n",
    "X_living_meters = data_reg[(data_reg['living_meters'].notnull()) & (data_reg['kitchen_meters'].notnull())].iloc[:,[1,3]]\n",
    "\n",
    "sdgr.fit(X_living_meters.values,y_living_meters.values)\n",
    "\n",
    "y_pred = sdgr.predict(X_living_meters.values)\n",
    "resid = y_living_meters - y_pred\n",
    "# тест на автокорреляцию остатков\n",
    "sm.stats.stattools.durbin_watson(resid)"
   ]
  },
  {
   "cell_type": "code",
   "execution_count": null,
   "id": "1c18afb1",
   "metadata": {},
   "outputs": [],
   "source": [
    "# гомоскедастичность остатков\n",
    "for i in range(0,2):\n",
    "    plt.figure(figsize= (3,3))\n",
    "    plt.scatter(X_living_meters.iloc[:,i].values, resid.values, alpha=0.5)\n",
    "    plt.xlabel(f'X_living_meters{i+1}')\n",
    "    plt.ylabel('Остатки')\n",
    "    plt.title(f'График остатков для X_living_meters{i+1}')\n",
    "plt.show()"
   ]
  },
  {
   "cell_type": "code",
   "execution_count": null,
   "id": "c64e0789",
   "metadata": {},
   "outputs": [],
   "source": [
    "mae = mean_absolute_error(y_living_meters.values, y_pred)\n",
    "mse = mean_squared_error(y_living_meters.values, y_pred)\n",
    "rmse = np.sqrt(mse)\n",
    "r2 = r2_score(y_living_meters.values, y_pred)\n",
    "print('mae: %.3f \\nmse: %.3f \\nrmse: %.3f \\nr2:%.3f'%(mae,mse,rmse,r2))"
   ]
  },
  {
   "cell_type": "code",
   "execution_count": null,
   "id": "9f39c8bd",
   "metadata": {},
   "outputs": [],
   "source": [
    "# распределение ошибок\n",
    "plt.figure(figsize= (3,3))\n",
    "plt.hist(resid,bins = 20);"
   ]
  },
  {
   "cell_type": "markdown",
   "id": "d5272e23",
   "metadata": {},
   "source": [
    "## Градиентный бустинг"
   ]
  },
  {
   "cell_type": "code",
   "execution_count": null,
   "id": "bd024c5a",
   "metadata": {},
   "outputs": [],
   "source": [
    "y = data[(data['kitchen_meters'].notnull())]['kitchen_meters'].copy()\n",
    "X = data[(data['kitchen_meters'].notnull())].loc[:,['total_meters','price','year_of_construction','living_meters','city']].copy()\n",
    "label_encoder = LabelEncoder()\n",
    "for item in ['city']:\n",
    "    X[item] = label_encoder.fit_transform(X[item])"
   ]
  },
  {
   "cell_type": "code",
   "execution_count": null,
   "id": "b3c92149",
   "metadata": {},
   "outputs": [],
   "source": [
    "X_train, X_test, y_train, y_test = train_test_split(X, y, test_size=0.2, random_state=42)"
   ]
  },
  {
   "cell_type": "code",
   "execution_count": null,
   "id": "f2418eba",
   "metadata": {},
   "outputs": [],
   "source": [
    "i = 1\n",
    "n = X_train.shape[0]\n",
    "print(n)\n",
    "while i < 3:\n",
    "    n //=3\n",
    "    print(n)\n",
    "    i+=1\n",
    "print(f'нужно использовать {n} с factor = 3')\n",
    "\n",
    "model = GradientBoostingRegressor()\n",
    "params = {'loss':['squared_error', 'absolute_error'],\n",
    "          'max_features':[1.0],\n",
    "          'max_depth':np.logspace(1.3, 2.2, num=4, endpoint=True, base=5, dtype=int).tolist(),\n",
    "         'learning_rate': [0.005,0.01,0.02],\n",
    "         'n_estimators':np.logspace(2, 3, num=4, endpoint=True, base=5, dtype=int).tolist(),\n",
    "         'min_samples_split':np.logspace(0.65, 3, num=4, endpoint=True, base=5, dtype=int).tolist()}\n",
    "halving_search = HalvingGridSearchCV(estimator=model,\n",
    "                           param_grid=params,\n",
    "                           cv=5,\n",
    "                           aggressive_elimination=True,\n",
    "                           min_resources= n,\n",
    "                           factor= 3) # n_jobs = -1\n",
    "halving_search.fit(X_train, y_train)\n",
    "\n",
    "print(halving_search.best_params_)\n",
    "y_pred = halving_search.predict(X_test)\n",
    "mae = mean_absolute_error(y_test, y_pred) \n",
    "mse = mean_squared_error(y_test, y_pred)\n",
    "rmse = np.sqrt(mse)\n",
    "r2 = r2_score(y_test, y_pred)\n",
    "print('mae: %.3f \\nmse: %.3f \\nrmse: %.3f \\nr2:%.3f'%(mae,mse,rmse,r2))"
   ]
  }
 ],
 "metadata": {
  "kernelspec": {
   "display_name": "Python 3 (ipykernel)",
   "language": "python",
   "name": "python3"
  },
  "language_info": {
   "codemirror_mode": {
    "name": "ipython",
    "version": 3
   },
   "file_extension": ".py",
   "mimetype": "text/x-python",
   "name": "python",
   "nbconvert_exporter": "python",
   "pygments_lexer": "ipython3",
   "version": "3.8.16"
  }
 },
 "nbformat": 4,
 "nbformat_minor": 5
}
