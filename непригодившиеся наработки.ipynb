{
 "cells": [
  {
   "cell_type": "markdown",
   "id": "78639629",
   "metadata": {},
   "source": [
    "## SGDRegressor"
   ]
  },
  {
   "cell_type": "code",
   "execution_count": null,
   "id": "019b1036",
   "metadata": {},
   "outputs": [],
   "source": [
    "sdgr = SGDRegressor(max_iter=200, tol=0.00001)\n",
    "\n",
    "y_living_meters = data_reg[(data_reg['living_meters'].notnull()) & (data_reg['kitchen_meters'].notnull())]['living_meters']\n",
    "X_living_meters = data_reg[(data_reg['living_meters'].notnull()) & (data_reg['kitchen_meters'].notnull())].iloc[:,[1,3]]\n",
    "\n",
    "sdgr.fit(X_living_meters.values,y_living_meters.values)\n",
    "\n",
    "y_pred = sdgr.predict(X_living_meters.values)\n",
    "resid = y_living_meters - y_pred\n",
    "# тест на автокорреляцию остатков\n",
    "sm.stats.stattools.durbin_watson(resid)"
   ]
  },
  {
   "cell_type": "code",
   "execution_count": null,
   "id": "1c18afb1",
   "metadata": {},
   "outputs": [],
   "source": [
    "# гомоскедастичность остатков\n",
    "for i in range(0,2):\n",
    "    plt.figure(figsize= (3,3))\n",
    "    plt.scatter(X_living_meters.iloc[:,i].values, resid.values, alpha=0.5)\n",
    "    plt.xlabel(f'X_living_meters{i+1}')\n",
    "    plt.ylabel('Остатки')\n",
    "    plt.title(f'График остатков для X_living_meters{i+1}')\n",
    "plt.show()"
   ]
  },
  {
   "cell_type": "code",
   "execution_count": null,
   "id": "c64e0789",
   "metadata": {},
   "outputs": [],
   "source": [
    "mae = mean_absolute_error(y_living_meters.values, y_pred)\n",
    "mse = mean_squared_error(y_living_meters.values, y_pred)\n",
    "rmse = np.sqrt(mse)\n",
    "r2 = r2_score(y_living_meters.values, y_pred)\n",
    "print('mae: %.3f \\nmse: %.3f \\nrmse: %.3f \\nr2:%.3f'%(mae,mse,rmse,r2))"
   ]
  },
  {
   "cell_type": "code",
   "execution_count": null,
   "id": "9f39c8bd",
   "metadata": {},
   "outputs": [],
   "source": [
    "# распределение ошибок\n",
    "plt.figure(figsize= (3,3))\n",
    "plt.hist(resid,bins = 20);"
   ]
  }
 ],
 "metadata": {
  "kernelspec": {
   "display_name": "Python 3 (ipykernel)",
   "language": "python",
   "name": "python3"
  },
  "language_info": {
   "codemirror_mode": {
    "name": "ipython",
    "version": 3
   },
   "file_extension": ".py",
   "mimetype": "text/x-python",
   "name": "python",
   "nbconvert_exporter": "python",
   "pygments_lexer": "ipython3",
   "version": "3.8.16"
  }
 },
 "nbformat": 4,
 "nbformat_minor": 5
}
