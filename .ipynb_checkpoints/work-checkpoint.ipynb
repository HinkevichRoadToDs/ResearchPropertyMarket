{
 "cells": [
  {
   "cell_type": "code",
   "execution_count": 1,
   "id": "c6bf0d24-5ec4-488a-b793-7de6e71ec28a",
   "metadata": {},
   "outputs": [],
   "source": [
    "import pandas as pd\n",
    "import scipy.stats as stats\n",
    "import cianparser # https://github.com/lenarsaitov/cianparser\n",
    "import distance\n",
    "from jellyfish import jaro_winkler\n",
    "import seaborn as sns\n",
    "import matplotlib.pyplot as plt\n",
    "from sklearn.ensemble import RandomForestClassifier\n",
    "from sklearn.model_selection import GridSearchCV,StratifiedKFold\n",
    "from sklearn.preprocessing import LabelEncoder\n",
    "from imblearn.over_sampling import RandomOverSampler"
   ]
  },
  {
   "cell_type": "code",
   "execution_count": 2,
   "id": "e64c7a25",
   "metadata": {},
   "outputs": [],
   "source": [
    "# cianparser.parse(\n",
    "#     deal_type=\"sale\", # \"rent_long\", \"rent_short\", \"sale\"\n",
    "#     accommodation_type=\"flat\", # \"flat\", \"room\", \"house\", \"house-part\", \"townhouse\"\n",
    "#     location=\"Санкт-Петербург\",\n",
    "#     rooms=2, # \"studio\"\n",
    "#     start_page=1,\n",
    "#     end_page=100,\n",
    "#     is_saving_csv=True,\n",
    "#     is_latin=True,\n",
    "#     is_express_mode=False,\n",
    "#     is_by_homeowner=False,)"
   ]
  },
  {
   "cell_type": "code",
   "execution_count": 3,
   "id": "59dea0f8",
   "metadata": {},
   "outputs": [],
   "source": [
    "data = pd.read_csv('https://docs.google.com/spreadsheets/d/e/2PACX-1vTulT53cUzDGYyVXhek5ElnmIOoY1KV4NiQajXw0i3-U2DbFENz6ngPWBF16XRZnrgymcwguVk4_Yhc/pub?gid=351372992&single=true&output=csv')"
   ]
  },
  {
   "cell_type": "markdown",
   "id": "07816286",
   "metadata": {},
   "source": [
    "# Предобработка данных(квартиры на продажу в Санкт-Петербурге)"
   ]
  },
  {
   "cell_type": "code",
   "execution_count": 4,
   "id": "108da64b",
   "metadata": {
    "scrolled": true
   },
   "outputs": [
    {
     "data": {
      "text/html": [
       "<div>\n",
       "<style scoped>\n",
       "    .dataframe tbody tr th:only-of-type {\n",
       "        vertical-align: middle;\n",
       "    }\n",
       "\n",
       "    .dataframe tbody tr th {\n",
       "        vertical-align: top;\n",
       "    }\n",
       "\n",
       "    .dataframe thead th {\n",
       "        text-align: right;\n",
       "    }\n",
       "</style>\n",
       "<table border=\"1\" class=\"dataframe\">\n",
       "  <thead>\n",
       "    <tr style=\"text-align: right;\">\n",
       "      <th></th>\n",
       "      <th>author</th>\n",
       "      <th>author_type</th>\n",
       "      <th>link</th>\n",
       "      <th>city</th>\n",
       "      <th>deal_type</th>\n",
       "      <th>accommodation_type</th>\n",
       "      <th>floor</th>\n",
       "      <th>floors_count</th>\n",
       "      <th>rooms_count</th>\n",
       "      <th>total_meters</th>\n",
       "      <th>price_per_m2</th>\n",
       "      <th>price</th>\n",
       "      <th>year_of_construction</th>\n",
       "      <th>living_meters</th>\n",
       "      <th>kitchen_meters</th>\n",
       "      <th>phone</th>\n",
       "      <th>district</th>\n",
       "      <th>street</th>\n",
       "      <th>underground</th>\n",
       "      <th>residential_complex</th>\n",
       "    </tr>\n",
       "  </thead>\n",
       "  <tbody>\n",
       "    <tr>\n",
       "      <th>0</th>\n",
       "      <td>Петербургская Строительная Компания</td>\n",
       "      <td>developer</td>\n",
       "      <td>https://spb.cian.ru/sale/flat/284740225/</td>\n",
       "      <td>Sankt-Peterburg</td>\n",
       "      <td>sale</td>\n",
       "      <td>flat</td>\n",
       "      <td>1</td>\n",
       "      <td>7</td>\n",
       "      <td>1.0</td>\n",
       "      <td>38.20</td>\n",
       "      <td>419999</td>\n",
       "      <td>16044000</td>\n",
       "      <td>2023</td>\n",
       "      <td>12.0</td>\n",
       "      <td>12.0</td>\n",
       "      <td>7.812218e+10</td>\n",
       "      <td>Petrogradskij</td>\n",
       "      <td>Chkalovskoe</td>\n",
       "      <td>Petrogradskaja</td>\n",
       "      <td>Severnaja Korona</td>\n",
       "    </tr>\n",
       "    <tr>\n",
       "      <th>1</th>\n",
       "      <td>Петербургская Строительная Компания</td>\n",
       "      <td>developer</td>\n",
       "      <td>https://spb.cian.ru/sale/flat/280819981/</td>\n",
       "      <td>Sankt-Peterburg</td>\n",
       "      <td>sale</td>\n",
       "      <td>flat</td>\n",
       "      <td>13</td>\n",
       "      <td>25</td>\n",
       "      <td>1.0</td>\n",
       "      <td>36.81</td>\n",
       "      <td>33201</td>\n",
       "      <td>6706674</td>\n",
       "      <td>2024</td>\n",
       "      <td>10.0</td>\n",
       "      <td>13.0</td>\n",
       "      <td>7.812218e+10</td>\n",
       "      <td>Primorskij</td>\n",
       "      <td>Kolomjagi</td>\n",
       "      <td>Prospekt Prosveschenija</td>\n",
       "      <td>Frends ZhK</td>\n",
       "    </tr>\n",
       "    <tr>\n",
       "      <th>2</th>\n",
       "      <td>GloraX</td>\n",
       "      <td>developer</td>\n",
       "      <td>https://spb.cian.ru/sale/flat/279507591/</td>\n",
       "      <td>Sankt-Peterburg</td>\n",
       "      <td>sale</td>\n",
       "      <td>flat</td>\n",
       "      <td>5</td>\n",
       "      <td>19</td>\n",
       "      <td>1.0</td>\n",
       "      <td>36.76</td>\n",
       "      <td>265777</td>\n",
       "      <td>9769999</td>\n",
       "      <td>2025</td>\n",
       "      <td>11.0</td>\n",
       "      <td>11.0</td>\n",
       "      <td>7.812213e+10</td>\n",
       "      <td>Vasileostrovskij</td>\n",
       "      <td>Morskoj</td>\n",
       "      <td>Zenit</td>\n",
       "      <td>Gloraks Premium Vasileostrovskij ZhK</td>\n",
       "    </tr>\n",
       "    <tr>\n",
       "      <th>3</th>\n",
       "      <td>Группа Эталон</td>\n",
       "      <td>developer</td>\n",
       "      <td>https://spb.cian.ru/sale/flat/285017335/</td>\n",
       "      <td>Sankt-Peterburg</td>\n",
       "      <td>sale</td>\n",
       "      <td>flat</td>\n",
       "      <td>13</td>\n",
       "      <td>18</td>\n",
       "      <td>1.0</td>\n",
       "      <td>32.60</td>\n",
       "      <td>303116</td>\n",
       "      <td>9881582</td>\n",
       "      <td>2022</td>\n",
       "      <td>21.0</td>\n",
       "      <td>-1.0</td>\n",
       "      <td>7.812213e+10</td>\n",
       "      <td>Admiraltejskij</td>\n",
       "      <td>Izmajlovskoe</td>\n",
       "      <td>Moskovskie vorota</td>\n",
       "      <td>Kvartal Galaktika</td>\n",
       "    </tr>\n",
       "    <tr>\n",
       "      <th>4</th>\n",
       "      <td>GloraX</td>\n",
       "      <td>developer</td>\n",
       "      <td>https://spb.cian.ru/sale/flat/279351916/</td>\n",
       "      <td>Sankt-Peterburg</td>\n",
       "      <td>sale</td>\n",
       "      <td>flat</td>\n",
       "      <td>11</td>\n",
       "      <td>14</td>\n",
       "      <td>1.0</td>\n",
       "      <td>34.44</td>\n",
       "      <td>322009</td>\n",
       "      <td>11089999</td>\n",
       "      <td>2024</td>\n",
       "      <td>12.0</td>\n",
       "      <td>13.0</td>\n",
       "      <td>7.812213e+10</td>\n",
       "      <td>Krasnogvardejskij</td>\n",
       "      <td>Malaja Ohta</td>\n",
       "      <td>Ladozhskaja</td>\n",
       "      <td>Glorax Zanevskij</td>\n",
       "    </tr>\n",
       "  </tbody>\n",
       "</table>\n",
       "</div>"
      ],
      "text/plain": [
       "                                author author_type   \n",
       "0  Петербургская Строительная Компания   developer  \\\n",
       "1  Петербургская Строительная Компания   developer   \n",
       "2                               GloraX   developer   \n",
       "3                        Группа Эталон   developer   \n",
       "4                               GloraX   developer   \n",
       "\n",
       "                                       link             city deal_type   \n",
       "0  https://spb.cian.ru/sale/flat/284740225/  Sankt-Peterburg      sale  \\\n",
       "1  https://spb.cian.ru/sale/flat/280819981/  Sankt-Peterburg      sale   \n",
       "2  https://spb.cian.ru/sale/flat/279507591/  Sankt-Peterburg      sale   \n",
       "3  https://spb.cian.ru/sale/flat/285017335/  Sankt-Peterburg      sale   \n",
       "4  https://spb.cian.ru/sale/flat/279351916/  Sankt-Peterburg      sale   \n",
       "\n",
       "  accommodation_type  floor  floors_count  rooms_count  total_meters   \n",
       "0               flat      1             7          1.0         38.20  \\\n",
       "1               flat     13            25          1.0         36.81   \n",
       "2               flat      5            19          1.0         36.76   \n",
       "3               flat     13            18          1.0         32.60   \n",
       "4               flat     11            14          1.0         34.44   \n",
       "\n",
       "   price_per_m2     price  year_of_construction  living_meters   \n",
       "0        419999  16044000                  2023           12.0  \\\n",
       "1         33201   6706674                  2024           10.0   \n",
       "2        265777   9769999                  2025           11.0   \n",
       "3        303116   9881582                  2022           21.0   \n",
       "4        322009  11089999                  2024           12.0   \n",
       "\n",
       "   kitchen_meters         phone           district        street   \n",
       "0            12.0  7.812218e+10      Petrogradskij   Chkalovskoe  \\\n",
       "1            13.0  7.812218e+10         Primorskij     Kolomjagi   \n",
       "2            11.0  7.812213e+10   Vasileostrovskij       Morskoj   \n",
       "3            -1.0  7.812213e+10     Admiraltejskij  Izmajlovskoe   \n",
       "4            13.0  7.812213e+10  Krasnogvardejskij   Malaja Ohta   \n",
       "\n",
       "               underground                   residential_complex  \n",
       "0           Petrogradskaja                      Severnaja Korona  \n",
       "1  Prospekt Prosveschenija                            Frends ZhK  \n",
       "2                    Zenit  Gloraks Premium Vasileostrovskij ZhK  \n",
       "3        Moskovskie vorota                     Kvartal Galaktika  \n",
       "4              Ladozhskaja                      Glorax Zanevskij  "
      ]
     },
     "execution_count": 4,
     "metadata": {},
     "output_type": "execute_result"
    }
   ],
   "source": [
    "data.head()"
   ]
  },
  {
   "cell_type": "code",
   "execution_count": 5,
   "id": "f9d33094",
   "metadata": {},
   "outputs": [
    {
     "data": {
      "text/plain": [
       "(7118, 20)"
      ]
     },
     "execution_count": 5,
     "metadata": {},
     "output_type": "execute_result"
    }
   ],
   "source": [
    "data.shape"
   ]
  },
  {
   "cell_type": "code",
   "execution_count": 6,
   "id": "fabae9d1",
   "metadata": {},
   "outputs": [],
   "source": [
    "data['flat_id'] = data['link'].str.extract('(\\d+)')"
   ]
  },
  {
   "cell_type": "code",
   "execution_count": 7,
   "id": "bfce123b",
   "metadata": {},
   "outputs": [],
   "source": [
    "data.drop('link', axis = 1,inplace = True)"
   ]
  },
  {
   "cell_type": "code",
   "execution_count": 8,
   "id": "50c861fc",
   "metadata": {},
   "outputs": [],
   "source": [
    "data.drop(['accommodation_type','deal_type','city'],axis = 1,inplace = True)"
   ]
  },
  {
   "cell_type": "code",
   "execution_count": 9,
   "id": "38e1301e",
   "metadata": {},
   "outputs": [],
   "source": [
    "n = len(data['author']) // 2\n",
    "authors1 = data['author'][:n]\n",
    "authors2 = data['author'][n:]\n",
    "authors1= authors1.astype('str')\n",
    "authors2= authors2.astype('str')"
   ]
  },
  {
   "cell_type": "code",
   "execution_count": 10,
   "id": "c5bad7ef",
   "metadata": {},
   "outputs": [],
   "source": [
    "distances = authors1.apply(lambda x: authors2.apply(lambda y: jaro_winkler(x,y)))"
   ]
  },
  {
   "cell_type": "code",
   "execution_count": 11,
   "id": "4c151bbc",
   "metadata": {
    "scrolled": true
   },
   "outputs": [
    {
     "data": {
      "text/html": [
       "<div>\n",
       "<style scoped>\n",
       "    .dataframe tbody tr th:only-of-type {\n",
       "        vertical-align: middle;\n",
       "    }\n",
       "\n",
       "    .dataframe tbody tr th {\n",
       "        vertical-align: top;\n",
       "    }\n",
       "\n",
       "    .dataframe thead th {\n",
       "        text-align: right;\n",
       "    }\n",
       "</style>\n",
       "<table border=\"1\" class=\"dataframe\">\n",
       "  <thead>\n",
       "    <tr style=\"text-align: right;\">\n",
       "      <th></th>\n",
       "      <th>author</th>\n",
       "      <th>author_type</th>\n",
       "      <th>floor</th>\n",
       "      <th>floors_count</th>\n",
       "      <th>rooms_count</th>\n",
       "      <th>total_meters</th>\n",
       "      <th>price_per_m2</th>\n",
       "      <th>price</th>\n",
       "      <th>year_of_construction</th>\n",
       "      <th>living_meters</th>\n",
       "      <th>kitchen_meters</th>\n",
       "      <th>phone</th>\n",
       "      <th>district</th>\n",
       "      <th>street</th>\n",
       "      <th>underground</th>\n",
       "      <th>residential_complex</th>\n",
       "      <th>flat_id</th>\n",
       "    </tr>\n",
       "  </thead>\n",
       "  <tbody>\n",
       "    <tr>\n",
       "      <th>0</th>\n",
       "      <td>Петербургская Строительная Компания</td>\n",
       "      <td>developer</td>\n",
       "      <td>1</td>\n",
       "      <td>7</td>\n",
       "      <td>1.0</td>\n",
       "      <td>38.20</td>\n",
       "      <td>419999</td>\n",
       "      <td>16044000</td>\n",
       "      <td>2023</td>\n",
       "      <td>12.0</td>\n",
       "      <td>12.0</td>\n",
       "      <td>7.812218e+10</td>\n",
       "      <td>Petrogradskij</td>\n",
       "      <td>Chkalovskoe</td>\n",
       "      <td>Petrogradskaja</td>\n",
       "      <td>Severnaja Korona</td>\n",
       "      <td>284740225</td>\n",
       "    </tr>\n",
       "    <tr>\n",
       "      <th>1</th>\n",
       "      <td>Петербургская Строительная Компания</td>\n",
       "      <td>developer</td>\n",
       "      <td>13</td>\n",
       "      <td>25</td>\n",
       "      <td>1.0</td>\n",
       "      <td>36.81</td>\n",
       "      <td>33201</td>\n",
       "      <td>6706674</td>\n",
       "      <td>2024</td>\n",
       "      <td>10.0</td>\n",
       "      <td>13.0</td>\n",
       "      <td>7.812218e+10</td>\n",
       "      <td>Primorskij</td>\n",
       "      <td>Kolomjagi</td>\n",
       "      <td>Prospekt Prosveschenija</td>\n",
       "      <td>Frends ZhK</td>\n",
       "      <td>280819981</td>\n",
       "    </tr>\n",
       "    <tr>\n",
       "      <th>2</th>\n",
       "      <td>GloraX</td>\n",
       "      <td>developer</td>\n",
       "      <td>5</td>\n",
       "      <td>19</td>\n",
       "      <td>1.0</td>\n",
       "      <td>36.76</td>\n",
       "      <td>265777</td>\n",
       "      <td>9769999</td>\n",
       "      <td>2025</td>\n",
       "      <td>11.0</td>\n",
       "      <td>11.0</td>\n",
       "      <td>7.812213e+10</td>\n",
       "      <td>Vasileostrovskij</td>\n",
       "      <td>Morskoj</td>\n",
       "      <td>Zenit</td>\n",
       "      <td>Gloraks Premium Vasileostrovskij ZhK</td>\n",
       "      <td>279507591</td>\n",
       "    </tr>\n",
       "    <tr>\n",
       "      <th>3</th>\n",
       "      <td>Группа Эталон</td>\n",
       "      <td>developer</td>\n",
       "      <td>13</td>\n",
       "      <td>18</td>\n",
       "      <td>1.0</td>\n",
       "      <td>32.60</td>\n",
       "      <td>303116</td>\n",
       "      <td>9881582</td>\n",
       "      <td>2022</td>\n",
       "      <td>21.0</td>\n",
       "      <td>-1.0</td>\n",
       "      <td>7.812213e+10</td>\n",
       "      <td>Admiraltejskij</td>\n",
       "      <td>Izmajlovskoe</td>\n",
       "      <td>Moskovskie vorota</td>\n",
       "      <td>Kvartal Galaktika</td>\n",
       "      <td>285017335</td>\n",
       "    </tr>\n",
       "    <tr>\n",
       "      <th>4</th>\n",
       "      <td>GloraX</td>\n",
       "      <td>developer</td>\n",
       "      <td>11</td>\n",
       "      <td>14</td>\n",
       "      <td>1.0</td>\n",
       "      <td>34.44</td>\n",
       "      <td>322009</td>\n",
       "      <td>11089999</td>\n",
       "      <td>2024</td>\n",
       "      <td>12.0</td>\n",
       "      <td>13.0</td>\n",
       "      <td>7.812213e+10</td>\n",
       "      <td>Krasnogvardejskij</td>\n",
       "      <td>Malaja Ohta</td>\n",
       "      <td>Ladozhskaja</td>\n",
       "      <td>Glorax Zanevskij</td>\n",
       "      <td>279351916</td>\n",
       "    </tr>\n",
       "  </tbody>\n",
       "</table>\n",
       "</div>"
      ],
      "text/plain": [
       "                                author author_type  floor  floors_count   \n",
       "0  Петербургская Строительная Компания   developer      1             7  \\\n",
       "1  Петербургская Строительная Компания   developer     13            25   \n",
       "2                               GloraX   developer      5            19   \n",
       "3                        Группа Эталон   developer     13            18   \n",
       "4                               GloraX   developer     11            14   \n",
       "\n",
       "   rooms_count  total_meters  price_per_m2     price  year_of_construction   \n",
       "0          1.0         38.20        419999  16044000                  2023  \\\n",
       "1          1.0         36.81         33201   6706674                  2024   \n",
       "2          1.0         36.76        265777   9769999                  2025   \n",
       "3          1.0         32.60        303116   9881582                  2022   \n",
       "4          1.0         34.44        322009  11089999                  2024   \n",
       "\n",
       "   living_meters  kitchen_meters         phone           district   \n",
       "0           12.0            12.0  7.812218e+10      Petrogradskij  \\\n",
       "1           10.0            13.0  7.812218e+10         Primorskij   \n",
       "2           11.0            11.0  7.812213e+10   Vasileostrovskij   \n",
       "3           21.0            -1.0  7.812213e+10     Admiraltejskij   \n",
       "4           12.0            13.0  7.812213e+10  Krasnogvardejskij   \n",
       "\n",
       "         street              underground   \n",
       "0   Chkalovskoe           Petrogradskaja  \\\n",
       "1     Kolomjagi  Prospekt Prosveschenija   \n",
       "2       Morskoj                    Zenit   \n",
       "3  Izmajlovskoe        Moskovskie vorota   \n",
       "4   Malaja Ohta              Ladozhskaja   \n",
       "\n",
       "                    residential_complex    flat_id  \n",
       "0                      Severnaja Korona  284740225  \n",
       "1                            Frends ZhK  280819981  \n",
       "2  Gloraks Premium Vasileostrovskij ZhK  279507591  \n",
       "3                     Kvartal Galaktika  285017335  \n",
       "4                      Glorax Zanevskij  279351916  "
      ]
     },
     "execution_count": 11,
     "metadata": {},
     "output_type": "execute_result"
    }
   ],
   "source": [
    "data.head()"
   ]
  },
  {
   "cell_type": "code",
   "execution_count": 12,
   "id": "67c7b522",
   "metadata": {},
   "outputs": [],
   "source": [
    "data.drop('phone', axis =1, inplace=True)"
   ]
  },
  {
   "cell_type": "code",
   "execution_count": 13,
   "id": "ce5d65b1",
   "metadata": {},
   "outputs": [],
   "source": [
    "data_duplicated_indexes = data[data.duplicated() == True].index"
   ]
  },
  {
   "cell_type": "code",
   "execution_count": 14,
   "id": "3cc7c7a0",
   "metadata": {},
   "outputs": [],
   "source": [
    "data = data.drop(data_duplicated_indexes, axis =0)"
   ]
  },
  {
   "cell_type": "code",
   "execution_count": 15,
   "id": "371f5e14",
   "metadata": {},
   "outputs": [],
   "source": [
    "data[['total_meters', \n",
    "      'price_per_m2',\n",
    "      'year_of_construction',\n",
    "      'living_meters',\n",
    "      'kitchen_meters']] = data[['total_meters', 'price_per_m2','year_of_construction','living_meters','kitchen_meters']].replace(-1.0, None)"
   ]
  },
  {
   "cell_type": "code",
   "execution_count": 16,
   "id": "a4574ab7",
   "metadata": {},
   "outputs": [
    {
     "data": {
      "text/plain": [
       "author                    22\n",
       "author_type               22\n",
       "floor                      0\n",
       "floors_count               0\n",
       "rooms_count                0\n",
       "total_meters               1\n",
       "price_per_m2               0\n",
       "price                      0\n",
       "year_of_construction     155\n",
       "living_meters            468\n",
       "kitchen_meters          1086\n",
       "district                   0\n",
       "street                   120\n",
       "underground              361\n",
       "residential_complex     2697\n",
       "flat_id                    0\n",
       "dtype: int64"
      ]
     },
     "execution_count": 16,
     "metadata": {},
     "output_type": "execute_result"
    }
   ],
   "source": [
    "data.isna().sum()"
   ]
  },
  {
   "cell_type": "code",
   "execution_count": 17,
   "id": "bb32c7f1",
   "metadata": {},
   "outputs": [],
   "source": [
    "data.drop(data[(data.isna().sum(axis=1) >= 4)].index, axis = 0, inplace =True)"
   ]
  },
  {
   "cell_type": "code",
   "execution_count": 18,
   "id": "d399659f",
   "metadata": {},
   "outputs": [],
   "source": [
    "data.loc[(data.price_per_m2 <=0),'price_per_m2'] = None "
   ]
  },
  {
   "cell_type": "code",
   "execution_count": 19,
   "id": "37fa0b0a",
   "metadata": {},
   "outputs": [
    {
     "data": {
      "text/plain": [
       "author                     3\n",
       "author_type                3\n",
       "floor                      0\n",
       "floors_count               0\n",
       "rooms_count                0\n",
       "total_meters               1\n",
       "price_per_m2               1\n",
       "price                      0\n",
       "year_of_construction     140\n",
       "living_meters            433\n",
       "kitchen_meters          1049\n",
       "district                   0\n",
       "street                   120\n",
       "underground              356\n",
       "residential_complex     2679\n",
       "flat_id                    0\n",
       "dtype: int64"
      ]
     },
     "execution_count": 19,
     "metadata": {},
     "output_type": "execute_result"
    }
   ],
   "source": [
    "data.isna().sum()"
   ]
  },
  {
   "cell_type": "code",
   "execution_count": 20,
   "id": "629f2faf",
   "metadata": {},
   "outputs": [],
   "source": [
    "data['author'].fillna(data['author'].mode()[0], inplace =True)\n",
    "data['author_type'].fillna(data['author_type'].mode()[0], inplace =True)"
   ]
  },
  {
   "cell_type": "code",
   "execution_count": 21,
   "id": "899e70a0",
   "metadata": {},
   "outputs": [],
   "source": [
    "data[['total_meters',\n",
    "             'living_meters',\n",
    "             'kitchen_meters']] = data[['total_meters','living_meters','kitchen_meters']].astype('float64')"
   ]
  },
  {
   "cell_type": "code",
   "execution_count": 22,
   "id": "d64e4a93",
   "metadata": {},
   "outputs": [],
   "source": [
    "data['total_meters'].fillna(data['total_meters'].median(), inplace =True)\n",
    "data['price_per_m2'].fillna(data['price_per_m2'].median(), inplace =True)"
   ]
  },
  {
   "cell_type": "code",
   "execution_count": 23,
   "id": "23a7a2e5",
   "metadata": {},
   "outputs": [],
   "source": [
    "data['year_of_construction'].fillna(data['year_of_construction'].median(), inplace =True)"
   ]
  },
  {
   "cell_type": "code",
   "execution_count": 24,
   "id": "e43d9451",
   "metadata": {},
   "outputs": [],
   "source": [
    "data['year_of_construction'] = data['year_of_construction'].astype('int64')"
   ]
  },
  {
   "cell_type": "code",
   "execution_count": 25,
   "id": "254cbfdb",
   "metadata": {},
   "outputs": [],
   "source": [
    "data['living_meters'].fillna(data['living_meters'].median(), inplace =True)"
   ]
  },
  {
   "cell_type": "code",
   "execution_count": 41,
   "id": "9697e737",
   "metadata": {},
   "outputs": [
    {
     "data": {
      "text/plain": [
       "author                     0\n",
       "author_type                0\n",
       "floor                      0\n",
       "floors_count               0\n",
       "rooms_count                0\n",
       "total_meters               0\n",
       "price_per_m2               0\n",
       "price                      0\n",
       "year_of_construction       0\n",
       "living_meters              0\n",
       "kitchen_meters          1049\n",
       "district                   0\n",
       "street                   120\n",
       "underground              356\n",
       "residential_complex        0\n",
       "flat_id                    0\n",
       "dtype: int64"
      ]
     },
     "execution_count": 41,
     "metadata": {},
     "output_type": "execute_result"
    }
   ],
   "source": [
    "data.isna().sum()"
   ]
  },
  {
   "cell_type": "markdown",
   "id": "78c4538a",
   "metadata": {},
   "source": [
    "## Заполнение пропусков методом случайного леса\n",
    "### residential_complex"
   ]
  },
  {
   "cell_type": "code",
   "execution_count": 27,
   "id": "571a7a53",
   "metadata": {},
   "outputs": [],
   "source": [
    "x_train = data.loc[~data.residential_complex.isna(), ['author','author_type','floor', 'floors_count', 'rooms_count',\n",
    "       'total_meters', 'price_per_m2', 'price', 'year_of_construction',\n",
    "       'living_meters', 'district']]\n",
    "y_train = data.loc[~data.residential_complex.isna(),'residential_complex']\n",
    "x_test = data.loc[data.residential_complex.isna(), ['author','author_type','floor', 'floors_count', 'rooms_count',\n",
    "       'total_meters', 'price_per_m2', 'price', 'year_of_construction',\n",
    "       'living_meters', 'district']]"
   ]
  },
  {
   "cell_type": "code",
   "execution_count": 28,
   "id": "7f1b87f2",
   "metadata": {},
   "outputs": [],
   "source": [
    "classes_less_than_5 = y_train.value_counts()[y_train.value_counts() <5].index\n",
    "sample_strategy = {item: 5 for item in classes_less_than_5}\n",
    "\n",
    "ROS = RandomOverSampler(sampling_strategy = sample_strategy)\n",
    "x_train_resampled, y_train_resampled  = ROS.fit_resample(x_train,y_train)"
   ]
  },
  {
   "cell_type": "code",
   "execution_count": 29,
   "id": "1ab71f86",
   "metadata": {},
   "outputs": [],
   "source": [
    "label_encoder = LabelEncoder()\n",
    "for item in ['author','author_type','year_of_construction','district']:\n",
    "    x_test[item] = label_encoder.fit_transform(x_test[item])\n",
    "    x_train_resampled[item] = label_encoder.fit_transform(x_train_resampled[item])"
   ]
  },
  {
   "cell_type": "code",
   "execution_count": 46,
   "id": "aa9a8f54",
   "metadata": {},
   "outputs": [
    {
     "data": {
      "text/html": [
       "<style>#sk-container-id-2 {color: black;background-color: white;}#sk-container-id-2 pre{padding: 0;}#sk-container-id-2 div.sk-toggleable {background-color: white;}#sk-container-id-2 label.sk-toggleable__label {cursor: pointer;display: block;width: 100%;margin-bottom: 0;padding: 0.3em;box-sizing: border-box;text-align: center;}#sk-container-id-2 label.sk-toggleable__label-arrow:before {content: \"▸\";float: left;margin-right: 0.25em;color: #696969;}#sk-container-id-2 label.sk-toggleable__label-arrow:hover:before {color: black;}#sk-container-id-2 div.sk-estimator:hover label.sk-toggleable__label-arrow:before {color: black;}#sk-container-id-2 div.sk-toggleable__content {max-height: 0;max-width: 0;overflow: hidden;text-align: left;background-color: #f0f8ff;}#sk-container-id-2 div.sk-toggleable__content pre {margin: 0.2em;color: black;border-radius: 0.25em;background-color: #f0f8ff;}#sk-container-id-2 input.sk-toggleable__control:checked~div.sk-toggleable__content {max-height: 200px;max-width: 100%;overflow: auto;}#sk-container-id-2 input.sk-toggleable__control:checked~label.sk-toggleable__label-arrow:before {content: \"▾\";}#sk-container-id-2 div.sk-estimator input.sk-toggleable__control:checked~label.sk-toggleable__label {background-color: #d4ebff;}#sk-container-id-2 div.sk-label input.sk-toggleable__control:checked~label.sk-toggleable__label {background-color: #d4ebff;}#sk-container-id-2 input.sk-hidden--visually {border: 0;clip: rect(1px 1px 1px 1px);clip: rect(1px, 1px, 1px, 1px);height: 1px;margin: -1px;overflow: hidden;padding: 0;position: absolute;width: 1px;}#sk-container-id-2 div.sk-estimator {font-family: monospace;background-color: #f0f8ff;border: 1px dotted black;border-radius: 0.25em;box-sizing: border-box;margin-bottom: 0.5em;}#sk-container-id-2 div.sk-estimator:hover {background-color: #d4ebff;}#sk-container-id-2 div.sk-parallel-item::after {content: \"\";width: 100%;border-bottom: 1px solid gray;flex-grow: 1;}#sk-container-id-2 div.sk-label:hover label.sk-toggleable__label {background-color: #d4ebff;}#sk-container-id-2 div.sk-serial::before {content: \"\";position: absolute;border-left: 1px solid gray;box-sizing: border-box;top: 0;bottom: 0;left: 50%;z-index: 0;}#sk-container-id-2 div.sk-serial {display: flex;flex-direction: column;align-items: center;background-color: white;padding-right: 0.2em;padding-left: 0.2em;position: relative;}#sk-container-id-2 div.sk-item {position: relative;z-index: 1;}#sk-container-id-2 div.sk-parallel {display: flex;align-items: stretch;justify-content: center;background-color: white;position: relative;}#sk-container-id-2 div.sk-item::before, #sk-container-id-2 div.sk-parallel-item::before {content: \"\";position: absolute;border-left: 1px solid gray;box-sizing: border-box;top: 0;bottom: 0;left: 50%;z-index: -1;}#sk-container-id-2 div.sk-parallel-item {display: flex;flex-direction: column;z-index: 1;position: relative;background-color: white;}#sk-container-id-2 div.sk-parallel-item:first-child::after {align-self: flex-end;width: 50%;}#sk-container-id-2 div.sk-parallel-item:last-child::after {align-self: flex-start;width: 50%;}#sk-container-id-2 div.sk-parallel-item:only-child::after {width: 0;}#sk-container-id-2 div.sk-dashed-wrapped {border: 1px dashed gray;margin: 0 0.4em 0.5em 0.4em;box-sizing: border-box;padding-bottom: 0.4em;background-color: white;}#sk-container-id-2 div.sk-label label {font-family: monospace;font-weight: bold;display: inline-block;line-height: 1.2em;}#sk-container-id-2 div.sk-label-container {text-align: center;}#sk-container-id-2 div.sk-container {/* jupyter's `normalize.less` sets `[hidden] { display: none; }` but bootstrap.min.css set `[hidden] { display: none !important; }` so we also need the `!important` here to be able to override the default hidden behavior on the sphinx rendered scikit-learn.org. See: https://github.com/scikit-learn/scikit-learn/issues/21755 */display: inline-block !important;position: relative;}#sk-container-id-2 div.sk-text-repr-fallback {display: none;}</style><div id=\"sk-container-id-2\" class=\"sk-top-container\"><div class=\"sk-text-repr-fallback\"><pre>GridSearchCV(cv=StratifiedKFold(n_splits=5, random_state=None, shuffle=True),\n",
       "             estimator=RandomForestClassifier(random_state=42), n_jobs=-1,\n",
       "             param_grid={&#x27;criterion&#x27;: [&#x27;entropy&#x27;], &#x27;max_depth&#x27;: range(8, 11),\n",
       "                         &#x27;max_features&#x27;: [&#x27;sqrt&#x27;],\n",
       "                         &#x27;min_samples_leaf&#x27;: [2, 5, 10],\n",
       "                         &#x27;min_samples_split&#x27;: [5, 10, 20],\n",
       "                         &#x27;n_estimators&#x27;: [45, 50]})</pre><b>In a Jupyter environment, please rerun this cell to show the HTML representation or trust the notebook. <br />On GitHub, the HTML representation is unable to render, please try loading this page with nbviewer.org.</b></div><div class=\"sk-container\" hidden><div class=\"sk-item sk-dashed-wrapped\"><div class=\"sk-label-container\"><div class=\"sk-label sk-toggleable\"><input class=\"sk-toggleable__control sk-hidden--visually\" id=\"sk-estimator-id-4\" type=\"checkbox\" ><label for=\"sk-estimator-id-4\" class=\"sk-toggleable__label sk-toggleable__label-arrow\">GridSearchCV</label><div class=\"sk-toggleable__content\"><pre>GridSearchCV(cv=StratifiedKFold(n_splits=5, random_state=None, shuffle=True),\n",
       "             estimator=RandomForestClassifier(random_state=42), n_jobs=-1,\n",
       "             param_grid={&#x27;criterion&#x27;: [&#x27;entropy&#x27;], &#x27;max_depth&#x27;: range(8, 11),\n",
       "                         &#x27;max_features&#x27;: [&#x27;sqrt&#x27;],\n",
       "                         &#x27;min_samples_leaf&#x27;: [2, 5, 10],\n",
       "                         &#x27;min_samples_split&#x27;: [5, 10, 20],\n",
       "                         &#x27;n_estimators&#x27;: [45, 50]})</pre></div></div></div><div class=\"sk-parallel\"><div class=\"sk-parallel-item\"><div class=\"sk-item\"><div class=\"sk-label-container\"><div class=\"sk-label sk-toggleable\"><input class=\"sk-toggleable__control sk-hidden--visually\" id=\"sk-estimator-id-5\" type=\"checkbox\" ><label for=\"sk-estimator-id-5\" class=\"sk-toggleable__label sk-toggleable__label-arrow\">estimator: RandomForestClassifier</label><div class=\"sk-toggleable__content\"><pre>RandomForestClassifier(random_state=42)</pre></div></div></div><div class=\"sk-serial\"><div class=\"sk-item\"><div class=\"sk-estimator sk-toggleable\"><input class=\"sk-toggleable__control sk-hidden--visually\" id=\"sk-estimator-id-6\" type=\"checkbox\" ><label for=\"sk-estimator-id-6\" class=\"sk-toggleable__label sk-toggleable__label-arrow\">RandomForestClassifier</label><div class=\"sk-toggleable__content\"><pre>RandomForestClassifier(random_state=42)</pre></div></div></div></div></div></div></div></div></div></div>"
      ],
      "text/plain": [
       "GridSearchCV(cv=StratifiedKFold(n_splits=5, random_state=None, shuffle=True),\n",
       "             estimator=RandomForestClassifier(random_state=42), n_jobs=-1,\n",
       "             param_grid={'criterion': ['entropy'], 'max_depth': range(8, 11),\n",
       "                         'max_features': ['sqrt'],\n",
       "                         'min_samples_leaf': [2, 5, 10],\n",
       "                         'min_samples_split': [5, 10, 20],\n",
       "                         'n_estimators': [45, 50]})"
      ]
     },
     "execution_count": 46,
     "metadata": {},
     "output_type": "execute_result"
    }
   ],
   "source": [
    "# clf_rf = RandomForestClassifier(random_state=42)\n",
    "# params = {'criterion':['entropy'],\n",
    "#           'n_estimators':[45,50], \n",
    "#           'max_depth':range(8,11),\n",
    "#           'min_samples_split':[5,10,20],\n",
    "#           'min_samples_leaf':[2,5,10],\n",
    "#           'max_features': ['sqrt']}\n",
    "# grid_search = GridSearchCV(estimator=clf_rf,\n",
    "#                            param_grid=params,\n",
    "#                            cv=StratifiedKFold(n_splits=5, shuffle=True),\n",
    "#                            n_jobs = -1)\n",
    "# grid_search.fit(x_train_resampled,y_train_resampled)"
   ]
  },
  {
   "cell_type": "code",
   "execution_count": 47,
   "id": "edf8b72e",
   "metadata": {},
   "outputs": [
    {
     "data": {
      "text/plain": [
       "{'criterion': 'entropy',\n",
       " 'max_depth': 10,\n",
       " 'max_features': 'sqrt',\n",
       " 'min_samples_leaf': 2,\n",
       " 'min_samples_split': 5,\n",
       " 'n_estimators': 50}"
      ]
     },
     "execution_count": 47,
     "metadata": {},
     "output_type": "execute_result"
    }
   ],
   "source": [
    "# print(grid_search.best_params_)\n",
    "# print(grid_search.best_score_)"
   ]
  },
  {
   "cell_type": "code",
   "execution_count": 33,
   "id": "d0ec7caa",
   "metadata": {},
   "outputs": [
    {
     "data": {
      "text/plain": [
       "array(['ID Svetlanovskiy', 'Manufaktura James Beck', \"Mir'\", ...,\n",
       "       'Parkolovo', 'Svetlana Park', 'Kompleks apartamentov START'],\n",
       "      dtype=object)"
      ]
     },
     "execution_count": 33,
     "metadata": {},
     "output_type": "execute_result"
    }
   ],
   "source": [
    "# residential_complex_pred = grid_search.predict(x_test)\n",
    "# residential_complex_pred"
   ]
  },
  {
   "cell_type": "code",
   "execution_count": 50,
   "id": "4c49f35a",
   "metadata": {},
   "outputs": [
    {
     "data": {
      "text/plain": [
       "array(['ID Svetlanovskiy', \"Mir'\", \"Mir'\", ..., 'Parkolovo',\n",
       "       'Monografija ZhK', 'Kompleks apartamentov START'], dtype=object)"
      ]
     },
     "execution_count": 50,
     "metadata": {},
     "output_type": "execute_result"
    }
   ],
   "source": [
    "clf_rf = RandomForestClassifier(criterion='entropy',\n",
    "                                max_depth= 10,\n",
    "                                max_features='sqrt',\n",
    "                                min_samples_leaf=2,\n",
    "                                min_samples_split=5,\n",
    "                                n_estimators=50,\n",
    "                                random_state=42)\n",
    "clf_rf.fit(x_train_resampled,y_train_resampled)\n",
    "residential_complex_nonan = clf_rf.predict(x_test)"
   ]
  },
  {
   "cell_type": "code",
   "execution_count": 52,
   "id": "9a1a896b",
   "metadata": {},
   "outputs": [
    {
     "data": {
      "text/plain": [
       "(2679,)"
      ]
     },
     "execution_count": 52,
     "metadata": {},
     "output_type": "execute_result"
    }
   ],
   "source": [
    "residential_complex_nonan.shape"
   ]
  },
  {
   "attachments": {
    "image-2.png": {
     "image/png": "[encoded data removed]"
    }
   },
   "cell_type": "markdown",
   "id": "b627fb56",
   "metadata": {},
   "source": [
    "![image-2.png](attachment:image-2.png)"
   ]
  },
  {
   "cell_type": "code",
   "execution_count": 34,
   "id": "a0d77b94",
   "metadata": {},
   "outputs": [
    {
     "data": {
      "text/plain": [
       "12                   ID Svetlanovskiy\n",
       "13             Manufaktura James Beck\n",
       "19                               Mir'\n",
       "20    GloraX Premium Vasileostrovskij\n",
       "77                   Severnaja dolina\n",
       "dtype: object"
      ]
     },
     "execution_count": 34,
     "metadata": {},
     "output_type": "execute_result"
    }
   ],
   "source": [
    "residential_complex_nonan = pd.Series(residential_complex_pred, \n",
    "                                      index = data.loc[data.residential_complex.isna(),'residential_complex'].index)\n",
    "residential_complex_nonan.head()"
   ]
  },
  {
   "cell_type": "code",
   "execution_count": 35,
   "id": "235c0d3f",
   "metadata": {},
   "outputs": [],
   "source": [
    "data.loc[data.residential_complex.isna(),'residential_complex'] = residential_complex_nonan"
   ]
  },
  {
   "cell_type": "markdown",
   "id": "1d29bbf5",
   "metadata": {},
   "source": [
    "### underground"
   ]
  },
  {
   "cell_type": "code",
   "execution_count": 54,
   "id": "a181d6fa",
   "metadata": {},
   "outputs": [
    {
     "data": {
      "text/plain": [
       "author                     0\n",
       "author_type                0\n",
       "floor                      0\n",
       "floors_count               0\n",
       "rooms_count                0\n",
       "total_meters               0\n",
       "price_per_m2               0\n",
       "price                      0\n",
       "year_of_construction       0\n",
       "living_meters              0\n",
       "kitchen_meters          1049\n",
       "district                   0\n",
       "street                   120\n",
       "underground              356\n",
       "residential_complex        0\n",
       "flat_id                    0\n",
       "dtype: int64"
      ]
     },
     "execution_count": 54,
     "metadata": {},
     "output_type": "execute_result"
    }
   ],
   "source": [
    "data.isna().sum()"
   ]
  },
  {
   "cell_type": "code",
   "execution_count": null,
   "id": "9f1bfe17",
   "metadata": {},
   "outputs": [],
   "source": []
  },
  {
   "cell_type": "markdown",
   "id": "1da40db5",
   "metadata": {},
   "source": [
    "# EDA"
   ]
  },
  {
   "cell_type": "code",
   "execution_count": 37,
   "id": "0495f7d2",
   "metadata": {},
   "outputs": [
    {
     "data": {
      "text/html": [
       "<div>\n",
       "<style scoped>\n",
       "    .dataframe tbody tr th:only-of-type {\n",
       "        vertical-align: middle;\n",
       "    }\n",
       "\n",
       "    .dataframe tbody tr th {\n",
       "        vertical-align: top;\n",
       "    }\n",
       "\n",
       "    .dataframe thead th {\n",
       "        text-align: right;\n",
       "    }\n",
       "</style>\n",
       "<table border=\"1\" class=\"dataframe\">\n",
       "  <thead>\n",
       "    <tr style=\"text-align: right;\">\n",
       "      <th></th>\n",
       "      <th>floor</th>\n",
       "      <th>floors_count</th>\n",
       "      <th>rooms_count</th>\n",
       "      <th>total_meters</th>\n",
       "      <th>price_per_m2</th>\n",
       "      <th>price</th>\n",
       "      <th>year_of_construction</th>\n",
       "      <th>living_meters</th>\n",
       "      <th>kitchen_meters</th>\n",
       "    </tr>\n",
       "  </thead>\n",
       "  <tbody>\n",
       "    <tr>\n",
       "      <th>count</th>\n",
       "      <td>7080.000000</td>\n",
       "      <td>7080.000000</td>\n",
       "      <td>7080.000000</td>\n",
       "      <td>7080.000000</td>\n",
       "      <td>7.080000e+03</td>\n",
       "      <td>7.080000e+03</td>\n",
       "      <td>7080.000000</td>\n",
       "      <td>7080.000000</td>\n",
       "      <td>6031.000000</td>\n",
       "    </tr>\n",
       "    <tr>\n",
       "      <th>mean</th>\n",
       "      <td>6.015819</td>\n",
       "      <td>11.921893</td>\n",
       "      <td>2.274718</td>\n",
       "      <td>73.238927</td>\n",
       "      <td>2.430629e+05</td>\n",
       "      <td>2.007322e+07</td>\n",
       "      <td>1994.077119</td>\n",
       "      <td>38.760141</td>\n",
       "      <td>14.487713</td>\n",
       "    </tr>\n",
       "    <tr>\n",
       "      <th>std</th>\n",
       "      <td>5.093174</td>\n",
       "      <td>6.887896</td>\n",
       "      <td>1.510390</td>\n",
       "      <td>54.845677</td>\n",
       "      <td>3.573273e+05</td>\n",
       "      <td>3.199484e+07</td>\n",
       "      <td>48.520760</td>\n",
       "      <td>30.709372</td>\n",
       "      <td>10.551325</td>\n",
       "    </tr>\n",
       "    <tr>\n",
       "      <th>min</th>\n",
       "      <td>1.000000</td>\n",
       "      <td>1.000000</td>\n",
       "      <td>0.500000</td>\n",
       "      <td>8.000000</td>\n",
       "      <td>1.785700e+04</td>\n",
       "      <td>1.750000e+06</td>\n",
       "      <td>1756.000000</td>\n",
       "      <td>2.000000</td>\n",
       "      <td>0.000000</td>\n",
       "    </tr>\n",
       "    <tr>\n",
       "      <th>25%</th>\n",
       "      <td>2.000000</td>\n",
       "      <td>6.000000</td>\n",
       "      <td>1.000000</td>\n",
       "      <td>33.400000</td>\n",
       "      <td>1.666660e+05</td>\n",
       "      <td>6.446196e+06</td>\n",
       "      <td>1979.000000</td>\n",
       "      <td>16.000000</td>\n",
       "      <td>8.000000</td>\n",
       "    </tr>\n",
       "    <tr>\n",
       "      <th>50%</th>\n",
       "      <td>4.000000</td>\n",
       "      <td>10.000000</td>\n",
       "      <td>2.000000</td>\n",
       "      <td>56.090000</td>\n",
       "      <td>2.060060e+05</td>\n",
       "      <td>1.140000e+07</td>\n",
       "      <td>2020.000000</td>\n",
       "      <td>29.000000</td>\n",
       "      <td>12.300000</td>\n",
       "    </tr>\n",
       "    <tr>\n",
       "      <th>75%</th>\n",
       "      <td>8.000000</td>\n",
       "      <td>16.000000</td>\n",
       "      <td>4.000000</td>\n",
       "      <td>98.170000</td>\n",
       "      <td>2.727000e+05</td>\n",
       "      <td>2.150000e+07</td>\n",
       "      <td>2023.000000</td>\n",
       "      <td>52.600000</td>\n",
       "      <td>18.000000</td>\n",
       "    </tr>\n",
       "    <tr>\n",
       "      <th>max</th>\n",
       "      <td>34.000000</td>\n",
       "      <td>109.000000</td>\n",
       "      <td>5.000000</td>\n",
       "      <td>654.700000</td>\n",
       "      <td>2.835052e+07</td>\n",
       "      <td>1.200000e+09</td>\n",
       "      <td>2026.000000</td>\n",
       "      <td>450.000000</td>\n",
       "      <td>135.000000</td>\n",
       "    </tr>\n",
       "  </tbody>\n",
       "</table>\n",
       "</div>"
      ],
      "text/plain": [
       "             floor  floors_count  rooms_count  total_meters  price_per_m2   \n",
       "count  7080.000000   7080.000000  7080.000000   7080.000000  7.080000e+03  \\\n",
       "mean      6.015819     11.921893     2.274718     73.238927  2.430629e+05   \n",
       "std       5.093174      6.887896     1.510390     54.845677  3.573273e+05   \n",
       "min       1.000000      1.000000     0.500000      8.000000  1.785700e+04   \n",
       "25%       2.000000      6.000000     1.000000     33.400000  1.666660e+05   \n",
       "50%       4.000000     10.000000     2.000000     56.090000  2.060060e+05   \n",
       "75%       8.000000     16.000000     4.000000     98.170000  2.727000e+05   \n",
       "max      34.000000    109.000000     5.000000    654.700000  2.835052e+07   \n",
       "\n",
       "              price  year_of_construction  living_meters  kitchen_meters  \n",
       "count  7.080000e+03           7080.000000    7080.000000     6031.000000  \n",
       "mean   2.007322e+07           1994.077119      38.760141       14.487713  \n",
       "std    3.199484e+07             48.520760      30.709372       10.551325  \n",
       "min    1.750000e+06           1756.000000       2.000000        0.000000  \n",
       "25%    6.446196e+06           1979.000000      16.000000        8.000000  \n",
       "50%    1.140000e+07           2020.000000      29.000000       12.300000  \n",
       "75%    2.150000e+07           2023.000000      52.600000       18.000000  \n",
       "max    1.200000e+09           2026.000000     450.000000      135.000000  "
      ]
     },
     "execution_count": 37,
     "metadata": {},
     "output_type": "execute_result"
    }
   ],
   "source": [
    "data.describe(include=['int64','float64'])"
   ]
  },
  {
   "cell_type": "code",
   "execution_count": 38,
   "id": "ab6905ce",
   "metadata": {},
   "outputs": [
    {
     "data": {
      "text/html": [
       "<div>\n",
       "<style scoped>\n",
       "    .dataframe tbody tr th:only-of-type {\n",
       "        vertical-align: middle;\n",
       "    }\n",
       "\n",
       "    .dataframe tbody tr th {\n",
       "        vertical-align: top;\n",
       "    }\n",
       "\n",
       "    .dataframe thead th {\n",
       "        text-align: right;\n",
       "    }\n",
       "</style>\n",
       "<table border=\"1\" class=\"dataframe\">\n",
       "  <thead>\n",
       "    <tr style=\"text-align: right;\">\n",
       "      <th></th>\n",
       "      <th>author</th>\n",
       "      <th>author_type</th>\n",
       "      <th>district</th>\n",
       "      <th>street</th>\n",
       "      <th>underground</th>\n",
       "      <th>residential_complex</th>\n",
       "      <th>flat_id</th>\n",
       "    </tr>\n",
       "  </thead>\n",
       "  <tbody>\n",
       "    <tr>\n",
       "      <th>count</th>\n",
       "      <td>7080</td>\n",
       "      <td>7080</td>\n",
       "      <td>7080</td>\n",
       "      <td>6960</td>\n",
       "      <td>6724</td>\n",
       "      <td>7080</td>\n",
       "      <td>7080</td>\n",
       "    </tr>\n",
       "    <tr>\n",
       "      <th>unique</th>\n",
       "      <td>1140</td>\n",
       "      <td>7</td>\n",
       "      <td>22</td>\n",
       "      <td>714</td>\n",
       "      <td>71</td>\n",
       "      <td>548</td>\n",
       "      <td>7080</td>\n",
       "    </tr>\n",
       "    <tr>\n",
       "      <th>top</th>\n",
       "      <td>ЛСР. Недвижимость</td>\n",
       "      <td>real_estate_agent</td>\n",
       "      <td>Primorskij</td>\n",
       "      <td>Petrovskij</td>\n",
       "      <td>Komendantskij prospekt</td>\n",
       "      <td>Solnechnyj gorod. Rezidentsii</td>\n",
       "      <td>284740225</td>\n",
       "    </tr>\n",
       "    <tr>\n",
       "      <th>freq</th>\n",
       "      <td>578</td>\n",
       "      <td>3754</td>\n",
       "      <td>1146</td>\n",
       "      <td>290</td>\n",
       "      <td>417</td>\n",
       "      <td>261</td>\n",
       "      <td>1</td>\n",
       "    </tr>\n",
       "  </tbody>\n",
       "</table>\n",
       "</div>"
      ],
      "text/plain": [
       "                   author        author_type    district      street   \n",
       "count                7080               7080        7080        6960  \\\n",
       "unique               1140                  7          22         714   \n",
       "top     ЛСР. Недвижимость  real_estate_agent  Primorskij  Petrovskij   \n",
       "freq                  578               3754        1146         290   \n",
       "\n",
       "                   underground            residential_complex    flat_id  \n",
       "count                     6724                           7080       7080  \n",
       "unique                      71                            548       7080  \n",
       "top     Komendantskij prospekt  Solnechnyj gorod. Rezidentsii  284740225  \n",
       "freq                       417                            261          1  "
      ]
     },
     "execution_count": 38,
     "metadata": {},
     "output_type": "execute_result"
    }
   ],
   "source": [
    "data.describe(include=['O'])"
   ]
  },
  {
   "cell_type": "code",
   "execution_count": 39,
   "id": "285d6380",
   "metadata": {},
   "outputs": [],
   "source": [
    "developers_top10 = data['author'].value_counts()[:10]"
   ]
  },
  {
   "cell_type": "code",
   "execution_count": 40,
   "id": "88bfddb0",
   "metadata": {},
   "outputs": [
    {
     "data": {
      "image/png": "[encoded data removed]",
      "text/plain": [
       "<Figure size 700x500 with 1 Axes>"
      ]
     },
     "metadata": {},
     "output_type": "display_data"
    }
   ],
   "source": [
    "plt.figure(figsize=(7,5))\n",
    "sns.barplot(x = developers_top10.index, y =developers_top10)\n",
    "plt.ylabel('Количество предложений на рынке')\n",
    "plt.xlabel('Застройщик')\n",
    "plt.xticks(rotation = 30,ha='right');"
   ]
  }
 ],
 "metadata": {
  "kernelspec": {
   "display_name": "Python 3 (ipykernel)",
   "language": "python",
   "name": "python3"
  },
  "language_info": {
   "codemirror_mode": {
    "name": "ipython",
    "version": 3
   },
   "file_extension": ".py",
   "mimetype": "text/x-python",
   "name": "python",
   "nbconvert_exporter": "python",
   "pygments_lexer": "ipython3",
   "version": "3.8.16"
  }
 },
 "nbformat": 4,
 "nbformat_minor": 5
}
