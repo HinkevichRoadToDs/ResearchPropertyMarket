{
 "cells": [
  {
   "cell_type": "code",
   "execution_count": 1,
   "id": "cd5a1f33",
   "metadata": {},
   "outputs": [],
   "source": [
    "import pandas as pd"
   ]
  },
  {
   "cell_type": "code",
   "execution_count": 2,
   "id": "34846b15",
   "metadata": {},
   "outputs": [],
   "source": [
    "flat_1room_sale = pd.read_csv('cian_parsing_result_sale_1_100_sankt-peterburg_03_Apr_2023.csv', encoding = 'windows-1251', sep = ';')"
   ]
  },
  {
   "cell_type": "code",
   "execution_count": 3,
   "id": "843c3f03",
   "metadata": {},
   "outputs": [],
   "source": [
    "flat_1room_sale.loc[flat_1room_sale.link == 'https://spb.cian.ru/sale/flat/280819981/','total_meters'] = 36.81"
   ]
  },
  {
   "cell_type": "code",
   "execution_count": 4,
   "id": "d27a733b",
   "metadata": {},
   "outputs": [],
   "source": [
    "flat_1room_sale['rooms_count'] = flat_1room_sale['rooms_count'].replace(-1, 1)"
   ]
  },
  {
   "cell_type": "code",
   "execution_count": 5,
   "id": "7de124c9",
   "metadata": {},
   "outputs": [],
   "source": [
    "flat_2rooms_sale = pd.read_csv('cian_parsing_result_sale_1_100_sankt-peterburg_04_Apr_2023_2.csv', encoding = 'windows-1251', sep = ';')"
   ]
  },
  {
   "cell_type": "code",
   "execution_count": 6,
   "id": "1ffd8381",
   "metadata": {},
   "outputs": [],
   "source": [
    "flat_2rooms_sale['rooms_count'] = flat_2rooms_sale['rooms_count'].replace(-1,2)"
   ]
  },
  {
   "cell_type": "code",
   "execution_count": null,
   "id": "420387fa",
   "metadata": {},
   "outputs": [],
   "source": [
    "flat_3rooms_sale = pd.read_csv('cian_parsing_result_sale_1_100_sankt-peterburg_04_Apr_2023_3.csv', encoding = 'windows-1251', sep = ';')"
   ]
  },
  {
   "cell_type": "code",
   "execution_count": null,
   "id": "c8d713f3",
   "metadata": {},
   "outputs": [],
   "source": [
    "flat_3rooms_sale['rooms_count'] = flat_3rooms_sale['rooms_count'].replace(-1,3)"
   ]
  },
  {
   "cell_type": "code",
   "execution_count": null,
   "id": "4b3b3ed6",
   "metadata": {},
   "outputs": [],
   "source": [
    "flat_4rooms_sale = pd.read_csv('cian_parsing_result_sale_1_100_sankt-peterburg_04_Apr_2023_4.csv', encoding = 'windows-1251', sep = ';')"
   ]
  },
  {
   "cell_type": "code",
   "execution_count": null,
   "id": "4099817d",
   "metadata": {},
   "outputs": [],
   "source": [
    "flat_4rooms_sale['rooms_count'] = flat_4rooms_sale['rooms_count'].replace(-1,4)"
   ]
  },
  {
   "cell_type": "code",
   "execution_count": null,
   "id": "f5bd7100",
   "metadata": {},
   "outputs": [],
   "source": [
    "flat_5rooms_sale = pd.read_csv('cian_parsing_result_sale_1_100_sankt-peterburg_04_Apr_2023_5.csv', encoding = 'windows-1251', sep = ';')"
   ]
  },
  {
   "cell_type": "code",
   "execution_count": null,
   "id": "61c7dd83",
   "metadata": {},
   "outputs": [],
   "source": [
    "flat_5rooms_sale['rooms_count'] = flat_5rooms_sale['rooms_count'].replace(-1,5)"
   ]
  },
  {
   "cell_type": "code",
   "execution_count": null,
   "id": "f585862c",
   "metadata": {},
   "outputs": [],
   "source": [
    "flat_studio_sale = pd.read_csv('cian_parsing_result_sale_1_100_sankt-peterburg_04_Apr_2023_studio.csv', encoding = 'windows-1251', sep = ';')"
   ]
  },
  {
   "cell_type": "code",
   "execution_count": null,
   "id": "6bef72c6",
   "metadata": {},
   "outputs": [],
   "source": [
    "flat_studio_sale['rooms_count'] = 0.5\n",
    "flat_studio_sale['rooms_count'].dtype"
   ]
  },
  {
   "cell_type": "code",
   "execution_count": null,
   "id": "891ee7dc",
   "metadata": {},
   "outputs": [],
   "source": [
    "data = pd.concat([flat_1room_sale,flat_2rooms_sale,flat_3rooms_sale,flat_4rooms_sale,flat_5rooms_sale,flat_studio_sale])\n",
    "data.sample(5)"
   ]
  },
  {
   "cell_type": "code",
   "execution_count": null,
   "id": "dd301304",
   "metadata": {},
   "outputs": [],
   "source": [
    "data.shape"
   ]
  },
  {
   "cell_type": "code",
   "execution_count": null,
   "id": "863ddae4",
   "metadata": {},
   "outputs": [],
   "source": [
    "#data.to_csv('cian_data_sale.csv', sep = ';',index= False)"
   ]
  },
  {
   "cell_type": "code",
   "execution_count": null,
   "id": "625fc8ec",
   "metadata": {},
   "outputs": [],
   "source": [
    "pd.read_csv('cian_data_sale.csv',sep=';')"
   ]
  },
  {
   "cell_type": "markdown",
   "id": "e87cdb71",
   "metadata": {},
   "source": [
    "## Москва"
   ]
  },
  {
   "cell_type": "code",
   "execution_count": 1,
   "id": "d13d7d11",
   "metadata": {},
   "outputs": [],
   "source": [
    "import cianparser"
   ]
  },
  {
   "cell_type": "code",
   "execution_count": 13,
   "id": "99c450ad",
   "metadata": {},
   "outputs": [
    {
     "name": "stdout",
     "output_type": "stream",
     "text": [
      "\n",
      "                              Preparing to collect information from pages..\n",
      "The absolute path to the file: \n",
      "C:\\Users\\UserSasha\\QualificationWork\\cian_parsing_result_sale_1_100_moskva_09_Apr_2023_12_25_19_921537.csv \n",
      "\n",
      "\n",
      "\n",
      "The collection of information from the pages with list of announcements is completed\n",
      "Total number of parced announcements: 0. Average price: 0 rub\n",
      "\n"
     ]
    }
   ],
   "source": [
    "data = cianparser.parse(\n",
    "    deal_type=\"sale\", # \"rent_long\", \"rent_short\", \"sale\"\n",
    "    accommodation_type=\"flat\", # \"flat\", \"room\", \"house\", \"house-part\", \"townhouse\"\n",
    "    location=\"Москва\",\n",
    "    rooms=\"studio\", # \"studio\", 1, 2, 3, 4, 5\n",
    "    start_page=1,\n",
    "    end_page=100,\n",
    "    is_saving_csv=True,\n",
    "    is_latin=True,\n",
    "    is_express_mode=False,\n",
    "    is_by_homeowner=False)\n",
    "# print(data[0])"
   ]
  }
 ],
 "metadata": {
  "kernelspec": {
   "display_name": "Python 3 (ipykernel)",
   "language": "python",
   "name": "python3"
  },
  "language_info": {
   "codemirror_mode": {
    "name": "ipython",
    "version": 3
   },
   "file_extension": ".py",
   "mimetype": "text/x-python",
   "name": "python",
   "nbconvert_exporter": "python",
   "pygments_lexer": "ipython3",
   "version": "3.8.16"
  }
 },
 "nbformat": 4,
 "nbformat_minor": 5
}
