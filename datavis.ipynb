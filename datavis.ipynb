{
 "cells": [
  {
   "cell_type": "code",
   "execution_count": null,
   "id": "75ff4b0e",
   "metadata": {},
   "outputs": [],
   "source": [
    "import plotly.express as px\n",
    "import pandas as pd\n",
    "from urllib.request import urlopen\n",
    "import json\n",
    "import numpy as np"
   ]
  },
  {
   "cell_type": "code",
   "execution_count": null,
   "id": "a5fd04c2",
   "metadata": {},
   "outputs": [],
   "source": [
    "data = pd.read_csv('https://docs.google.com/spreadsheets/d/e/2PACX-1vQxxmZm6YG54VucQ9yRgWFQXtOI-RFJ5-sOLT93LpaYGYc-vabL9LOzzkRXX-LmSROTA7hOL1C327nZ/pub?gid=213261502&single=true&output=csv')\n",
    "data.head()"
   ]
  },
  {
   "cell_type": "code",
   "execution_count": null,
   "id": "a57878c4",
   "metadata": {},
   "outputs": [],
   "source": [
    "data.district.nunique()"
   ]
  },
  {
   "cell_type": "code",
   "execution_count": null,
   "id": "d9743fc4",
   "metadata": {
    "scrolled": true
   },
   "outputs": [],
   "source": [
    "data[data.city == 'Moskva'].district.unique()"
   ]
  },
  {
   "cell_type": "code",
   "execution_count": null,
   "id": "5dd15b3d",
   "metadata": {},
   "outputs": [],
   "source": [
    "data[data.district == 'Prostornaja 4kkv v Primorskom e4-komn. kv.']"
   ]
  },
  {
   "cell_type": "code",
   "execution_count": null,
   "id": "e41d41bc",
   "metadata": {
    "scrolled": true
   },
   "outputs": [],
   "source": [
    "with open('D:/Загрузки/mo.geojson', 'r', encoding ='UTF-8') as f:\n",
    "    msk_geojson = json.load(f)\n",
    "msk_geojson"
   ]
  },
  {
   "cell_type": "code",
   "execution_count": null,
   "id": "cf3fc03d",
   "metadata": {},
   "outputs": [],
   "source": [
    "# district_dict = {}\n",
    "# for i in range(len(msk_geojson['features'])):\n",
    "#     district_dict[msk_geojson['features'][i]['properties']['OKATO']] = [msk_geojson['features'][i]['properties']['NAME'],\n",
    "#                                                                         msk_geojson['features'][i]['properties']['TYPE_MO']]\n",
    "# district_dict\n",
    "district_dict = {}\n",
    "for i in range(len(msk_geojson['features'])):\n",
    "    district_dict[msk_geojson['features'][i]['properties']['OKATO']] = [i+1,\n",
    "                                                                        msk_geojson['features'][i]['properties']['TYPE_MO'],\n",
    "                                                                        msk_geojson['features'][i]['properties']['NAME']]\n",
    "district_dict"
   ]
  },
  {
   "cell_type": "code",
   "execution_count": null,
   "id": "959e829c",
   "metadata": {},
   "outputs": [],
   "source": [
    "from_gjson = pd.DataFrame.from_dict(district_dict, \n",
    "                                    orient = 'index', \n",
    "                                    columns = ['value','type','name']).reset_index()\n",
    "from_gjson = from_gjson.drop(from_gjson[from_gjson['type'] == 'Поселение'].index, axis =0)\n",
    "from_gjson.head()"
   ]
  },
  {
   "cell_type": "code",
   "execution_count": null,
   "id": "a175133c",
   "metadata": {
    "scrolled": true
   },
   "outputs": [],
   "source": [
    "# state_geo = msk_geojson\n",
    "# state_data = from_gjson\n",
    "\n",
    "# m = folium.Map(location=[48, -102], zoom_start=3)\n",
    "\n",
    "# folium.Choropleth(\n",
    "#     geo_data=msk_geojson,\n",
    "#     name=\"choropleth\",\n",
    "#     data=from_gjson,\n",
    "#     columns=[\"index\", \"value\"],\n",
    "#     key_on=\"feature.properties.OKATO\",\n",
    "#     fill_color=\"YlGn\",\n",
    "#     fill_opacity=0.7,\n",
    "#     line_opacity=0.2,\n",
    "#     legend_name=\"Unemployment Rate (%)\",\n",
    "# ).add_to(m)\n",
    "\n",
    "# folium.LayerControl().add_to(m)\n",
    "\n",
    "# m"
   ]
  },
  {
   "cell_type": "code",
   "execution_count": null,
   "id": "dc03d482",
   "metadata": {
    "scrolled": true
   },
   "outputs": [],
   "source": [
    "import requests\n",
    "import pandas as pd\n",
    "from bs4 import BeautifulSoup\n",
    "#https://www.irn.ru/kvartiry/moskva/ceny-po-rayonam/?prn=1\n",
    "with open('D:/Загрузки/html_prices.html', encoding = 'utf-8') as f:\n",
    "    html = f.read()\n",
    "    \n",
    "soup = BeautifulSoup(html, \"html.parser\")\n",
    "\n",
    "# Нахождение таблицы на странице\n",
    "table = soup.find(\"table\")\n",
    "\n",
    "# Преобразование таблицы в датафрейм pandas\n",
    "df = pd.read_html(str(table))[0]\n",
    "\n",
    "# Вывод результата\n",
    "#df['Рейтинг районов и метро Москвы по стоимости квартир, руб./кв.м.  (www.irn.ru)  Это средняя цена квадратного метра жилья по районам.  Подробнее']"
   ]
  },
  {
   "cell_type": "code",
   "execution_count": null,
   "id": "ad1b616c",
   "metadata": {
    "scrolled": true
   },
   "outputs": [],
   "source": [
    "data_mean_priceperm2 = df['Рейтинг районов и метро Москвы по стоимости квартир, руб./кв.м.  (www.irn.ru)  Это средняя цена квадратного метра жилья по районам.  Подробнее'][['районы','Апр 23']]\n",
    "data_mean_priceperm2"
   ]
  },
  {
   "cell_type": "code",
   "execution_count": null,
   "id": "0a6f1411",
   "metadata": {},
   "outputs": [],
   "source": [
    "new_data = data_mean_priceperm2['районы'].str.split(',', expand =True) \\\n",
    "                        .stack().reset_index(level=1,drop =True) \\\n",
    "                        .rename('районы')\n",
    "data_mean_priceperm2 = pd.merge(data_mean_priceperm2.drop('районы', axis =1),new_data, left_index=True,right_index=True)\n",
    "data_mean_priceperm2"
   ]
  },
  {
   "cell_type": "code",
   "execution_count": null,
   "id": "ec130a35",
   "metadata": {},
   "outputs": [],
   "source": [
    "data_mean_priceperm2['Апр 23'] = data_mean_priceperm2['Апр 23'].str.replace(u'\\xa0','').astype('int')\n",
    "data_mean_priceperm2.rename(columns = {'Апр 23':'Цена за м2'}, inplace =True)"
   ]
  },
  {
   "cell_type": "code",
   "execution_count": null,
   "id": "5df78397",
   "metadata": {
    "scrolled": true
   },
   "outputs": [],
   "source": [
    "data_mean_priceperm2['районы'] = data_mean_priceperm2['районы'].str.replace('ё','е')"
   ]
  },
  {
   "cell_type": "code",
   "execution_count": null,
   "id": "6559efde",
   "metadata": {},
   "outputs": [],
   "source": [
    "data_mean_priceperm2.loc[data_mean_priceperm2['районы'] =='Филевский парк','районы'] = 'Филевский Парк'\n",
    "data_mean_priceperm2.loc[data_mean_priceperm2['районы'] =='Зеленоград:  Крюково','районы'] = 'Крюково'\n",
    "data_mean_priceperm2.loc[data_mean_priceperm2['районы'] =='Марьина роща','районы'] = 'Марьина Роща'\n",
    "data_mean_priceperm2.loc[data_mean_priceperm2['районы'] =='Соколиная гора','районы'] = 'Соколиная Гора'\n"
   ]
  },
  {
   "cell_type": "code",
   "execution_count": null,
   "id": "199da1e0",
   "metadata": {},
   "outputs": [],
   "source": [
    "data_mean_priceperm2['районы'] = data_mean_priceperm2['районы'].str.lstrip()"
   ]
  },
  {
   "cell_type": "code",
   "execution_count": null,
   "id": "cc7a7b72",
   "metadata": {},
   "outputs": [],
   "source": [
    "from_gjson.name = from_gjson.name.str.replace('ё','е')"
   ]
  },
  {
   "cell_type": "code",
   "execution_count": null,
   "id": "e87c0071",
   "metadata": {},
   "outputs": [],
   "source": [
    "full_data = pd.merge(data_mean_priceperm2,from_gjson, left_on = 'районы',right_on ='name')\n",
    "full_data.drop(['value','type'], inplace =True, axis =1)"
   ]
  },
  {
   "attachments": {
    "image.png": {
     "image/png": "[encoded data removed]"
    }
   },
   "cell_type": "markdown",
   "id": "be3fa278",
   "metadata": {},
   "source": [
    "![image.png](attachment:image.png)"
   ]
  },
  {
   "cell_type": "code",
   "execution_count": null,
   "id": "6e0075db",
   "metadata": {},
   "outputs": [],
   "source": [
    "new_data = pd.DataFrame(np.array([[101970,'Троицк','45298578','Троицк'],\n",
    "                                  [146799,'Щербинка','45297581','Щербинка']]), \n",
    "                        columns = ['Цена за м2','районы','index','name'])\n",
    "full_data = pd.concat([full_data,new_data],ignore_index=True)\n",
    "full_data"
   ]
  },
  {
   "cell_type": "code",
   "execution_count": null,
   "id": "66accbe6",
   "metadata": {},
   "outputs": [],
   "source": [
    "full_data.drop(['районы'], axis = 1, inplace =True)"
   ]
  },
  {
   "cell_type": "code",
   "execution_count": null,
   "id": "7f636210",
   "metadata": {
    "scrolled": true
   },
   "outputs": [],
   "source": [
    "from_gjson[~from_gjson.name.isin(full_data.name)]"
   ]
  },
  {
   "cell_type": "code",
   "execution_count": null,
   "id": "b577e29f",
   "metadata": {
    "scrolled": false
   },
   "outputs": [],
   "source": [
    "data_mean_priceperm2[~data_mean_priceperm2['районы'].isin(full_data.name)]\n",
    "# Жулебино уже есть\n",
    "# Остоженка в Хамовниках\n",
    "# Центр тоже\n",
    "# Кожухово в Косино-Ухтомском"
   ]
  },
  {
   "cell_type": "code",
   "execution_count": null,
   "id": "72b0b422",
   "metadata": {},
   "outputs": [],
   "source": [
    "full_data['Цена за м2'] = full_data['Цена за м2'].astype('int')"
   ]
  },
  {
   "cell_type": "code",
   "execution_count": null,
   "id": "5e8cbde6",
   "metadata": {},
   "outputs": [],
   "source": [
    "full_data.rename({'index': 'OKATO'})"
   ]
  },
  {
   "cell_type": "code",
   "execution_count": null,
   "id": "ae05b02d",
   "metadata": {
    "scrolled": true
   },
   "outputs": [],
   "source": [
    "full_data = full_data.rename(columns={'index':'OKATO'})\n",
    "full_data.head()"
   ]
  },
  {
   "cell_type": "code",
   "execution_count": null,
   "id": "76c78ac8",
   "metadata": {},
   "outputs": [],
   "source": [
    "full_data.to_csv('geodata_msk.csv', sep = ';',index= False)"
   ]
  },
  {
   "cell_type": "code",
   "execution_count": null,
   "id": "df107666",
   "metadata": {
    "scrolled": true
   },
   "outputs": [],
   "source": [
    "import plotly.colors as colors\n",
    "custom_color = colors.sequential.Plasma\n",
    "\n",
    "fig = px.choropleth_mapbox(full_data, \n",
    "                           geojson=msk_geojson, \n",
    "                           locations='OKATO', \n",
    "                           color='Цена за м2',\n",
    "                           color_continuous_scale=colors.sequential.Plasma,\n",
    "                           featureidkey = 'properties.OKATO',\n",
    "                           mapbox_style=\"carto-positron\",\n",
    "                           zoom=8.5, \n",
    "                           center = {\"lat\": 55.75, \"lon\":37.61},\n",
    "                           opacity=0.2,\n",
    "                           range_color=(full_data['Цена за м2'].min(), full_data['Цена за м2'].max()),\n",
    "                           labels={'Цена за м2':'Цена квадратного метра жилья'}\n",
    "                          )\n",
    "fig.update_layout(margin={\"r\":0,\"t\":0,\"l\":0,\"b\":0})\n",
    "fig.show(render = 'notebook')"
   ]
  },
  {
   "cell_type": "code",
   "execution_count": null,
   "id": "4d136f3b",
   "metadata": {},
   "outputs": [],
   "source": [
    "data.head()"
   ]
  }
 ],
 "metadata": {
  "kernelspec": {
   "display_name": "Python 3 (ipykernel)",
   "language": "python",
   "name": "python3"
  },
  "language_info": {
   "codemirror_mode": {
    "name": "ipython",
    "version": 3
   },
   "file_extension": ".py",
   "mimetype": "text/x-python",
   "name": "python",
   "nbconvert_exporter": "python",
   "pygments_lexer": "ipython3",
   "version": "3.8.8"
  }
 },
 "nbformat": 4,
 "nbformat_minor": 5
}
